{
 "cells": [
  {
   "cell_type": "code",
   "execution_count": 1,
   "metadata": {},
   "outputs": [],
   "source": [
    "import pandas as pd\n",
    "import numpy as np\n",
    "import matplotlib.pyplot as plt\n",
    "import seaborn as sns\n",
    "%matplotlib inline\n",
    "\n",
    "data_dir = './data'\n",
    "from tqdm import tqdm\n",
    "import optuna\n",
    "\n",
    "from scipy.stats import loguniform\n",
    "\n",
    "\n",
    "from sklearn.ensemble import ExtraTreesClassifier, RandomForestClassifier\n",
    "from sklearn.tree import ExtraTreeClassifier\n",
    "from lightgbm import LGBMClassifier\n",
    "from xgboost import XGBClassifier\n",
    "from catboost import CatBoostClassifier\n",
    "\n",
    "from sklearn.linear_model import LogisticRegression\n",
    "from sklearn.svm import SVC\n",
    "from sklearn.neighbors import KNeighborsClassifier\n",
    "from sklearn.gaussian_process import GaussianProcessClassifier\n",
    "from sklearn.naive_bayes import GaussianNB, MultinomialNB, ComplementNB\n",
    "\n",
    "import keras\n",
    "import keras.backend as K\n",
    "from keras.layers import (Dense, Input, Activation, Convolution2D, MaxPooling2D, BatchNormalization, \n",
    "                          Dropout, Flatten, SpatialDropout2D, Add, Concatenate , Reshape,\n",
    "                         GlobalAveragePooling2D)\n",
    "from keras.callbacks import EarlyStopping, ModelCheckpoint\n",
    "from keras.models import Model\n",
    "from keras.wrappers.scikit_learn import KerasRegressor\n",
    "from keras.optimizers import Nadam\n",
    "\n",
    "def mish(x):\n",
    "    return x * K.tanh(K.softplus(x))\n",
    "\n",
    "from sklearn.model_selection import cross_val_score, cross_val_predict\n",
    "from sklearn.metrics import f1_score, accuracy_score\n",
    "\n",
    "import optuna\n",
    "import random"
   ]
  },
  {
   "cell_type": "code",
   "execution_count": 2,
   "metadata": {},
   "outputs": [],
   "source": [
    "from tensorflow.compat.v1 import ConfigProto, InteractiveSession\n",
    "config=ConfigProto()\n",
    "config.gpu_options.allow_growth=True\n",
    "session=InteractiveSession(config=config)"
   ]
  },
  {
   "cell_type": "markdown",
   "metadata": {},
   "source": [
    "# Load Data"
   ]
  },
  {
   "cell_type": "code",
   "execution_count": 3,
   "metadata": {},
   "outputs": [
    {
     "name": "stdout",
     "output_type": "stream",
     "text": [
      "(2048, 786) (20480, 785) (20480, 1)\n"
     ]
    }
   ],
   "source": [
    "train = pd.read_csv(data_dir + '/train.csv', index_col = 'id')\n",
    "test = pd.read_csv(data_dir + '/test.csv', index_col='id')\n",
    "submission = pd.read_csv(data_dir + '/submission.csv', index_col='id')\n",
    "print(train.shape, test.shape, submission.shape)"
   ]
  },
  {
   "cell_type": "code",
   "execution_count": 4,
   "metadata": {},
   "outputs": [
    {
     "name": "stdout",
     "output_type": "stream",
     "text": [
      "(2048, 810) (2048,) (20480, 810)\n"
     ]
    }
   ],
   "source": [
    "feature_names = list(test)\n",
    "feature_names.remove('letter')\n",
    "\n",
    "train[feature_names] = (train[feature_names] / 255)\n",
    "test[feature_names] = (test[feature_names] / 255)\n",
    "\n",
    "train= pd.get_dummies(train, columns=['letter'])\n",
    "test = pd.get_dummies(test, columns=['letter'])\n",
    "\n",
    "Xtrain = train[list(test)]\n",
    "Xtest = test.copy()\n",
    "Ytrain = np.array(train['digit'])\n",
    "\n",
    "print(Xtrain.shape, Ytrain.shape, Xtest.shape)"
   ]
  },
  {
   "cell_type": "markdown",
   "metadata": {},
   "source": [
    "# Build Models"
   ]
  },
  {
   "cell_type": "code",
   "execution_count": 5,
   "metadata": {},
   "outputs": [],
   "source": [
    "def build_fn(filter_size=64, init='glorot_normal', num_conv=3):\n",
    "    dropout_rate=0.5\n",
    "    \n",
    "    \n",
    "    model_in = Input(shape=Xtrain.shape[1:])\n",
    "\n",
    "    image_in = model_in[:,:-26]\n",
    "    image_in = Reshape((28,28,1))(image_in)\n",
    "    \n",
    "    letter_in = model_in[:,-26:]\n",
    "    \n",
    "    if num_conv == 3:\n",
    "        x = Convolution2D(filter_size, 3, padding='same',kernel_initializer=init)(image_in)\n",
    "        x_res = x\n",
    "        x = BatchNormalization()(x)\n",
    "        x = Activation(mish)(x)\n",
    "        x = SpatialDropout2D(dropout_rate)(x)\n",
    "\n",
    "        x = Convolution2D(filter_size, 3, padding='same', kernel_initializer=init)(x)\n",
    "        x = BatchNormalization()(x)\n",
    "        x = Activation(mish)(x)\n",
    "        x = SpatialDropout2D(dropout_rate)(x)\n",
    "\n",
    "        x = Convolution2D(filter_size, 3, padding='same', kernel_initializer=init)(x)\n",
    "        x = Add()([x_res, x])\n",
    "        x = BatchNormalization()(x)\n",
    "        x = Activation(mish)(x)\n",
    "        x = MaxPooling2D()(x)\n",
    "        x = SpatialDropout2D(dropout_rate)(x)\n",
    "\n",
    "\n",
    "        x = Convolution2D(filter_size*2, 3, padding='same',kernel_initializer=init)(x)\n",
    "        x_res = x\n",
    "        x = BatchNormalization()(x)\n",
    "        x = Activation(mish)(x)\n",
    "        x = SpatialDropout2D(dropout_rate)(x)\n",
    "\n",
    "        x = Convolution2D(filter_size*2, 3, padding='same', kernel_initializer=init)(x)\n",
    "        x = BatchNormalization()(x)\n",
    "        x = Activation(mish)(x)\n",
    "        x = SpatialDropout2D(dropout_rate)(x)\n",
    "\n",
    "        x = Convolution2D(filter_size*2, 3, padding='same', kernel_initializer=init)(x)\n",
    "        x = Add()([x_res, x])\n",
    "        x = BatchNormalization()(x)\n",
    "        x = Activation(mish)(x)\n",
    "        x = MaxPooling2D()(x)\n",
    "        x = SpatialDropout2D(dropout_rate)(x)\n",
    "\n",
    "\n",
    "\n",
    "        x = Convolution2D(filter_size*4, 3, padding='same',kernel_initializer=init)(x)\n",
    "        x_res = x\n",
    "        x = BatchNormalization()(x)\n",
    "        x = Activation(mish)(x)\n",
    "        x = SpatialDropout2D(dropout_rate)(x)\n",
    "\n",
    "        x = Convolution2D(filter_size*4, 3, padding='same', kernel_initializer=init)(x)\n",
    "        x = BatchNormalization()(x)\n",
    "        x = Activation(mish)(x)\n",
    "        x = SpatialDropout2D(dropout_rate)(x)\n",
    "\n",
    "        x = Convolution2D(filter_size*4, 3, padding='same', kernel_initializer=init)(x)\n",
    "        x = Add()([x_res, x])\n",
    "        x = BatchNormalization()(x)\n",
    "        x = Activation(mish)(x)\n",
    "        x = MaxPooling2D()(x)\n",
    "        x = SpatialDropout2D(dropout_rate)(x)\n",
    "\n",
    "\n",
    "        x = GlobalAveragePooling2D()(x)\n",
    "\n",
    "        x = Concatenate(axis=1)([x, letter_in])\n",
    "\n",
    "\n",
    "        model_out = Dense(units=10, activation='softmax')(x)\n",
    "        model = Model(model_in, model_out)\n",
    "        model.compile(loss='sparse_categorical_crossentropy', optimizer='Nadam', metrics=['accuracy'])\n",
    "\n",
    "        return model\n",
    "    \n",
    "    elif num_conv == 4:\n",
    "        x = Convolution2D(filter_size, 3, padding='same',kernel_initializer=init)(image_in)\n",
    "        x_res = x\n",
    "        x = BatchNormalization()(x)\n",
    "        x = Activation(mish)(x)\n",
    "        x = SpatialDropout2D(dropout_rate)(x)\n",
    "\n",
    "        x = Convolution2D(filter_size, 3, padding='same', kernel_initializer=init)(x)\n",
    "        x_res1 = x\n",
    "        x = BatchNormalization()(x)\n",
    "        x = Activation(mish)(x)\n",
    "        x = SpatialDropout2D(dropout_rate)(x)\n",
    "\n",
    "        x = Convolution2D(filter_size, 3, padding='same', kernel_initializer=init)(x)\n",
    "        x = Add()([x_res1, x])\n",
    "        x = BatchNormalization()(x)\n",
    "        x = Activation(mish)(x)\n",
    "        x = SpatialDropout2D(dropout_rate)(x)\n",
    "\n",
    "        x = Convolution2D(filter_size, 3, padding='same', kernel_initializer=init)(x)\n",
    "        x = Add()([x_res, x])\n",
    "        x = BatchNormalization()(x)\n",
    "        x = Activation(mish)(x)\n",
    "        x = MaxPooling2D()(x)\n",
    "        x = SpatialDropout2D(dropout_rate)(x)\n",
    "\n",
    "\n",
    "\n",
    "\n",
    "        x = Convolution2D(filter_size*2, 3, padding='same',kernel_initializer=init)(x)\n",
    "        x_res = x\n",
    "        x = BatchNormalization()(x)\n",
    "        x = Activation(mish)(x)\n",
    "        x = SpatialDropout2D(dropout_rate)(x)\n",
    "\n",
    "        x = Convolution2D(filter_size*2, 3, padding='same', kernel_initializer=init)(x)\n",
    "        x_res1 = x\n",
    "        x = BatchNormalization()(x)\n",
    "        x = Activation(mish)(x)\n",
    "        x = SpatialDropout2D(dropout_rate)(x)\n",
    "\n",
    "        x = Convolution2D(filter_size*2, 3, padding='same', kernel_initializer=init)(x)\n",
    "        x = Add()([x_res1, x])\n",
    "        x = BatchNormalization()(x)\n",
    "        x = Activation(mish)(x)\n",
    "        x = SpatialDropout2D(dropout_rate)(x)\n",
    "\n",
    "        x = Convolution2D(filter_size*2, 3, padding='same', kernel_initializer=init)(x)\n",
    "        x = Add()([x_res, x])\n",
    "        x = BatchNormalization()(x)\n",
    "        x = Activation(mish)(x)\n",
    "        x = MaxPooling2D()(x)\n",
    "        x = SpatialDropout2D(dropout_rate)(x)\n",
    "\n",
    "\n",
    "\n",
    "        x = Convolution2D(filter_size*4, 3, padding='same',kernel_initializer=init)(x)\n",
    "        x_res = x\n",
    "        x = BatchNormalization()(x)\n",
    "        x = Activation(mish)(x)\n",
    "        x = SpatialDropout2D(dropout_rate)(x)\n",
    "\n",
    "        x = Convolution2D(filter_size*4, 3, padding='same', kernel_initializer=init)(x)\n",
    "        x_res1 = x\n",
    "        x = BatchNormalization()(x)\n",
    "        x = Activation(mish)(x)\n",
    "        x = SpatialDropout2D(dropout_rate)(x)\n",
    "\n",
    "        x = Convolution2D(filter_size*4, 3, padding='same', kernel_initializer=init)(x)\n",
    "        x = Add()([x_res1, x])\n",
    "        x = BatchNormalization()(x)\n",
    "        x = Activation(mish)(x)\n",
    "        x = SpatialDropout2D(dropout_rate)(x)\n",
    "\n",
    "        x = Convolution2D(filter_size*4, 3, padding='same', kernel_initializer=init)(x)\n",
    "        x = Add()([x_res, x])\n",
    "        x = BatchNormalization()(x)\n",
    "        x = Activation(mish)(x)\n",
    "        x = MaxPooling2D()(x)\n",
    "        x = SpatialDropout2D(dropout_rate)(x)\n",
    "\n",
    "\n",
    "        x = GlobalAveragePooling2D()(x)\n",
    "\n",
    "        x = Concatenate(axis=1)([x, letter_in])\n",
    "\n",
    "        model_out = Dense(units=10, activation='softmax')(x)\n",
    "        model = Model(model_in, model_out)\n",
    "        model.compile(loss='sparse_categorical_crossentropy', optimizer='Nadam', metrics=['accuracy'])\n",
    "\n",
    "        return model\n",
    "    \n",
    "    else:\n",
    "        raise(ValueError)"
   ]
  },
  {
   "cell_type": "markdown",
   "metadata": {},
   "source": [
    "# Stacking"
   ]
  },
  {
   "cell_type": "markdown",
   "metadata": {},
   "source": [
    "## Ensemble Lv. 0"
   ]
  },
  {
   "cell_type": "markdown",
   "metadata": {},
   "source": [
    "Lv. 0 에서는 케라스로 만든 24개의 모델과, 다른 알고리즘들을 랜덤한 파라미터로 학습시켜 총 428개의 모델을 만듭니다.  \n",
    "케라스 모델은 나름 열심히 실험해서 만들었지만 정확도를 높이는 것에 한계를 느껴서, 나머지 모델들의 집단지성으로 케라스 모델이 틀렸던 부분 몇 개를 더 맞추게 하는 것이 목표입니다. "
   ]
  },
  {
   "cell_type": "code",
   "execution_count": 6,
   "metadata": {},
   "outputs": [],
   "source": [
    "stack_train_1 = np.array(pd.DataFrame(data=None, index=train.index))\n",
    "stack_test_1 = np.array(pd.DataFrame(data=None, index=submission.index))"
   ]
  },
  {
   "cell_type": "markdown",
   "metadata": {},
   "source": [
    "### Keras"
   ]
  },
  {
   "cell_type": "code",
   "execution_count": 7,
   "metadata": {
    "scrolled": true
   },
   "outputs": [
    {
     "name": "stdout",
     "output_type": "stream",
     "text": [
      "Score : 0.90966796875\n",
      "(2048, 10) (20480, 10) \n",
      "\n",
      "Score : 0.9013671875\n",
      "(2048, 20) (20480, 20) \n",
      "\n",
      "Score : 0.8955078125\n",
      "(2048, 30) (20480, 30) \n",
      "\n",
      "Score : 0.90478515625\n",
      "(2048, 40) (20480, 40) \n",
      "\n",
      "Score : 0.8935546875\n",
      "(2048, 50) (20480, 50) \n",
      "\n",
      "Score : 0.9013671875\n",
      "(2048, 60) (20480, 60) \n",
      "\n",
      "Score : 0.904296875\n",
      "(2048, 70) (20480, 70) \n",
      "\n",
      "Score : 0.900390625\n",
      "(2048, 80) (20480, 80) \n",
      "\n",
      "Score : 0.89697265625\n",
      "(2048, 90) (20480, 90) \n",
      "\n",
      "Score : 0.8916015625\n",
      "(2048, 100) (20480, 100) \n",
      "\n",
      "Score : 0.90380859375\n",
      "(2048, 110) (20480, 110) \n",
      "\n",
      "Score : 0.8955078125\n",
      "(2048, 120) (20480, 120) \n",
      "\n",
      "Score : 0.89453125\n",
      "(2048, 130) (20480, 130) \n",
      "\n",
      "Score : 0.90185546875\n",
      "(2048, 140) (20480, 140) \n",
      "\n",
      "Score : 0.89501953125\n",
      "(2048, 150) (20480, 150) \n",
      "\n",
      "Score : 0.8994140625\n",
      "(2048, 160) (20480, 160) \n",
      "\n",
      "Score : 0.9013671875\n",
      "(2048, 170) (20480, 170) \n",
      "\n",
      "Score : 0.8994140625\n",
      "(2048, 180) (20480, 180) \n",
      "\n",
      "Score : 0.90625\n",
      "(2048, 190) (20480, 190) \n",
      "\n",
      "Score : 0.90771484375\n",
      "(2048, 200) (20480, 200) \n",
      "\n",
      "Score : 0.8984375\n",
      "(2048, 210) (20480, 210) \n",
      "\n",
      "Score : 0.904296875\n",
      "(2048, 220) (20480, 220) \n",
      "\n",
      "Score : 0.89599609375\n",
      "(2048, 230) (20480, 230) \n",
      "\n",
      "Score : 0.90625\n",
      "(2048, 240) (20480, 240) \n",
      "\n"
     ]
    }
   ],
   "source": [
    "for filter_size in [128,64]:\n",
    "    for init in ['he_normal','he_uniform','glorot_normal','glorot_uniform','lecun_normal','lecun_uniform']:\n",
    "        for num_conv in [3, 4]:\n",
    "            params = {'filter_size' : filter_size, 'init' : init, 'num_conv' : num_conv}\n",
    "            model = KerasRegressor(build_fn, **params, epochs=150, batch_size=32, verbose=0, shuffle=True)\n",
    "            \n",
    "            train_preds = cross_val_predict(model, Xtrain, Ytrain, cv=5)\n",
    "            print(f\"Score : {accuracy_score(Ytrain, np.argmax(train_preds, axis=1))}\")\n",
    "            stack_train_1 = np.concatenate((stack_train_1, train_preds), axis=1)\n",
    "            \n",
    "            model.fit(Xtrain, Ytrain)\n",
    "            stack_test_1 = np.concatenate((stack_test_1, model.predict(Xtest)), axis=1)\n",
    "            \n",
    "            \n",
    "            pd.DataFrame(stack_train_1).to_csv('stack_train_1.csv', index=False)\n",
    "            pd.DataFrame(stack_test_1).to_csv('stack_test_1.csv', index=False)\n",
    "            \n",
    "            print(stack_train_1.shape, stack_test_1.shape, '\\n')\n",
    "            K.clear_session()"
   ]
  },
  {
   "cell_type": "markdown",
   "metadata": {},
   "source": [
    "### LightGBM"
   ]
  },
  {
   "cell_type": "code",
   "execution_count": 8,
   "metadata": {
    "scrolled": true
   },
   "outputs": [
    {
     "name": "stdout",
     "output_type": "stream",
     "text": [
      "Score : 0.49462890625\n",
      "(2048, 250) (20480, 250) \n",
      "\n",
      "Score : 0.4892578125\n",
      "(2048, 260) (20480, 260) \n",
      "\n",
      "Score : 0.5166015625\n",
      "(2048, 270) (20480, 270) \n",
      "\n",
      "Score : 0.45703125\n",
      "(2048, 280) (20480, 280) \n",
      "\n",
      "Score : 0.28125\n",
      "(2048, 290) (20480, 290) \n",
      "\n",
      "Score : 0.44677734375\n",
      "(2048, 300) (20480, 300) \n",
      "\n",
      "Score : 0.466796875\n",
      "(2048, 310) (20480, 310) \n",
      "\n",
      "Score : 0.5244140625\n",
      "(2048, 320) (20480, 320) \n",
      "\n",
      "Score : 0.4453125\n",
      "(2048, 330) (20480, 330) \n",
      "\n",
      "Score : 0.53564453125\n",
      "(2048, 340) (20480, 340) \n",
      "\n",
      "Score : 0.49169921875\n",
      "(2048, 350) (20480, 350) \n",
      "\n",
      "Score : 0.46923828125\n",
      "(2048, 360) (20480, 360) \n",
      "\n",
      "Score : 0.52099609375\n",
      "(2048, 370) (20480, 370) \n",
      "\n",
      "Score : 0.53759765625\n",
      "(2048, 380) (20480, 380) \n",
      "\n",
      "Score : 0.5283203125\n",
      "(2048, 390) (20480, 390) \n",
      "\n",
      "Score : 0.52685546875\n",
      "(2048, 400) (20480, 400) \n",
      "\n",
      "Score : 0.47021484375\n",
      "(2048, 410) (20480, 410) \n",
      "\n",
      "Score : 0.517578125\n",
      "(2048, 420) (20480, 420) \n",
      "\n",
      "Score : 0.5322265625\n",
      "(2048, 430) (20480, 430) \n",
      "\n",
      "Score : 0.26708984375\n",
      "(2048, 440) (20480, 440) \n",
      "\n",
      "Score : 0.54248046875\n",
      "(2048, 450) (20480, 450) \n",
      "\n",
      "Score : 0.53125\n",
      "(2048, 460) (20480, 460) \n",
      "\n",
      "Score : 0.54248046875\n",
      "(2048, 470) (20480, 470) \n",
      "\n",
      "Score : 0.5009765625\n",
      "(2048, 480) (20480, 480) \n",
      "\n",
      "Score : 0.5078125\n",
      "(2048, 490) (20480, 490) \n",
      "\n",
      "Score : 0.47412109375\n",
      "(2048, 500) (20480, 500) \n",
      "\n",
      "Score : 0.47216796875\n",
      "(2048, 510) (20480, 510) \n",
      "\n",
      "Score : 0.4599609375\n",
      "(2048, 520) (20480, 520) \n",
      "\n",
      "Score : 0.408203125\n",
      "(2048, 530) (20480, 530) \n",
      "\n",
      "Score : 0.5029296875\n",
      "(2048, 540) (20480, 540) \n",
      "\n",
      "Score : 0.4580078125\n",
      "(2048, 550) (20480, 550) \n",
      "\n",
      "Score : 0.53173828125\n",
      "(2048, 560) (20480, 560) \n",
      "\n",
      "Score : 0.5048828125\n",
      "(2048, 570) (20480, 570) \n",
      "\n",
      "Score : 0.4970703125\n",
      "(2048, 580) (20480, 580) \n",
      "\n",
      "Score : 0.515625\n",
      "(2048, 590) (20480, 590) \n",
      "\n",
      "Score : 0.515625\n",
      "(2048, 600) (20480, 600) \n",
      "\n",
      "Score : 0.44140625\n",
      "(2048, 610) (20480, 610) \n",
      "\n",
      "Score : 0.52490234375\n",
      "(2048, 620) (20480, 620) \n",
      "\n",
      "Score : 0.49658203125\n",
      "(2048, 630) (20480, 630) \n",
      "\n",
      "Score : 0.4736328125\n",
      "(2048, 640) (20480, 640) \n",
      "\n",
      "Score : 0.43603515625\n",
      "(2048, 650) (20480, 650) \n",
      "\n",
      "Score : 0.54296875\n",
      "(2048, 660) (20480, 660) \n",
      "\n",
      "Score : 0.5068359375\n",
      "(2048, 670) (20480, 670) \n",
      "\n",
      "Score : 0.5224609375\n",
      "(2048, 680) (20480, 680) \n",
      "\n",
      "Score : 0.51318359375\n",
      "(2048, 690) (20480, 690) \n",
      "\n",
      "Score : 0.5380859375\n",
      "(2048, 700) (20480, 700) \n",
      "\n",
      "Score : 0.5009765625\n",
      "(2048, 710) (20480, 710) \n",
      "\n",
      "Score : 0.46533203125\n",
      "(2048, 720) (20480, 720) \n",
      "\n",
      "Score : 0.53564453125\n",
      "(2048, 730) (20480, 730) \n",
      "\n",
      "Score : 0.5302734375\n",
      "(2048, 740) (20480, 740) \n",
      "\n"
     ]
    },
    {
     "data": {
      "text/html": [
       "<div>\n",
       "<style scoped>\n",
       "    .dataframe tbody tr th:only-of-type {\n",
       "        vertical-align: middle;\n",
       "    }\n",
       "\n",
       "    .dataframe tbody tr th {\n",
       "        vertical-align: top;\n",
       "    }\n",
       "\n",
       "    .dataframe thead th {\n",
       "        text-align: right;\n",
       "    }\n",
       "</style>\n",
       "<table border=\"1\" class=\"dataframe\">\n",
       "  <thead>\n",
       "    <tr style=\"text-align: right;\">\n",
       "      <th></th>\n",
       "      <th>n_estimators</th>\n",
       "      <th>colsample_bytree</th>\n",
       "      <th>subsample</th>\n",
       "      <th>reg_alpha</th>\n",
       "      <th>reg_lambda</th>\n",
       "      <th>learning_rate</th>\n",
       "      <th>drop_rate</th>\n",
       "      <th>uniform_drop</th>\n",
       "      <th>num_leaves</th>\n",
       "    </tr>\n",
       "  </thead>\n",
       "  <tbody>\n",
       "    <tr>\n",
       "      <th>0</th>\n",
       "      <td>709</td>\n",
       "      <td>0.507673</td>\n",
       "      <td>0.726647</td>\n",
       "      <td>16.062030</td>\n",
       "      <td>29.047716</td>\n",
       "      <td>0.042097</td>\n",
       "      <td>0.798576</td>\n",
       "      <td>False</td>\n",
       "      <td>38</td>\n",
       "    </tr>\n",
       "    <tr>\n",
       "      <th>1</th>\n",
       "      <td>228</td>\n",
       "      <td>0.747998</td>\n",
       "      <td>0.728451</td>\n",
       "      <td>14.765572</td>\n",
       "      <td>29.322917</td>\n",
       "      <td>0.150799</td>\n",
       "      <td>0.699343</td>\n",
       "      <td>False</td>\n",
       "      <td>83</td>\n",
       "    </tr>\n",
       "    <tr>\n",
       "      <th>2</th>\n",
       "      <td>276</td>\n",
       "      <td>0.723912</td>\n",
       "      <td>0.614903</td>\n",
       "      <td>6.995573</td>\n",
       "      <td>18.186237</td>\n",
       "      <td>0.248113</td>\n",
       "      <td>0.463669</td>\n",
       "      <td>False</td>\n",
       "      <td>123</td>\n",
       "    </tr>\n",
       "    <tr>\n",
       "      <th>3</th>\n",
       "      <td>169</td>\n",
       "      <td>0.625281</td>\n",
       "      <td>0.558786</td>\n",
       "      <td>19.215400</td>\n",
       "      <td>19.231749</td>\n",
       "      <td>0.095519</td>\n",
       "      <td>0.305552</td>\n",
       "      <td>True</td>\n",
       "      <td>91</td>\n",
       "    </tr>\n",
       "    <tr>\n",
       "      <th>4</th>\n",
       "      <td>389</td>\n",
       "      <td>0.519690</td>\n",
       "      <td>0.507942</td>\n",
       "      <td>23.742333</td>\n",
       "      <td>28.399527</td>\n",
       "      <td>0.248631</td>\n",
       "      <td>0.745379</td>\n",
       "      <td>False</td>\n",
       "      <td>97</td>\n",
       "    </tr>\n",
       "    <tr>\n",
       "      <th>5</th>\n",
       "      <td>758</td>\n",
       "      <td>0.590926</td>\n",
       "      <td>0.853112</td>\n",
       "      <td>26.767077</td>\n",
       "      <td>24.079680</td>\n",
       "      <td>0.044559</td>\n",
       "      <td>0.655872</td>\n",
       "      <td>True</td>\n",
       "      <td>59</td>\n",
       "    </tr>\n",
       "    <tr>\n",
       "      <th>6</th>\n",
       "      <td>150</td>\n",
       "      <td>0.825917</td>\n",
       "      <td>0.891805</td>\n",
       "      <td>24.500612</td>\n",
       "      <td>0.255633</td>\n",
       "      <td>0.283326</td>\n",
       "      <td>0.733359</td>\n",
       "      <td>True</td>\n",
       "      <td>35</td>\n",
       "    </tr>\n",
       "    <tr>\n",
       "      <th>7</th>\n",
       "      <td>657</td>\n",
       "      <td>0.790547</td>\n",
       "      <td>0.683691</td>\n",
       "      <td>9.065626</td>\n",
       "      <td>5.599624</td>\n",
       "      <td>0.049973</td>\n",
       "      <td>0.760734</td>\n",
       "      <td>True</td>\n",
       "      <td>65</td>\n",
       "    </tr>\n",
       "    <tr>\n",
       "      <th>8</th>\n",
       "      <td>159</td>\n",
       "      <td>0.583280</td>\n",
       "      <td>0.802579</td>\n",
       "      <td>25.714420</td>\n",
       "      <td>7.563112</td>\n",
       "      <td>0.124395</td>\n",
       "      <td>0.602382</td>\n",
       "      <td>True</td>\n",
       "      <td>94</td>\n",
       "    </tr>\n",
       "    <tr>\n",
       "      <th>9</th>\n",
       "      <td>958</td>\n",
       "      <td>0.634630</td>\n",
       "      <td>0.853613</td>\n",
       "      <td>9.275917</td>\n",
       "      <td>5.036291</td>\n",
       "      <td>0.066675</td>\n",
       "      <td>0.340392</td>\n",
       "      <td>False</td>\n",
       "      <td>25</td>\n",
       "    </tr>\n",
       "  </tbody>\n",
       "</table>\n",
       "</div>"
      ],
      "text/plain": [
       "   n_estimators  colsample_bytree  subsample  reg_alpha  reg_lambda  \\\n",
       "0           709          0.507673   0.726647  16.062030   29.047716   \n",
       "1           228          0.747998   0.728451  14.765572   29.322917   \n",
       "2           276          0.723912   0.614903   6.995573   18.186237   \n",
       "3           169          0.625281   0.558786  19.215400   19.231749   \n",
       "4           389          0.519690   0.507942  23.742333   28.399527   \n",
       "5           758          0.590926   0.853112  26.767077   24.079680   \n",
       "6           150          0.825917   0.891805  24.500612    0.255633   \n",
       "7           657          0.790547   0.683691   9.065626    5.599624   \n",
       "8           159          0.583280   0.802579  25.714420    7.563112   \n",
       "9           958          0.634630   0.853613   9.275917    5.036291   \n",
       "\n",
       "   learning_rate  drop_rate  uniform_drop  num_leaves  \n",
       "0       0.042097   0.798576         False          38  \n",
       "1       0.150799   0.699343         False          83  \n",
       "2       0.248113   0.463669         False         123  \n",
       "3       0.095519   0.305552          True          91  \n",
       "4       0.248631   0.745379         False          97  \n",
       "5       0.044559   0.655872          True          59  \n",
       "6       0.283326   0.733359          True          35  \n",
       "7       0.049973   0.760734          True          65  \n",
       "8       0.124395   0.602382          True          94  \n",
       "9       0.066675   0.340392         False          25  "
      ]
     },
     "execution_count": 8,
     "metadata": {},
     "output_type": "execute_result"
    }
   ],
   "source": [
    "num_models=50\n",
    "lgb_params_list=[]\n",
    "\n",
    "for _ in range(num_models):\n",
    "    params = {'n_estimators' : np.random.randint(low=100, high=1000), \n",
    "             'colsample_bytree' : np.random.uniform(low=0.5, high=1), \n",
    "             'subsample' : np.random.uniform(low=0.5, high=1), \n",
    "             'reg_alpha' : np.random.uniform(low=0, high=30), \n",
    "             'reg_lambda' : np.random.uniform(low=0, high=30),\n",
    "             'learning_rate' : np.random.uniform(low=0.01, high=0.3), \n",
    "             'drop_rate' : np.random.uniform(low=0.3, high=0.8),\n",
    "             'uniform_drop' : np.random.choice([True, False]),\n",
    "              'num_leaves' : np.random.randint(low=7, high=128)\n",
    "             }\n",
    "    lgb_params_list.append(params)\n",
    "    \n",
    "    model =  LGBMClassifier(boosting_type='dart', objective='softmax', tree_learner='feature', num_class=10, subsample_freq=1, \n",
    "                       random_state=18, max_drop=-1,\n",
    "                      **params)\n",
    "                           \n",
    "    train_preds = cross_val_predict(model, Xtrain, Ytrain, cv=5, method='predict_proba')\n",
    "    print(f\"Score : {accuracy_score(Ytrain, np.argmax(train_preds, axis=1))}\")\n",
    "    stack_train_1 = np.concatenate((stack_train_1, train_preds), axis=1)\n",
    "    model.fit(Xtrain, Ytrain)\n",
    "    stack_test_1 = np.concatenate((stack_test_1, model.predict_proba(Xtest)), axis=1)\n",
    "\n",
    "    pd.DataFrame(stack_train_1).to_csv('stack_train_1.csv', index=False)\n",
    "    pd.DataFrame(stack_test_1).to_csv('stack_test_1.csv', index=False)\n",
    "\n",
    "    print(stack_train_1.shape, stack_test_1.shape, '\\n')\n",
    "    \n",
    "lgb_params_list = pd.DataFrame.from_dict(lgb_params_list)\n",
    "lgb_params_list.to_csv('lgb_params_list.csv', index=False)\n",
    "lgb_params_list.head(10)"
   ]
  },
  {
   "cell_type": "markdown",
   "metadata": {},
   "source": [
    "```python\n",
    "lgb_params_list = pd.read_csv('lgb_params_list.csv')\n",
    "other_model_list=[]\n",
    "\n",
    "for i in lgb_params_list.index:\n",
    "    params = dict(lgb_params_list.loc[i])\n",
    "\n",
    "    model =  LGBMClassifier(boosting_type='dart', objective='softmax', tree_learner='feature', num_class=10, subsample_freq=1, \n",
    "                       random_state=18, max_drop=-1,\n",
    "                      **params)\n",
    "                           \n",
    "    train_preds = cross_val_predict(model, Xtrain, Ytrain, cv=5, method='predict_proba')\n",
    "    print(f\"Score : {accuracy_score(Ytrain, np.argmax(train_preds, axis=1))}\")\n",
    "    stack_train_1 = np.concatenate((stack_train_1, train_preds), axis=1)\n",
    "    model.fit(Xtrain, Ytrain)\n",
    "    stack_test_1 = np.concatenate((stack_test_1, model.predict_proba(Xtest)), axis=1)\n",
    "\n",
    "    pd.DataFrame(stack_train_1).to_csv('stack_train_1.csv', index=False)\n",
    "    pd.DataFrame(stack_test_1).to_csv('stack_test_1.csv', index=False)\n",
    "\n",
    "```"
   ]
  },
  {
   "cell_type": "markdown",
   "metadata": {},
   "source": [
    "### XGBoost"
   ]
  },
  {
   "cell_type": "code",
   "execution_count": 9,
   "metadata": {
    "scrolled": true
   },
   "outputs": [
    {
     "name": "stdout",
     "output_type": "stream",
     "text": [
      "Score : 0.5244140625\n",
      "(2048, 750) (20480, 750) \n",
      "\n",
      "Score : 0.53173828125\n",
      "(2048, 760) (20480, 760) \n",
      "\n",
      "Score : 0.5224609375\n",
      "(2048, 770) (20480, 770) \n",
      "\n",
      "Score : 0.42724609375\n",
      "(2048, 780) (20480, 780) \n",
      "\n",
      "Score : 0.49755859375\n",
      "(2048, 790) (20480, 790) \n",
      "\n",
      "Score : 0.52880859375\n",
      "(2048, 800) (20480, 800) \n",
      "\n",
      "Score : 0.5341796875\n",
      "(2048, 810) (20480, 810) \n",
      "\n",
      "Score : 0.48291015625\n",
      "(2048, 820) (20480, 820) \n",
      "\n",
      "Score : 0.4912109375\n",
      "(2048, 830) (20480, 830) \n",
      "\n",
      "Score : 0.48876953125\n",
      "(2048, 840) (20480, 840) \n",
      "\n",
      "Score : 0.51513671875\n",
      "(2048, 850) (20480, 850) \n",
      "\n",
      "Score : 0.47900390625\n",
      "(2048, 860) (20480, 860) \n",
      "\n",
      "Score : 0.521484375\n",
      "(2048, 870) (20480, 870) \n",
      "\n",
      "Score : 0.509765625\n",
      "(2048, 880) (20480, 880) \n",
      "\n",
      "Score : 0.46337890625\n",
      "(2048, 890) (20480, 890) \n",
      "\n",
      "Score : 0.51806640625\n",
      "(2048, 900) (20480, 900) \n",
      "\n",
      "Score : 0.486328125\n",
      "(2048, 910) (20480, 910) \n",
      "\n",
      "Score : 0.4775390625\n",
      "(2048, 920) (20480, 920) \n",
      "\n",
      "Score : 0.53857421875\n",
      "(2048, 930) (20480, 930) \n",
      "\n",
      "Score : 0.462890625\n",
      "(2048, 940) (20480, 940) \n",
      "\n",
      "Score : 0.51123046875\n",
      "(2048, 950) (20480, 950) \n",
      "\n",
      "Score : 0.5185546875\n",
      "(2048, 960) (20480, 960) \n",
      "\n",
      "Score : 0.53173828125\n",
      "(2048, 970) (20480, 970) \n",
      "\n",
      "Score : 0.4873046875\n",
      "(2048, 980) (20480, 980) \n",
      "\n",
      "Score : 0.4716796875\n",
      "(2048, 990) (20480, 990) \n",
      "\n",
      "Score : 0.521484375\n",
      "(2048, 1000) (20480, 1000) \n",
      "\n",
      "Score : 0.4921875\n",
      "(2048, 1010) (20480, 1010) \n",
      "\n",
      "Score : 0.5009765625\n",
      "(2048, 1020) (20480, 1020) \n",
      "\n",
      "Score : 0.5283203125\n",
      "(2048, 1030) (20480, 1030) \n",
      "\n",
      "Score : 0.52392578125\n",
      "(2048, 1040) (20480, 1040) \n",
      "\n",
      "Score : 0.49169921875\n",
      "(2048, 1050) (20480, 1050) \n",
      "\n",
      "Score : 0.53125\n",
      "(2048, 1060) (20480, 1060) \n",
      "\n",
      "Score : 0.5087890625\n",
      "(2048, 1070) (20480, 1070) \n",
      "\n",
      "Score : 0.46826171875\n",
      "(2048, 1080) (20480, 1080) \n",
      "\n",
      "Score : 0.474609375\n",
      "(2048, 1090) (20480, 1090) \n",
      "\n",
      "Score : 0.50390625\n",
      "(2048, 1100) (20480, 1100) \n",
      "\n",
      "Score : 0.51123046875\n",
      "(2048, 1110) (20480, 1110) \n",
      "\n",
      "Score : 0.49267578125\n",
      "(2048, 1120) (20480, 1120) \n",
      "\n",
      "Score : 0.49365234375\n",
      "(2048, 1130) (20480, 1130) \n",
      "\n",
      "Score : 0.43505859375\n",
      "(2048, 1140) (20480, 1140) \n",
      "\n",
      "Score : 0.49609375\n",
      "(2048, 1150) (20480, 1150) \n",
      "\n",
      "Score : 0.5087890625\n",
      "(2048, 1160) (20480, 1160) \n",
      "\n",
      "Score : 0.47607421875\n",
      "(2048, 1170) (20480, 1170) \n",
      "\n",
      "Score : 0.53369140625\n",
      "(2048, 1180) (20480, 1180) \n",
      "\n",
      "Score : 0.50439453125\n",
      "(2048, 1190) (20480, 1190) \n",
      "\n",
      "Score : 0.5224609375\n",
      "(2048, 1200) (20480, 1200) \n",
      "\n",
      "Score : 0.42236328125\n",
      "(2048, 1210) (20480, 1210) \n",
      "\n",
      "Score : 0.48583984375\n",
      "(2048, 1220) (20480, 1220) \n",
      "\n",
      "Score : 0.48193359375\n",
      "(2048, 1230) (20480, 1230) \n",
      "\n",
      "Score : 0.51904296875\n",
      "(2048, 1240) (20480, 1240) \n",
      "\n"
     ]
    },
    {
     "data": {
      "text/html": [
       "<div>\n",
       "<style scoped>\n",
       "    .dataframe tbody tr th:only-of-type {\n",
       "        vertical-align: middle;\n",
       "    }\n",
       "\n",
       "    .dataframe tbody tr th {\n",
       "        vertical-align: top;\n",
       "    }\n",
       "\n",
       "    .dataframe thead th {\n",
       "        text-align: right;\n",
       "    }\n",
       "</style>\n",
       "<table border=\"1\" class=\"dataframe\">\n",
       "  <thead>\n",
       "    <tr style=\"text-align: right;\">\n",
       "      <th></th>\n",
       "      <th>n_estimators</th>\n",
       "      <th>colsample_bytree</th>\n",
       "      <th>subsample</th>\n",
       "      <th>reg_alpha</th>\n",
       "      <th>reg_lambda</th>\n",
       "      <th>learning_rate</th>\n",
       "      <th>max_depth</th>\n",
       "    </tr>\n",
       "  </thead>\n",
       "  <tbody>\n",
       "    <tr>\n",
       "      <th>0</th>\n",
       "      <td>942</td>\n",
       "      <td>0.968659</td>\n",
       "      <td>0.971420</td>\n",
       "      <td>9.820418</td>\n",
       "      <td>28.961912</td>\n",
       "      <td>0.278052</td>\n",
       "      <td>5</td>\n",
       "    </tr>\n",
       "    <tr>\n",
       "      <th>1</th>\n",
       "      <td>947</td>\n",
       "      <td>0.614533</td>\n",
       "      <td>0.820757</td>\n",
       "      <td>3.889623</td>\n",
       "      <td>12.298325</td>\n",
       "      <td>0.274399</td>\n",
       "      <td>6</td>\n",
       "    </tr>\n",
       "    <tr>\n",
       "      <th>2</th>\n",
       "      <td>904</td>\n",
       "      <td>0.689063</td>\n",
       "      <td>0.929035</td>\n",
       "      <td>11.175177</td>\n",
       "      <td>7.446120</td>\n",
       "      <td>0.019145</td>\n",
       "      <td>5</td>\n",
       "    </tr>\n",
       "    <tr>\n",
       "      <th>3</th>\n",
       "      <td>790</td>\n",
       "      <td>0.990205</td>\n",
       "      <td>0.859184</td>\n",
       "      <td>28.698659</td>\n",
       "      <td>27.800165</td>\n",
       "      <td>0.023393</td>\n",
       "      <td>3</td>\n",
       "    </tr>\n",
       "    <tr>\n",
       "      <th>4</th>\n",
       "      <td>432</td>\n",
       "      <td>0.669152</td>\n",
       "      <td>0.921836</td>\n",
       "      <td>17.255938</td>\n",
       "      <td>28.995191</td>\n",
       "      <td>0.196755</td>\n",
       "      <td>4</td>\n",
       "    </tr>\n",
       "    <tr>\n",
       "      <th>5</th>\n",
       "      <td>771</td>\n",
       "      <td>0.765940</td>\n",
       "      <td>0.727291</td>\n",
       "      <td>0.205481</td>\n",
       "      <td>11.291804</td>\n",
       "      <td>0.272442</td>\n",
       "      <td>7</td>\n",
       "    </tr>\n",
       "    <tr>\n",
       "      <th>6</th>\n",
       "      <td>334</td>\n",
       "      <td>0.950341</td>\n",
       "      <td>0.821278</td>\n",
       "      <td>1.482066</td>\n",
       "      <td>10.714593</td>\n",
       "      <td>0.139132</td>\n",
       "      <td>4</td>\n",
       "    </tr>\n",
       "    <tr>\n",
       "      <th>7</th>\n",
       "      <td>844</td>\n",
       "      <td>0.595454</td>\n",
       "      <td>0.658106</td>\n",
       "      <td>28.299421</td>\n",
       "      <td>25.097476</td>\n",
       "      <td>0.261306</td>\n",
       "      <td>7</td>\n",
       "    </tr>\n",
       "    <tr>\n",
       "      <th>8</th>\n",
       "      <td>180</td>\n",
       "      <td>0.518369</td>\n",
       "      <td>0.964693</td>\n",
       "      <td>18.203937</td>\n",
       "      <td>17.106788</td>\n",
       "      <td>0.174357</td>\n",
       "      <td>6</td>\n",
       "    </tr>\n",
       "    <tr>\n",
       "      <th>9</th>\n",
       "      <td>267</td>\n",
       "      <td>0.847582</td>\n",
       "      <td>0.634792</td>\n",
       "      <td>14.356008</td>\n",
       "      <td>25.888397</td>\n",
       "      <td>0.136727</td>\n",
       "      <td>4</td>\n",
       "    </tr>\n",
       "  </tbody>\n",
       "</table>\n",
       "</div>"
      ],
      "text/plain": [
       "   n_estimators  colsample_bytree  subsample  reg_alpha  reg_lambda  \\\n",
       "0           942          0.968659   0.971420   9.820418   28.961912   \n",
       "1           947          0.614533   0.820757   3.889623   12.298325   \n",
       "2           904          0.689063   0.929035  11.175177    7.446120   \n",
       "3           790          0.990205   0.859184  28.698659   27.800165   \n",
       "4           432          0.669152   0.921836  17.255938   28.995191   \n",
       "5           771          0.765940   0.727291   0.205481   11.291804   \n",
       "6           334          0.950341   0.821278   1.482066   10.714593   \n",
       "7           844          0.595454   0.658106  28.299421   25.097476   \n",
       "8           180          0.518369   0.964693  18.203937   17.106788   \n",
       "9           267          0.847582   0.634792  14.356008   25.888397   \n",
       "\n",
       "   learning_rate  max_depth  \n",
       "0       0.278052          5  \n",
       "1       0.274399          6  \n",
       "2       0.019145          5  \n",
       "3       0.023393          3  \n",
       "4       0.196755          4  \n",
       "5       0.272442          7  \n",
       "6       0.139132          4  \n",
       "7       0.261306          7  \n",
       "8       0.174357          6  \n",
       "9       0.136727          4  "
      ]
     },
     "execution_count": 9,
     "metadata": {},
     "output_type": "execute_result"
    }
   ],
   "source": [
    "num_models=50\n",
    "xgb_params_list=[]\n",
    "\n",
    "for _ in range(num_models):\n",
    "    params = {'n_estimators' : np.random.randint(low=100, high=1000), \n",
    "             'colsample_bytree' : np.random.uniform(low=0.5, high=1), \n",
    "             'subsample' : np.random.uniform(low=0.5, high=1), \n",
    "             'reg_alpha' : np.random.uniform(low=0, high=30), \n",
    "             'reg_lambda' : np.random.uniform(low=0, high=30),\n",
    "             'learning_rate' : np.random.uniform(low=0.01, high=0.3),\n",
    "             'max_depth' : np.random.randint(low=3, high=8)\n",
    "             }\n",
    "    xgb_params_list.append(params)\n",
    "    \n",
    "    model = XGBClassifier(n_jobs=-1, tree_method='gpu_hist', objective='multi:softmax', num_class=10, random_state=18,\n",
    "                              **params)\n",
    "    \n",
    "    train_preds = cross_val_predict(model, Xtrain, Ytrain, cv=5, method='predict_proba')\n",
    "    print(f\"Score : {accuracy_score(Ytrain, np.argmax(train_preds, axis=1))}\")\n",
    "    stack_train_1 = np.concatenate((stack_train_1, train_preds), axis=1)\n",
    "    model.fit(Xtrain, Ytrain)\n",
    "    stack_test_1 = np.concatenate((stack_test_1, model.predict_proba(Xtest)), axis=1)\n",
    "\n",
    "    pd.DataFrame(stack_train_1).to_csv('stack_train_1.csv', index=False)\n",
    "    pd.DataFrame(stack_test_1).to_csv('stack_test_1.csv', index=False)\n",
    "\n",
    "    print(stack_train_1.shape, stack_test_1.shape, '\\n')\n",
    "    \n",
    "xgb_params_list = pd.DataFrame.from_dict(xgb_params_list)\n",
    "xgb_params_list.to_csv('xgb_params_list.csv', index=False)\n",
    "xgb_params_list.head(10)"
   ]
  },
  {
   "cell_type": "markdown",
   "metadata": {},
   "source": [
    "```python\n",
    "xgb_params_list = pd.read_csv('xgb_params_list.csv')\n",
    "\n",
    "for i in xgb_params_list.index:\n",
    "    params = dict(lgb_params_list.loc[i])\n",
    "\n",
    "    model = XGBClassifier(n_jobs=-1, tree_method='gpu_hist', objective='multi:softmax', num_class=10, random_state=18,\n",
    "                              **params)\n",
    "    \n",
    "    train_preds = cross_val_predict(model, Xtrain, Ytrain, cv=5, method='predict_proba')\n",
    "    print(f\"Score : {accuracy_score(Ytrain, np.argmax(train_preds, axis=1))}\")\n",
    "    stack_train_1 = np.concatenate((stack_train_1, train_preds), axis=1)\n",
    "    model.fit(Xtrain, Ytrain)\n",
    "    stack_test_1 = np.concatenate((stack_test_1, model.predict_proba(Xtest)), axis=1)\n",
    "\n",
    "    pd.DataFrame(stack_train_1).to_csv('stack_train_1.csv', index=False)\n",
    "    pd.DataFrame(stack_test_1).to_csv('stack_test_1.csv', index=False)\n",
    "\n",
    "    print(stack_train_1.shape, stack_test_1.shape, '\\n')\n",
    "```"
   ]
  },
  {
   "cell_type": "markdown",
   "metadata": {},
   "source": [
    "### CatBoost"
   ]
  },
  {
   "cell_type": "code",
   "execution_count": 10,
   "metadata": {
    "scrolled": true
   },
   "outputs": [
    {
     "name": "stderr",
     "output_type": "stream",
     "text": [
      "Warning: less than 75% gpu memory available for training. Free: 2505.375 Total: 8192\n",
      "Warning: less than 75% gpu memory available for training. Free: 2505.375 Total: 8192\n",
      "Warning: less than 75% gpu memory available for training. Free: 2505.375 Total: 8192\n",
      "Warning: less than 75% gpu memory available for training. Free: 2505.375 Total: 8192\n",
      "Warning: less than 75% gpu memory available for training. Free: 2505.375 Total: 8192\n"
     ]
    },
    {
     "name": "stdout",
     "output_type": "stream",
     "text": [
      "Score : 0.5390625\n"
     ]
    },
    {
     "name": "stderr",
     "output_type": "stream",
     "text": [
      "Warning: less than 75% gpu memory available for training. Free: 2505.375 Total: 8192\n"
     ]
    },
    {
     "name": "stdout",
     "output_type": "stream",
     "text": [
      "(2048, 1250) (20480, 1250) \n",
      "\n"
     ]
    },
    {
     "name": "stderr",
     "output_type": "stream",
     "text": [
      "Warning: less than 75% gpu memory available for training. Free: 2505.375 Total: 8192\n",
      "Warning: less than 75% gpu memory available for training. Free: 2505.375 Total: 8192\n",
      "Warning: less than 75% gpu memory available for training. Free: 2505.375 Total: 8192\n",
      "Warning: less than 75% gpu memory available for training. Free: 2505.375 Total: 8192\n",
      "Warning: less than 75% gpu memory available for training. Free: 2505.375 Total: 8192\n"
     ]
    },
    {
     "name": "stdout",
     "output_type": "stream",
     "text": [
      "Score : 0.56396484375\n"
     ]
    },
    {
     "name": "stderr",
     "output_type": "stream",
     "text": [
      "Warning: less than 75% gpu memory available for training. Free: 2505.375 Total: 8192\n"
     ]
    },
    {
     "name": "stdout",
     "output_type": "stream",
     "text": [
      "(2048, 1260) (20480, 1260) \n",
      "\n"
     ]
    },
    {
     "name": "stderr",
     "output_type": "stream",
     "text": [
      "Warning: less than 75% gpu memory available for training. Free: 2505.375 Total: 8192\n",
      "Warning: less than 75% gpu memory available for training. Free: 2505.375 Total: 8192\n",
      "Warning: less than 75% gpu memory available for training. Free: 2505.375 Total: 8192\n",
      "Warning: less than 75% gpu memory available for training. Free: 2505.375 Total: 8192\n",
      "Warning: less than 75% gpu memory available for training. Free: 2505.375 Total: 8192\n"
     ]
    },
    {
     "name": "stdout",
     "output_type": "stream",
     "text": [
      "Score : 0.50732421875\n"
     ]
    },
    {
     "name": "stderr",
     "output_type": "stream",
     "text": [
      "Warning: less than 75% gpu memory available for training. Free: 2505.375 Total: 8192\n"
     ]
    },
    {
     "name": "stdout",
     "output_type": "stream",
     "text": [
      "(2048, 1270) (20480, 1270) \n",
      "\n"
     ]
    },
    {
     "name": "stderr",
     "output_type": "stream",
     "text": [
      "Warning: less than 75% gpu memory available for training. Free: 2505.375 Total: 8192\n",
      "Warning: less than 75% gpu memory available for training. Free: 2505.375 Total: 8192\n",
      "Warning: less than 75% gpu memory available for training. Free: 2505.375 Total: 8192\n",
      "Warning: less than 75% gpu memory available for training. Free: 2505.375 Total: 8192\n",
      "Warning: less than 75% gpu memory available for training. Free: 2505.375 Total: 8192\n"
     ]
    },
    {
     "name": "stdout",
     "output_type": "stream",
     "text": [
      "Score : 0.56298828125\n"
     ]
    },
    {
     "name": "stderr",
     "output_type": "stream",
     "text": [
      "Warning: less than 75% gpu memory available for training. Free: 2505.375 Total: 8192\n"
     ]
    },
    {
     "name": "stdout",
     "output_type": "stream",
     "text": [
      "(2048, 1280) (20480, 1280) \n",
      "\n"
     ]
    },
    {
     "name": "stderr",
     "output_type": "stream",
     "text": [
      "Warning: less than 75% gpu memory available for training. Free: 2505.375 Total: 8192\n",
      "Warning: less than 75% gpu memory available for training. Free: 2505.375 Total: 8192\n",
      "Warning: less than 75% gpu memory available for training. Free: 2505.375 Total: 8192\n",
      "Warning: less than 75% gpu memory available for training. Free: 2505.375 Total: 8192\n",
      "Warning: less than 75% gpu memory available for training. Free: 2505.375 Total: 8192\n"
     ]
    },
    {
     "name": "stdout",
     "output_type": "stream",
     "text": [
      "Score : 0.5615234375\n"
     ]
    },
    {
     "name": "stderr",
     "output_type": "stream",
     "text": [
      "Warning: less than 75% gpu memory available for training. Free: 2505.375 Total: 8192\n"
     ]
    },
    {
     "name": "stdout",
     "output_type": "stream",
     "text": [
      "(2048, 1290) (20480, 1290) \n",
      "\n"
     ]
    },
    {
     "name": "stderr",
     "output_type": "stream",
     "text": [
      "Warning: less than 75% gpu memory available for training. Free: 2505.375 Total: 8192\n",
      "Warning: less than 75% gpu memory available for training. Free: 2505.375 Total: 8192\n",
      "Warning: less than 75% gpu memory available for training. Free: 2505.375 Total: 8192\n",
      "Warning: less than 75% gpu memory available for training. Free: 2505.375 Total: 8192\n",
      "Warning: less than 75% gpu memory available for training. Free: 2505.375 Total: 8192\n"
     ]
    },
    {
     "name": "stdout",
     "output_type": "stream",
     "text": [
      "Score : 0.52978515625\n"
     ]
    },
    {
     "name": "stderr",
     "output_type": "stream",
     "text": [
      "Warning: less than 75% gpu memory available for training. Free: 2505.375 Total: 8192\n"
     ]
    },
    {
     "name": "stdout",
     "output_type": "stream",
     "text": [
      "(2048, 1300) (20480, 1300) \n",
      "\n"
     ]
    },
    {
     "name": "stderr",
     "output_type": "stream",
     "text": [
      "Warning: less than 75% gpu memory available for training. Free: 2505.375 Total: 8192\n",
      "Warning: less than 75% gpu memory available for training. Free: 2505.375 Total: 8192\n",
      "Warning: less than 75% gpu memory available for training. Free: 2505.375 Total: 8192\n",
      "Warning: less than 75% gpu memory available for training. Free: 2505.375 Total: 8192\n",
      "Warning: less than 75% gpu memory available for training. Free: 2505.375 Total: 8192\n"
     ]
    },
    {
     "name": "stdout",
     "output_type": "stream",
     "text": [
      "Score : 0.5576171875\n"
     ]
    },
    {
     "name": "stderr",
     "output_type": "stream",
     "text": [
      "Warning: less than 75% gpu memory available for training. Free: 2505.375 Total: 8192\n"
     ]
    },
    {
     "name": "stdout",
     "output_type": "stream",
     "text": [
      "(2048, 1310) (20480, 1310) \n",
      "\n"
     ]
    },
    {
     "name": "stderr",
     "output_type": "stream",
     "text": [
      "Warning: less than 75% gpu memory available for training. Free: 2505.375 Total: 8192\n",
      "Warning: less than 75% gpu memory available for training. Free: 2505.375 Total: 8192\n",
      "Warning: less than 75% gpu memory available for training. Free: 2505.375 Total: 8192\n",
      "Warning: less than 75% gpu memory available for training. Free: 2505.375 Total: 8192\n",
      "Warning: less than 75% gpu memory available for training. Free: 2505.375 Total: 8192\n"
     ]
    },
    {
     "name": "stdout",
     "output_type": "stream",
     "text": [
      "Score : 0.5283203125\n"
     ]
    },
    {
     "name": "stderr",
     "output_type": "stream",
     "text": [
      "Warning: less than 75% gpu memory available for training. Free: 2505.375 Total: 8192\n"
     ]
    },
    {
     "name": "stdout",
     "output_type": "stream",
     "text": [
      "(2048, 1320) (20480, 1320) \n",
      "\n"
     ]
    },
    {
     "name": "stderr",
     "output_type": "stream",
     "text": [
      "Warning: less than 75% gpu memory available for training. Free: 2505.375 Total: 8192\n",
      "Warning: less than 75% gpu memory available for training. Free: 2505.375 Total: 8192\n",
      "Warning: less than 75% gpu memory available for training. Free: 2505.375 Total: 8192\n",
      "Warning: less than 75% gpu memory available for training. Free: 2505.375 Total: 8192\n",
      "Warning: less than 75% gpu memory available for training. Free: 2505.375 Total: 8192\n"
     ]
    },
    {
     "name": "stdout",
     "output_type": "stream",
     "text": [
      "Score : 0.5546875\n"
     ]
    },
    {
     "name": "stderr",
     "output_type": "stream",
     "text": [
      "Warning: less than 75% gpu memory available for training. Free: 2505.375 Total: 8192\n"
     ]
    },
    {
     "name": "stdout",
     "output_type": "stream",
     "text": [
      "(2048, 1330) (20480, 1330) \n",
      "\n"
     ]
    },
    {
     "name": "stderr",
     "output_type": "stream",
     "text": [
      "Warning: less than 75% gpu memory available for training. Free: 2505.375 Total: 8192\n",
      "Warning: less than 75% gpu memory available for training. Free: 2505.375 Total: 8192\n",
      "Warning: less than 75% gpu memory available for training. Free: 2505.375 Total: 8192\n",
      "Warning: less than 75% gpu memory available for training. Free: 2505.375 Total: 8192\n",
      "Warning: less than 75% gpu memory available for training. Free: 2505.375 Total: 8192\n"
     ]
    },
    {
     "name": "stdout",
     "output_type": "stream",
     "text": [
      "Score : 0.53564453125\n"
     ]
    },
    {
     "name": "stderr",
     "output_type": "stream",
     "text": [
      "Warning: less than 75% gpu memory available for training. Free: 2505.375 Total: 8192\n"
     ]
    },
    {
     "name": "stdout",
     "output_type": "stream",
     "text": [
      "(2048, 1340) (20480, 1340) \n",
      "\n"
     ]
    },
    {
     "name": "stderr",
     "output_type": "stream",
     "text": [
      "Warning: less than 75% gpu memory available for training. Free: 2505.375 Total: 8192\n",
      "Warning: less than 75% gpu memory available for training. Free: 2505.375 Total: 8192\n",
      "Warning: less than 75% gpu memory available for training. Free: 2505.375 Total: 8192\n",
      "Warning: less than 75% gpu memory available for training. Free: 2505.375 Total: 8192\n",
      "Warning: less than 75% gpu memory available for training. Free: 2505.375 Total: 8192\n"
     ]
    },
    {
     "name": "stdout",
     "output_type": "stream",
     "text": [
      "Score : 0.560546875\n"
     ]
    },
    {
     "name": "stderr",
     "output_type": "stream",
     "text": [
      "Warning: less than 75% gpu memory available for training. Free: 2505.375 Total: 8192\n"
     ]
    },
    {
     "name": "stdout",
     "output_type": "stream",
     "text": [
      "(2048, 1350) (20480, 1350) \n",
      "\n"
     ]
    },
    {
     "name": "stderr",
     "output_type": "stream",
     "text": [
      "Warning: less than 75% gpu memory available for training. Free: 2505.375 Total: 8192\n",
      "Warning: less than 75% gpu memory available for training. Free: 2505.375 Total: 8192\n",
      "Warning: less than 75% gpu memory available for training. Free: 2505.375 Total: 8192\n",
      "Warning: less than 75% gpu memory available for training. Free: 2505.375 Total: 8192\n",
      "Warning: less than 75% gpu memory available for training. Free: 2505.375 Total: 8192\n"
     ]
    },
    {
     "name": "stdout",
     "output_type": "stream",
     "text": [
      "Score : 0.509765625\n"
     ]
    },
    {
     "name": "stderr",
     "output_type": "stream",
     "text": [
      "Warning: less than 75% gpu memory available for training. Free: 2505.375 Total: 8192\n"
     ]
    },
    {
     "name": "stdout",
     "output_type": "stream",
     "text": [
      "(2048, 1360) (20480, 1360) \n",
      "\n"
     ]
    },
    {
     "name": "stderr",
     "output_type": "stream",
     "text": [
      "Warning: less than 75% gpu memory available for training. Free: 2505.375 Total: 8192\n",
      "Warning: less than 75% gpu memory available for training. Free: 2505.375 Total: 8192\n",
      "Warning: less than 75% gpu memory available for training. Free: 2505.375 Total: 8192\n",
      "Warning: less than 75% gpu memory available for training. Free: 2505.375 Total: 8192\n",
      "Warning: less than 75% gpu memory available for training. Free: 2505.375 Total: 8192\n"
     ]
    },
    {
     "name": "stdout",
     "output_type": "stream",
     "text": [
      "Score : 0.5595703125\n"
     ]
    },
    {
     "name": "stderr",
     "output_type": "stream",
     "text": [
      "Warning: less than 75% gpu memory available for training. Free: 2505.375 Total: 8192\n"
     ]
    },
    {
     "name": "stdout",
     "output_type": "stream",
     "text": [
      "(2048, 1370) (20480, 1370) \n",
      "\n"
     ]
    },
    {
     "name": "stderr",
     "output_type": "stream",
     "text": [
      "Warning: less than 75% gpu memory available for training. Free: 2505.375 Total: 8192\n",
      "Warning: less than 75% gpu memory available for training. Free: 2505.375 Total: 8192\n",
      "Warning: less than 75% gpu memory available for training. Free: 2505.375 Total: 8192\n",
      "Warning: less than 75% gpu memory available for training. Free: 2505.375 Total: 8192\n",
      "Warning: less than 75% gpu memory available for training. Free: 2505.375 Total: 8192\n"
     ]
    },
    {
     "name": "stdout",
     "output_type": "stream",
     "text": [
      "Score : 0.56201171875\n"
     ]
    },
    {
     "name": "stderr",
     "output_type": "stream",
     "text": [
      "Warning: less than 75% gpu memory available for training. Free: 2505.375 Total: 8192\n"
     ]
    },
    {
     "name": "stdout",
     "output_type": "stream",
     "text": [
      "(2048, 1380) (20480, 1380) \n",
      "\n"
     ]
    },
    {
     "name": "stderr",
     "output_type": "stream",
     "text": [
      "Warning: less than 75% gpu memory available for training. Free: 2505.375 Total: 8192\n",
      "Warning: less than 75% gpu memory available for training. Free: 2505.375 Total: 8192\n",
      "Warning: less than 75% gpu memory available for training. Free: 2505.375 Total: 8192\n",
      "Warning: less than 75% gpu memory available for training. Free: 2505.375 Total: 8192\n",
      "Warning: less than 75% gpu memory available for training. Free: 2505.375 Total: 8192\n"
     ]
    },
    {
     "name": "stdout",
     "output_type": "stream",
     "text": [
      "Score : 0.55908203125\n"
     ]
    },
    {
     "name": "stderr",
     "output_type": "stream",
     "text": [
      "Warning: less than 75% gpu memory available for training. Free: 2505.375 Total: 8192\n"
     ]
    },
    {
     "name": "stdout",
     "output_type": "stream",
     "text": [
      "(2048, 1390) (20480, 1390) \n",
      "\n"
     ]
    },
    {
     "name": "stderr",
     "output_type": "stream",
     "text": [
      "Warning: less than 75% gpu memory available for training. Free: 2505.375 Total: 8192\n",
      "Warning: less than 75% gpu memory available for training. Free: 2505.375 Total: 8192\n",
      "Warning: less than 75% gpu memory available for training. Free: 2505.375 Total: 8192\n",
      "Warning: less than 75% gpu memory available for training. Free: 2505.375 Total: 8192\n",
      "Warning: less than 75% gpu memory available for training. Free: 2505.375 Total: 8192\n"
     ]
    },
    {
     "name": "stdout",
     "output_type": "stream",
     "text": [
      "Score : 0.43212890625\n"
     ]
    },
    {
     "name": "stderr",
     "output_type": "stream",
     "text": [
      "Warning: less than 75% gpu memory available for training. Free: 2505.375 Total: 8192\n"
     ]
    },
    {
     "name": "stdout",
     "output_type": "stream",
     "text": [
      "(2048, 1400) (20480, 1400) \n",
      "\n"
     ]
    },
    {
     "name": "stderr",
     "output_type": "stream",
     "text": [
      "Warning: less than 75% gpu memory available for training. Free: 2505.375 Total: 8192\n",
      "Warning: less than 75% gpu memory available for training. Free: 2505.375 Total: 8192\n",
      "Warning: less than 75% gpu memory available for training. Free: 2505.375 Total: 8192\n",
      "Warning: less than 75% gpu memory available for training. Free: 2505.375 Total: 8192\n",
      "Warning: less than 75% gpu memory available for training. Free: 2505.375 Total: 8192\n"
     ]
    },
    {
     "name": "stdout",
     "output_type": "stream",
     "text": [
      "Score : 0.55859375\n"
     ]
    },
    {
     "name": "stderr",
     "output_type": "stream",
     "text": [
      "Warning: less than 75% gpu memory available for training. Free: 2505.375 Total: 8192\n"
     ]
    },
    {
     "name": "stdout",
     "output_type": "stream",
     "text": [
      "(2048, 1410) (20480, 1410) \n",
      "\n"
     ]
    },
    {
     "name": "stderr",
     "output_type": "stream",
     "text": [
      "Warning: less than 75% gpu memory available for training. Free: 2505.375 Total: 8192\n",
      "Warning: less than 75% gpu memory available for training. Free: 2505.375 Total: 8192\n",
      "Warning: less than 75% gpu memory available for training. Free: 2505.375 Total: 8192\n",
      "Warning: less than 75% gpu memory available for training. Free: 2505.375 Total: 8192\n",
      "Warning: less than 75% gpu memory available for training. Free: 2505.375 Total: 8192\n"
     ]
    },
    {
     "name": "stdout",
     "output_type": "stream",
     "text": [
      "Score : 0.5517578125\n"
     ]
    },
    {
     "name": "stderr",
     "output_type": "stream",
     "text": [
      "Warning: less than 75% gpu memory available for training. Free: 2505.375 Total: 8192\n"
     ]
    },
    {
     "name": "stdout",
     "output_type": "stream",
     "text": [
      "(2048, 1420) (20480, 1420) \n",
      "\n"
     ]
    },
    {
     "name": "stderr",
     "output_type": "stream",
     "text": [
      "Warning: less than 75% gpu memory available for training. Free: 2505.375 Total: 8192\n",
      "Warning: less than 75% gpu memory available for training. Free: 2505.375 Total: 8192\n",
      "Warning: less than 75% gpu memory available for training. Free: 2505.375 Total: 8192\n",
      "Warning: less than 75% gpu memory available for training. Free: 2505.375 Total: 8192\n",
      "Warning: less than 75% gpu memory available for training. Free: 2505.375 Total: 8192\n"
     ]
    },
    {
     "name": "stdout",
     "output_type": "stream",
     "text": [
      "Score : 0.54345703125\n"
     ]
    },
    {
     "name": "stderr",
     "output_type": "stream",
     "text": [
      "Warning: less than 75% gpu memory available for training. Free: 2505.375 Total: 8192\n"
     ]
    },
    {
     "name": "stdout",
     "output_type": "stream",
     "text": [
      "(2048, 1430) (20480, 1430) \n",
      "\n"
     ]
    },
    {
     "name": "stderr",
     "output_type": "stream",
     "text": [
      "Warning: less than 75% gpu memory available for training. Free: 2505.375 Total: 8192\n",
      "Warning: less than 75% gpu memory available for training. Free: 2505.375 Total: 8192\n",
      "Warning: less than 75% gpu memory available for training. Free: 2505.375 Total: 8192\n",
      "Warning: less than 75% gpu memory available for training. Free: 2505.375 Total: 8192\n",
      "Warning: less than 75% gpu memory available for training. Free: 2505.375 Total: 8192\n"
     ]
    },
    {
     "name": "stdout",
     "output_type": "stream",
     "text": [
      "Score : 0.55029296875\n"
     ]
    },
    {
     "name": "stderr",
     "output_type": "stream",
     "text": [
      "Warning: less than 75% gpu memory available for training. Free: 2505.375 Total: 8192\n"
     ]
    },
    {
     "name": "stdout",
     "output_type": "stream",
     "text": [
      "(2048, 1440) (20480, 1440) \n",
      "\n"
     ]
    },
    {
     "name": "stderr",
     "output_type": "stream",
     "text": [
      "Warning: less than 75% gpu memory available for training. Free: 2505.375 Total: 8192\n",
      "Warning: less than 75% gpu memory available for training. Free: 2505.375 Total: 8192\n",
      "Warning: less than 75% gpu memory available for training. Free: 2505.375 Total: 8192\n",
      "Warning: less than 75% gpu memory available for training. Free: 2505.375 Total: 8192\n",
      "Warning: less than 75% gpu memory available for training. Free: 2505.375 Total: 8192\n"
     ]
    },
    {
     "name": "stdout",
     "output_type": "stream",
     "text": [
      "Score : 0.56103515625\n"
     ]
    },
    {
     "name": "stderr",
     "output_type": "stream",
     "text": [
      "Warning: less than 75% gpu memory available for training. Free: 2505.375 Total: 8192\n"
     ]
    },
    {
     "name": "stdout",
     "output_type": "stream",
     "text": [
      "(2048, 1450) (20480, 1450) \n",
      "\n"
     ]
    },
    {
     "name": "stderr",
     "output_type": "stream",
     "text": [
      "Warning: less than 75% gpu memory available for training. Free: 2505.375 Total: 8192\n",
      "Warning: less than 75% gpu memory available for training. Free: 2505.375 Total: 8192\n",
      "Warning: less than 75% gpu memory available for training. Free: 2505.375 Total: 8192\n",
      "Warning: less than 75% gpu memory available for training. Free: 2505.375 Total: 8192\n",
      "Warning: less than 75% gpu memory available for training. Free: 2505.375 Total: 8192\n"
     ]
    },
    {
     "name": "stdout",
     "output_type": "stream",
     "text": [
      "Score : 0.56201171875\n"
     ]
    },
    {
     "name": "stderr",
     "output_type": "stream",
     "text": [
      "Warning: less than 75% gpu memory available for training. Free: 2505.375 Total: 8192\n"
     ]
    },
    {
     "name": "stdout",
     "output_type": "stream",
     "text": [
      "(2048, 1460) (20480, 1460) \n",
      "\n"
     ]
    },
    {
     "name": "stderr",
     "output_type": "stream",
     "text": [
      "Warning: less than 75% gpu memory available for training. Free: 2505.375 Total: 8192\n",
      "Warning: less than 75% gpu memory available for training. Free: 2505.375 Total: 8192\n",
      "Warning: less than 75% gpu memory available for training. Free: 2505.375 Total: 8192\n",
      "Warning: less than 75% gpu memory available for training. Free: 2505.375 Total: 8192\n",
      "Warning: less than 75% gpu memory available for training. Free: 2505.375 Total: 8192\n"
     ]
    },
    {
     "name": "stdout",
     "output_type": "stream",
     "text": [
      "Score : 0.572265625\n"
     ]
    },
    {
     "name": "stderr",
     "output_type": "stream",
     "text": [
      "Warning: less than 75% gpu memory available for training. Free: 2505.375 Total: 8192\n"
     ]
    },
    {
     "name": "stdout",
     "output_type": "stream",
     "text": [
      "(2048, 1470) (20480, 1470) \n",
      "\n"
     ]
    },
    {
     "name": "stderr",
     "output_type": "stream",
     "text": [
      "Warning: less than 75% gpu memory available for training. Free: 2505.375 Total: 8192\n",
      "Warning: less than 75% gpu memory available for training. Free: 2505.375 Total: 8192\n",
      "Warning: less than 75% gpu memory available for training. Free: 2505.375 Total: 8192\n",
      "Warning: less than 75% gpu memory available for training. Free: 2505.375 Total: 8192\n",
      "Warning: less than 75% gpu memory available for training. Free: 2505.375 Total: 8192\n"
     ]
    },
    {
     "name": "stdout",
     "output_type": "stream",
     "text": [
      "Score : 0.544921875\n"
     ]
    },
    {
     "name": "stderr",
     "output_type": "stream",
     "text": [
      "Warning: less than 75% gpu memory available for training. Free: 2505.375 Total: 8192\n"
     ]
    },
    {
     "name": "stdout",
     "output_type": "stream",
     "text": [
      "(2048, 1480) (20480, 1480) \n",
      "\n"
     ]
    },
    {
     "name": "stderr",
     "output_type": "stream",
     "text": [
      "Warning: less than 75% gpu memory available for training. Free: 2505.375 Total: 8192\n",
      "Warning: less than 75% gpu memory available for training. Free: 2505.375 Total: 8192\n",
      "Warning: less than 75% gpu memory available for training. Free: 2505.375 Total: 8192\n",
      "Warning: less than 75% gpu memory available for training. Free: 2505.375 Total: 8192\n",
      "Warning: less than 75% gpu memory available for training. Free: 2505.375 Total: 8192\n"
     ]
    },
    {
     "name": "stdout",
     "output_type": "stream",
     "text": [
      "Score : 0.49951171875\n"
     ]
    },
    {
     "name": "stderr",
     "output_type": "stream",
     "text": [
      "Warning: less than 75% gpu memory available for training. Free: 2505.375 Total: 8192\n"
     ]
    },
    {
     "name": "stdout",
     "output_type": "stream",
     "text": [
      "(2048, 1490) (20480, 1490) \n",
      "\n"
     ]
    },
    {
     "name": "stderr",
     "output_type": "stream",
     "text": [
      "Warning: less than 75% gpu memory available for training. Free: 2505.375 Total: 8192\n",
      "Warning: less than 75% gpu memory available for training. Free: 2505.375 Total: 8192\n",
      "Warning: less than 75% gpu memory available for training. Free: 2505.375 Total: 8192\n",
      "Warning: less than 75% gpu memory available for training. Free: 2505.375 Total: 8192\n",
      "Warning: less than 75% gpu memory available for training. Free: 2505.375 Total: 8192\n"
     ]
    },
    {
     "name": "stdout",
     "output_type": "stream",
     "text": [
      "Score : 0.55615234375\n"
     ]
    },
    {
     "name": "stderr",
     "output_type": "stream",
     "text": [
      "Warning: less than 75% gpu memory available for training. Free: 2505.375 Total: 8192\n"
     ]
    },
    {
     "name": "stdout",
     "output_type": "stream",
     "text": [
      "(2048, 1500) (20480, 1500) \n",
      "\n"
     ]
    },
    {
     "name": "stderr",
     "output_type": "stream",
     "text": [
      "Warning: less than 75% gpu memory available for training. Free: 2505.375 Total: 8192\n",
      "Warning: less than 75% gpu memory available for training. Free: 2505.375 Total: 8192\n",
      "Warning: less than 75% gpu memory available for training. Free: 2505.375 Total: 8192\n",
      "Warning: less than 75% gpu memory available for training. Free: 2505.375 Total: 8192\n",
      "Warning: less than 75% gpu memory available for training. Free: 2505.375 Total: 8192\n"
     ]
    },
    {
     "name": "stdout",
     "output_type": "stream",
     "text": [
      "Score : 0.54931640625\n"
     ]
    },
    {
     "name": "stderr",
     "output_type": "stream",
     "text": [
      "Warning: less than 75% gpu memory available for training. Free: 2505.375 Total: 8192\n"
     ]
    },
    {
     "name": "stdout",
     "output_type": "stream",
     "text": [
      "(2048, 1510) (20480, 1510) \n",
      "\n"
     ]
    },
    {
     "name": "stderr",
     "output_type": "stream",
     "text": [
      "Warning: less than 75% gpu memory available for training. Free: 2505.375 Total: 8192\n",
      "Warning: less than 75% gpu memory available for training. Free: 2505.375 Total: 8192\n",
      "Warning: less than 75% gpu memory available for training. Free: 2505.375 Total: 8192\n",
      "Warning: less than 75% gpu memory available for training. Free: 2505.375 Total: 8192\n",
      "Warning: less than 75% gpu memory available for training. Free: 2505.375 Total: 8192\n"
     ]
    },
    {
     "name": "stdout",
     "output_type": "stream",
     "text": [
      "Score : 0.5458984375\n"
     ]
    },
    {
     "name": "stderr",
     "output_type": "stream",
     "text": [
      "Warning: less than 75% gpu memory available for training. Free: 2505.375 Total: 8192\n"
     ]
    },
    {
     "name": "stdout",
     "output_type": "stream",
     "text": [
      "(2048, 1520) (20480, 1520) \n",
      "\n"
     ]
    },
    {
     "name": "stderr",
     "output_type": "stream",
     "text": [
      "Warning: less than 75% gpu memory available for training. Free: 2505.375 Total: 8192\n",
      "Warning: less than 75% gpu memory available for training. Free: 2505.375 Total: 8192\n",
      "Warning: less than 75% gpu memory available for training. Free: 2505.375 Total: 8192\n",
      "Warning: less than 75% gpu memory available for training. Free: 2505.375 Total: 8192\n",
      "Warning: less than 75% gpu memory available for training. Free: 2505.375 Total: 8192\n"
     ]
    },
    {
     "name": "stdout",
     "output_type": "stream",
     "text": [
      "Score : 0.50732421875\n"
     ]
    },
    {
     "name": "stderr",
     "output_type": "stream",
     "text": [
      "Warning: less than 75% gpu memory available for training. Free: 2505.375 Total: 8192\n"
     ]
    },
    {
     "name": "stdout",
     "output_type": "stream",
     "text": [
      "(2048, 1530) (20480, 1530) \n",
      "\n"
     ]
    },
    {
     "name": "stderr",
     "output_type": "stream",
     "text": [
      "Warning: less than 75% gpu memory available for training. Free: 2505.375 Total: 8192\n",
      "Warning: less than 75% gpu memory available for training. Free: 2505.375 Total: 8192\n",
      "Warning: less than 75% gpu memory available for training. Free: 2505.375 Total: 8192\n",
      "Warning: less than 75% gpu memory available for training. Free: 2505.375 Total: 8192\n",
      "Warning: less than 75% gpu memory available for training. Free: 2505.375 Total: 8192\n"
     ]
    },
    {
     "name": "stdout",
     "output_type": "stream",
     "text": [
      "Score : 0.54736328125\n"
     ]
    },
    {
     "name": "stderr",
     "output_type": "stream",
     "text": [
      "Warning: less than 75% gpu memory available for training. Free: 2505.375 Total: 8192\n"
     ]
    },
    {
     "name": "stdout",
     "output_type": "stream",
     "text": [
      "(2048, 1540) (20480, 1540) \n",
      "\n"
     ]
    },
    {
     "name": "stderr",
     "output_type": "stream",
     "text": [
      "Warning: less than 75% gpu memory available for training. Free: 2505.375 Total: 8192\n",
      "Warning: less than 75% gpu memory available for training. Free: 2505.375 Total: 8192\n",
      "Warning: less than 75% gpu memory available for training. Free: 2505.375 Total: 8192\n",
      "Warning: less than 75% gpu memory available for training. Free: 2505.375 Total: 8192\n",
      "Warning: less than 75% gpu memory available for training. Free: 2505.375 Total: 8192\n"
     ]
    },
    {
     "name": "stdout",
     "output_type": "stream",
     "text": [
      "Score : 0.57470703125\n"
     ]
    },
    {
     "name": "stderr",
     "output_type": "stream",
     "text": [
      "Warning: less than 75% gpu memory available for training. Free: 2505.375 Total: 8192\n"
     ]
    },
    {
     "name": "stdout",
     "output_type": "stream",
     "text": [
      "(2048, 1550) (20480, 1550) \n",
      "\n"
     ]
    },
    {
     "name": "stderr",
     "output_type": "stream",
     "text": [
      "Warning: less than 75% gpu memory available for training. Free: 2505.375 Total: 8192\n",
      "Warning: less than 75% gpu memory available for training. Free: 2505.375 Total: 8192\n",
      "Warning: less than 75% gpu memory available for training. Free: 2505.375 Total: 8192\n",
      "Warning: less than 75% gpu memory available for training. Free: 2505.375 Total: 8192\n",
      "Warning: less than 75% gpu memory available for training. Free: 2505.375 Total: 8192\n"
     ]
    },
    {
     "name": "stdout",
     "output_type": "stream",
     "text": [
      "Score : 0.552734375\n"
     ]
    },
    {
     "name": "stderr",
     "output_type": "stream",
     "text": [
      "Warning: less than 75% gpu memory available for training. Free: 2505.375 Total: 8192\n"
     ]
    },
    {
     "name": "stdout",
     "output_type": "stream",
     "text": [
      "(2048, 1560) (20480, 1560) \n",
      "\n"
     ]
    },
    {
     "name": "stderr",
     "output_type": "stream",
     "text": [
      "Warning: less than 75% gpu memory available for training. Free: 2505.375 Total: 8192\n",
      "Warning: less than 75% gpu memory available for training. Free: 2505.375 Total: 8192\n",
      "Warning: less than 75% gpu memory available for training. Free: 2505.375 Total: 8192\n",
      "Warning: less than 75% gpu memory available for training. Free: 2505.375 Total: 8192\n",
      "Warning: less than 75% gpu memory available for training. Free: 2505.375 Total: 8192\n"
     ]
    },
    {
     "name": "stdout",
     "output_type": "stream",
     "text": [
      "Score : 0.53564453125\n"
     ]
    },
    {
     "name": "stderr",
     "output_type": "stream",
     "text": [
      "Warning: less than 75% gpu memory available for training. Free: 2505.375 Total: 8192\n"
     ]
    },
    {
     "name": "stdout",
     "output_type": "stream",
     "text": [
      "(2048, 1570) (20480, 1570) \n",
      "\n"
     ]
    },
    {
     "name": "stderr",
     "output_type": "stream",
     "text": [
      "Warning: less than 75% gpu memory available for training. Free: 2505.375 Total: 8192\n",
      "Warning: less than 75% gpu memory available for training. Free: 2505.375 Total: 8192\n",
      "Warning: less than 75% gpu memory available for training. Free: 2505.375 Total: 8192\n",
      "Warning: less than 75% gpu memory available for training. Free: 2505.375 Total: 8192\n",
      "Warning: less than 75% gpu memory available for training. Free: 2505.375 Total: 8192\n"
     ]
    },
    {
     "name": "stdout",
     "output_type": "stream",
     "text": [
      "Score : 0.5439453125\n"
     ]
    },
    {
     "name": "stderr",
     "output_type": "stream",
     "text": [
      "Warning: less than 75% gpu memory available for training. Free: 2505.375 Total: 8192\n"
     ]
    },
    {
     "name": "stdout",
     "output_type": "stream",
     "text": [
      "(2048, 1580) (20480, 1580) \n",
      "\n"
     ]
    },
    {
     "name": "stderr",
     "output_type": "stream",
     "text": [
      "Warning: less than 75% gpu memory available for training. Free: 2505.375 Total: 8192\n",
      "Warning: less than 75% gpu memory available for training. Free: 2505.375 Total: 8192\n",
      "Warning: less than 75% gpu memory available for training. Free: 2505.375 Total: 8192\n",
      "Warning: less than 75% gpu memory available for training. Free: 2505.375 Total: 8192\n",
      "Warning: less than 75% gpu memory available for training. Free: 2505.375 Total: 8192\n"
     ]
    },
    {
     "name": "stdout",
     "output_type": "stream",
     "text": [
      "Score : 0.55126953125\n"
     ]
    },
    {
     "name": "stderr",
     "output_type": "stream",
     "text": [
      "Warning: less than 75% gpu memory available for training. Free: 2505.375 Total: 8192\n"
     ]
    },
    {
     "name": "stdout",
     "output_type": "stream",
     "text": [
      "(2048, 1590) (20480, 1590) \n",
      "\n"
     ]
    },
    {
     "name": "stderr",
     "output_type": "stream",
     "text": [
      "Warning: less than 75% gpu memory available for training. Free: 2505.375 Total: 8192\n",
      "Warning: less than 75% gpu memory available for training. Free: 2505.375 Total: 8192\n",
      "Warning: less than 75% gpu memory available for training. Free: 2505.375 Total: 8192\n",
      "Warning: less than 75% gpu memory available for training. Free: 2505.375 Total: 8192\n",
      "Warning: less than 75% gpu memory available for training. Free: 2505.375 Total: 8192\n"
     ]
    },
    {
     "name": "stdout",
     "output_type": "stream",
     "text": [
      "Score : 0.52734375\n"
     ]
    },
    {
     "name": "stderr",
     "output_type": "stream",
     "text": [
      "Warning: less than 75% gpu memory available for training. Free: 2505.375 Total: 8192\n"
     ]
    },
    {
     "name": "stdout",
     "output_type": "stream",
     "text": [
      "(2048, 1600) (20480, 1600) \n",
      "\n"
     ]
    },
    {
     "name": "stderr",
     "output_type": "stream",
     "text": [
      "Warning: less than 75% gpu memory available for training. Free: 2505.375 Total: 8192\n",
      "Warning: less than 75% gpu memory available for training. Free: 2505.375 Total: 8192\n",
      "Warning: less than 75% gpu memory available for training. Free: 2505.375 Total: 8192\n",
      "Warning: less than 75% gpu memory available for training. Free: 2505.375 Total: 8192\n",
      "Warning: less than 75% gpu memory available for training. Free: 2505.375 Total: 8192\n"
     ]
    },
    {
     "name": "stdout",
     "output_type": "stream",
     "text": [
      "Score : 0.56591796875\n"
     ]
    },
    {
     "name": "stderr",
     "output_type": "stream",
     "text": [
      "Warning: less than 75% gpu memory available for training. Free: 2505.375 Total: 8192\n"
     ]
    },
    {
     "name": "stdout",
     "output_type": "stream",
     "text": [
      "(2048, 1610) (20480, 1610) \n",
      "\n"
     ]
    },
    {
     "name": "stderr",
     "output_type": "stream",
     "text": [
      "Warning: less than 75% gpu memory available for training. Free: 2505.375 Total: 8192\n",
      "Warning: less than 75% gpu memory available for training. Free: 2505.375 Total: 8192\n",
      "Warning: less than 75% gpu memory available for training. Free: 2505.375 Total: 8192\n",
      "Warning: less than 75% gpu memory available for training. Free: 2505.375 Total: 8192\n",
      "Warning: less than 75% gpu memory available for training. Free: 2505.375 Total: 8192\n"
     ]
    },
    {
     "name": "stdout",
     "output_type": "stream",
     "text": [
      "Score : 0.55810546875\n"
     ]
    },
    {
     "name": "stderr",
     "output_type": "stream",
     "text": [
      "Warning: less than 75% gpu memory available for training. Free: 2505.375 Total: 8192\n"
     ]
    },
    {
     "name": "stdout",
     "output_type": "stream",
     "text": [
      "(2048, 1620) (20480, 1620) \n",
      "\n"
     ]
    },
    {
     "name": "stderr",
     "output_type": "stream",
     "text": [
      "Warning: less than 75% gpu memory available for training. Free: 2505.375 Total: 8192\n",
      "Warning: less than 75% gpu memory available for training. Free: 2505.375 Total: 8192\n",
      "Warning: less than 75% gpu memory available for training. Free: 2505.375 Total: 8192\n",
      "Warning: less than 75% gpu memory available for training. Free: 2505.375 Total: 8192\n",
      "Warning: less than 75% gpu memory available for training. Free: 2505.375 Total: 8192\n"
     ]
    },
    {
     "name": "stdout",
     "output_type": "stream",
     "text": [
      "Score : 0.54345703125\n"
     ]
    },
    {
     "name": "stderr",
     "output_type": "stream",
     "text": [
      "Warning: less than 75% gpu memory available for training. Free: 2505.375 Total: 8192\n"
     ]
    },
    {
     "name": "stdout",
     "output_type": "stream",
     "text": [
      "(2048, 1630) (20480, 1630) \n",
      "\n"
     ]
    },
    {
     "name": "stderr",
     "output_type": "stream",
     "text": [
      "Warning: less than 75% gpu memory available for training. Free: 2505.375 Total: 8192\n",
      "Warning: less than 75% gpu memory available for training. Free: 2505.375 Total: 8192\n",
      "Warning: less than 75% gpu memory available for training. Free: 2505.375 Total: 8192\n",
      "Warning: less than 75% gpu memory available for training. Free: 2505.375 Total: 8192\n",
      "Warning: less than 75% gpu memory available for training. Free: 2505.375 Total: 8192\n"
     ]
    },
    {
     "name": "stdout",
     "output_type": "stream",
     "text": [
      "Score : 0.54638671875\n"
     ]
    },
    {
     "name": "stderr",
     "output_type": "stream",
     "text": [
      "Warning: less than 75% gpu memory available for training. Free: 2505.375 Total: 8192\n"
     ]
    },
    {
     "name": "stdout",
     "output_type": "stream",
     "text": [
      "(2048, 1640) (20480, 1640) \n",
      "\n"
     ]
    },
    {
     "name": "stderr",
     "output_type": "stream",
     "text": [
      "Warning: less than 75% gpu memory available for training. Free: 2505.375 Total: 8192\n",
      "Warning: less than 75% gpu memory available for training. Free: 2505.375 Total: 8192\n",
      "Warning: less than 75% gpu memory available for training. Free: 2505.375 Total: 8192\n",
      "Warning: less than 75% gpu memory available for training. Free: 2505.375 Total: 8192\n",
      "Warning: less than 75% gpu memory available for training. Free: 2505.375 Total: 8192\n"
     ]
    },
    {
     "name": "stdout",
     "output_type": "stream",
     "text": [
      "Score : 0.55615234375\n"
     ]
    },
    {
     "name": "stderr",
     "output_type": "stream",
     "text": [
      "Warning: less than 75% gpu memory available for training. Free: 2505.375 Total: 8192\n"
     ]
    },
    {
     "name": "stdout",
     "output_type": "stream",
     "text": [
      "(2048, 1650) (20480, 1650) \n",
      "\n"
     ]
    },
    {
     "name": "stderr",
     "output_type": "stream",
     "text": [
      "Warning: less than 75% gpu memory available for training. Free: 2505.375 Total: 8192\n",
      "Warning: less than 75% gpu memory available for training. Free: 2505.375 Total: 8192\n",
      "Warning: less than 75% gpu memory available for training. Free: 2505.375 Total: 8192\n",
      "Warning: less than 75% gpu memory available for training. Free: 2505.375 Total: 8192\n",
      "Warning: less than 75% gpu memory available for training. Free: 2505.375 Total: 8192\n"
     ]
    },
    {
     "name": "stdout",
     "output_type": "stream",
     "text": [
      "Score : 0.5458984375\n"
     ]
    },
    {
     "name": "stderr",
     "output_type": "stream",
     "text": [
      "Warning: less than 75% gpu memory available for training. Free: 2505.375 Total: 8192\n"
     ]
    },
    {
     "name": "stdout",
     "output_type": "stream",
     "text": [
      "(2048, 1660) (20480, 1660) \n",
      "\n"
     ]
    },
    {
     "name": "stderr",
     "output_type": "stream",
     "text": [
      "Warning: less than 75% gpu memory available for training. Free: 2505.375 Total: 8192\n",
      "Warning: less than 75% gpu memory available for training. Free: 2505.375 Total: 8192\n",
      "Warning: less than 75% gpu memory available for training. Free: 2505.375 Total: 8192\n",
      "Warning: less than 75% gpu memory available for training. Free: 2505.375 Total: 8192\n",
      "Warning: less than 75% gpu memory available for training. Free: 2505.375 Total: 8192\n"
     ]
    },
    {
     "name": "stdout",
     "output_type": "stream",
     "text": [
      "Score : 0.57421875\n"
     ]
    },
    {
     "name": "stderr",
     "output_type": "stream",
     "text": [
      "Warning: less than 75% gpu memory available for training. Free: 2505.375 Total: 8192\n"
     ]
    },
    {
     "name": "stdout",
     "output_type": "stream",
     "text": [
      "(2048, 1670) (20480, 1670) \n",
      "\n"
     ]
    },
    {
     "name": "stderr",
     "output_type": "stream",
     "text": [
      "Warning: less than 75% gpu memory available for training. Free: 2505.375 Total: 8192\n",
      "Warning: less than 75% gpu memory available for training. Free: 2505.375 Total: 8192\n",
      "Warning: less than 75% gpu memory available for training. Free: 2505.375 Total: 8192\n",
      "Warning: less than 75% gpu memory available for training. Free: 2505.375 Total: 8192\n",
      "Warning: less than 75% gpu memory available for training. Free: 2505.375 Total: 8192\n"
     ]
    },
    {
     "name": "stdout",
     "output_type": "stream",
     "text": [
      "Score : 0.5341796875\n"
     ]
    },
    {
     "name": "stderr",
     "output_type": "stream",
     "text": [
      "Warning: less than 75% gpu memory available for training. Free: 2505.375 Total: 8192\n"
     ]
    },
    {
     "name": "stdout",
     "output_type": "stream",
     "text": [
      "(2048, 1680) (20480, 1680) \n",
      "\n"
     ]
    },
    {
     "name": "stderr",
     "output_type": "stream",
     "text": [
      "Warning: less than 75% gpu memory available for training. Free: 2505.375 Total: 8192\n",
      "Warning: less than 75% gpu memory available for training. Free: 2505.375 Total: 8192\n",
      "Warning: less than 75% gpu memory available for training. Free: 2505.375 Total: 8192\n",
      "Warning: less than 75% gpu memory available for training. Free: 2505.375 Total: 8192\n",
      "Warning: less than 75% gpu memory available for training. Free: 2505.375 Total: 8192\n"
     ]
    },
    {
     "name": "stdout",
     "output_type": "stream",
     "text": [
      "Score : 0.55908203125\n"
     ]
    },
    {
     "name": "stderr",
     "output_type": "stream",
     "text": [
      "Warning: less than 75% gpu memory available for training. Free: 2505.375 Total: 8192\n"
     ]
    },
    {
     "name": "stdout",
     "output_type": "stream",
     "text": [
      "(2048, 1690) (20480, 1690) \n",
      "\n"
     ]
    },
    {
     "name": "stderr",
     "output_type": "stream",
     "text": [
      "Warning: less than 75% gpu memory available for training. Free: 2505.375 Total: 8192\n",
      "Warning: less than 75% gpu memory available for training. Free: 2505.375 Total: 8192\n",
      "Warning: less than 75% gpu memory available for training. Free: 2505.375 Total: 8192\n",
      "Warning: less than 75% gpu memory available for training. Free: 2505.375 Total: 8192\n",
      "Warning: less than 75% gpu memory available for training. Free: 2505.375 Total: 8192\n"
     ]
    },
    {
     "name": "stdout",
     "output_type": "stream",
     "text": [
      "Score : 0.4638671875\n"
     ]
    },
    {
     "name": "stderr",
     "output_type": "stream",
     "text": [
      "Warning: less than 75% gpu memory available for training. Free: 2505.375 Total: 8192\n"
     ]
    },
    {
     "name": "stdout",
     "output_type": "stream",
     "text": [
      "(2048, 1700) (20480, 1700) \n",
      "\n"
     ]
    },
    {
     "name": "stderr",
     "output_type": "stream",
     "text": [
      "Warning: less than 75% gpu memory available for training. Free: 2505.375 Total: 8192\n",
      "Warning: less than 75% gpu memory available for training. Free: 2505.375 Total: 8192\n",
      "Warning: less than 75% gpu memory available for training. Free: 2505.375 Total: 8192\n",
      "Warning: less than 75% gpu memory available for training. Free: 2505.375 Total: 8192\n",
      "Warning: less than 75% gpu memory available for training. Free: 2505.375 Total: 8192\n"
     ]
    },
    {
     "name": "stdout",
     "output_type": "stream",
     "text": [
      "Score : 0.55078125\n"
     ]
    },
    {
     "name": "stderr",
     "output_type": "stream",
     "text": [
      "Warning: less than 75% gpu memory available for training. Free: 2505.375 Total: 8192\n"
     ]
    },
    {
     "name": "stdout",
     "output_type": "stream",
     "text": [
      "(2048, 1710) (20480, 1710) \n",
      "\n"
     ]
    },
    {
     "name": "stderr",
     "output_type": "stream",
     "text": [
      "Warning: less than 75% gpu memory available for training. Free: 2505.375 Total: 8192\n",
      "Warning: less than 75% gpu memory available for training. Free: 2505.375 Total: 8192\n",
      "Warning: less than 75% gpu memory available for training. Free: 2505.375 Total: 8192\n",
      "Warning: less than 75% gpu memory available for training. Free: 2505.375 Total: 8192\n",
      "Warning: less than 75% gpu memory available for training. Free: 2505.375 Total: 8192\n"
     ]
    },
    {
     "name": "stdout",
     "output_type": "stream",
     "text": [
      "Score : 0.5556640625\n"
     ]
    },
    {
     "name": "stderr",
     "output_type": "stream",
     "text": [
      "Warning: less than 75% gpu memory available for training. Free: 2505.375 Total: 8192\n"
     ]
    },
    {
     "name": "stdout",
     "output_type": "stream",
     "text": [
      "(2048, 1720) (20480, 1720) \n",
      "\n"
     ]
    },
    {
     "name": "stderr",
     "output_type": "stream",
     "text": [
      "Warning: less than 75% gpu memory available for training. Free: 2505.375 Total: 8192\n",
      "Warning: less than 75% gpu memory available for training. Free: 2505.375 Total: 8192\n",
      "Warning: less than 75% gpu memory available for training. Free: 2505.375 Total: 8192\n",
      "Warning: less than 75% gpu memory available for training. Free: 2505.375 Total: 8192\n",
      "Warning: less than 75% gpu memory available for training. Free: 2505.375 Total: 8192\n"
     ]
    },
    {
     "name": "stdout",
     "output_type": "stream",
     "text": [
      "Score : 0.5498046875\n"
     ]
    },
    {
     "name": "stderr",
     "output_type": "stream",
     "text": [
      "Warning: less than 75% gpu memory available for training. Free: 2505.375 Total: 8192\n"
     ]
    },
    {
     "name": "stdout",
     "output_type": "stream",
     "text": [
      "(2048, 1730) (20480, 1730) \n",
      "\n"
     ]
    },
    {
     "name": "stderr",
     "output_type": "stream",
     "text": [
      "Warning: less than 75% gpu memory available for training. Free: 2505.375 Total: 8192\n",
      "Warning: less than 75% gpu memory available for training. Free: 2505.375 Total: 8192\n",
      "Warning: less than 75% gpu memory available for training. Free: 2505.375 Total: 8192\n",
      "Warning: less than 75% gpu memory available for training. Free: 2505.375 Total: 8192\n",
      "Warning: less than 75% gpu memory available for training. Free: 2505.375 Total: 8192\n"
     ]
    },
    {
     "name": "stdout",
     "output_type": "stream",
     "text": [
      "Score : 0.54931640625\n"
     ]
    },
    {
     "name": "stderr",
     "output_type": "stream",
     "text": [
      "Warning: less than 75% gpu memory available for training. Free: 2505.375 Total: 8192\n"
     ]
    },
    {
     "name": "stdout",
     "output_type": "stream",
     "text": [
      "(2048, 1740) (20480, 1740) \n",
      "\n"
     ]
    },
    {
     "data": {
      "text/html": [
       "<div>\n",
       "<style scoped>\n",
       "    .dataframe tbody tr th:only-of-type {\n",
       "        vertical-align: middle;\n",
       "    }\n",
       "\n",
       "    .dataframe tbody tr th {\n",
       "        vertical-align: top;\n",
       "    }\n",
       "\n",
       "    .dataframe thead th {\n",
       "        text-align: right;\n",
       "    }\n",
       "</style>\n",
       "<table border=\"1\" class=\"dataframe\">\n",
       "  <thead>\n",
       "    <tr style=\"text-align: right;\">\n",
       "      <th></th>\n",
       "      <th>n_estimators</th>\n",
       "      <th>subsample</th>\n",
       "      <th>reg_lambda</th>\n",
       "      <th>learning_rate</th>\n",
       "      <th>depth</th>\n",
       "    </tr>\n",
       "  </thead>\n",
       "  <tbody>\n",
       "    <tr>\n",
       "      <th>0</th>\n",
       "      <td>572</td>\n",
       "      <td>0.516861</td>\n",
       "      <td>19.235388</td>\n",
       "      <td>0.079548</td>\n",
       "      <td>6</td>\n",
       "    </tr>\n",
       "    <tr>\n",
       "      <th>1</th>\n",
       "      <td>872</td>\n",
       "      <td>0.666039</td>\n",
       "      <td>14.389545</td>\n",
       "      <td>0.235731</td>\n",
       "      <td>6</td>\n",
       "    </tr>\n",
       "    <tr>\n",
       "      <th>2</th>\n",
       "      <td>277</td>\n",
       "      <td>0.787349</td>\n",
       "      <td>4.153752</td>\n",
       "      <td>0.025905</td>\n",
       "      <td>4</td>\n",
       "    </tr>\n",
       "    <tr>\n",
       "      <th>3</th>\n",
       "      <td>403</td>\n",
       "      <td>0.513263</td>\n",
       "      <td>28.069161</td>\n",
       "      <td>0.298804</td>\n",
       "      <td>4</td>\n",
       "    </tr>\n",
       "    <tr>\n",
       "      <th>4</th>\n",
       "      <td>427</td>\n",
       "      <td>0.921287</td>\n",
       "      <td>6.543541</td>\n",
       "      <td>0.273615</td>\n",
       "      <td>4</td>\n",
       "    </tr>\n",
       "    <tr>\n",
       "      <th>5</th>\n",
       "      <td>322</td>\n",
       "      <td>0.760377</td>\n",
       "      <td>26.169278</td>\n",
       "      <td>0.086207</td>\n",
       "      <td>5</td>\n",
       "    </tr>\n",
       "    <tr>\n",
       "      <th>6</th>\n",
       "      <td>931</td>\n",
       "      <td>0.759618</td>\n",
       "      <td>17.795291</td>\n",
       "      <td>0.166271</td>\n",
       "      <td>6</td>\n",
       "    </tr>\n",
       "    <tr>\n",
       "      <th>7</th>\n",
       "      <td>275</td>\n",
       "      <td>0.563454</td>\n",
       "      <td>19.575724</td>\n",
       "      <td>0.295691</td>\n",
       "      <td>7</td>\n",
       "    </tr>\n",
       "    <tr>\n",
       "      <th>8</th>\n",
       "      <td>406</td>\n",
       "      <td>0.515476</td>\n",
       "      <td>17.366784</td>\n",
       "      <td>0.220607</td>\n",
       "      <td>6</td>\n",
       "    </tr>\n",
       "    <tr>\n",
       "      <th>9</th>\n",
       "      <td>621</td>\n",
       "      <td>0.530726</td>\n",
       "      <td>22.589044</td>\n",
       "      <td>0.235982</td>\n",
       "      <td>7</td>\n",
       "    </tr>\n",
       "  </tbody>\n",
       "</table>\n",
       "</div>"
      ],
      "text/plain": [
       "   n_estimators  subsample  reg_lambda  learning_rate  depth\n",
       "0           572   0.516861   19.235388       0.079548      6\n",
       "1           872   0.666039   14.389545       0.235731      6\n",
       "2           277   0.787349    4.153752       0.025905      4\n",
       "3           403   0.513263   28.069161       0.298804      4\n",
       "4           427   0.921287    6.543541       0.273615      4\n",
       "5           322   0.760377   26.169278       0.086207      5\n",
       "6           931   0.759618   17.795291       0.166271      6\n",
       "7           275   0.563454   19.575724       0.295691      7\n",
       "8           406   0.515476   17.366784       0.220607      6\n",
       "9           621   0.530726   22.589044       0.235982      7"
      ]
     },
     "execution_count": 10,
     "metadata": {},
     "output_type": "execute_result"
    }
   ],
   "source": [
    "num_models=50\n",
    "cat_params_list=[]\n",
    "\n",
    "for _ in range(num_models):\n",
    "    params = {'n_estimators' : np.random.randint(low=100, high=1000), \n",
    "             'subsample' : np.random.uniform(low=0.5, high=1),\n",
    "             'reg_lambda' : np.random.uniform(low=0, high=30),\n",
    "             'learning_rate' : np.random.uniform(low=0.01, high=0.3),\n",
    "              'depth' : np.random.randint(low=3, high=8),\n",
    "             }\n",
    "    cat_params_list.append(params)\n",
    "    \n",
    "    model = CatBoostClassifier(task_type='GPU', bootstrap_type='Bernoulli', loss_function='MultiClass', eval_metric='Accuracy', \n",
    "                               verbose=False, random_seed=18,\n",
    "                                       **params)\n",
    "    \n",
    "    train_preds = cross_val_predict(model, Xtrain, Ytrain, cv=5, method='predict_proba')\n",
    "    print(f\"Score : {accuracy_score(Ytrain, np.argmax(train_preds, axis=1))}\")\n",
    "    stack_train_1 = np.concatenate((stack_train_1, train_preds), axis=1)\n",
    "    model.fit(Xtrain, Ytrain)\n",
    "    stack_test_1 = np.concatenate((stack_test_1, model.predict_proba(Xtest)), axis=1)\n",
    "\n",
    "    pd.DataFrame(stack_train_1).to_csv('stack_train_1.csv', index=False)\n",
    "    pd.DataFrame(stack_test_1).to_csv('stack_test_1.csv', index=False)\n",
    "\n",
    "    print(stack_train_1.shape, stack_test_1.shape, '\\n')\n",
    "    \n",
    "cat_params_list = pd.DataFrame.from_dict(cat_params_list)\n",
    "cat_params_list.to_csv('cat_params_list.csv', index=False)\n",
    "cat_params_list.head(10)"
   ]
  },
  {
   "cell_type": "markdown",
   "metadata": {},
   "source": [
    "```python\n",
    "cat_params_list = pd.read_csv('cat_params_list.csv')\n",
    "\n",
    "for i in cat_params_list.index:\n",
    "    params = dict(cat_params_list.loc[i])\n",
    "\n",
    "    model = CatBoostClassifier(task_type='GPU', bootstrap_type='Bernoulli', loss_function='MultiClass', eval_metric='Accuracy', \n",
    "                               verbose=False, random_seed=18,\n",
    "                                       **params)\n",
    "    \n",
    "    train_preds = cross_val_predict(model, Xtrain, Ytrain, cv=5, method='predict_proba')\n",
    "    print(f\"Score : {accuracy_score(Ytrain, np.argmax(train_preds, axis=1))}\")\n",
    "    stack_train_1 = np.concatenate((stack_train_1, train_preds), axis=1)\n",
    "    model.fit(Xtrain, Ytrain)\n",
    "    stack_test_1 = np.concatenate((stack_test_1, model.predict_proba(Xtest)), axis=1)\n",
    "\n",
    "    pd.DataFrame(stack_train_1).to_csv('stack_train_1.csv', index=False)\n",
    "    pd.DataFrame(stack_test_1).to_csv('stack_test_1.csv', index=False)\n",
    "\n",
    "    print(stack_train_1.shape, stack_test_1.shape, '\\n')\n",
    "```"
   ]
  },
  {
   "cell_type": "markdown",
   "metadata": {},
   "source": [
    "### Random Forest"
   ]
  },
  {
   "cell_type": "code",
   "execution_count": 11,
   "metadata": {
    "scrolled": true
   },
   "outputs": [
    {
     "name": "stdout",
     "output_type": "stream",
     "text": [
      "Score : 0.40771484375\n",
      "(2048, 1750) (20480, 1750) \n",
      "\n",
      "Score : 0.46484375\n",
      "(2048, 1760) (20480, 1760) \n",
      "\n",
      "Score : 0.4912109375\n",
      "(2048, 1770) (20480, 1770) \n",
      "\n",
      "Score : 0.47998046875\n",
      "(2048, 1780) (20480, 1780) \n",
      "\n",
      "Score : 0.45703125\n",
      "(2048, 1790) (20480, 1790) \n",
      "\n",
      "Score : 0.4404296875\n",
      "(2048, 1800) (20480, 1800) \n",
      "\n",
      "Score : 0.4794921875\n",
      "(2048, 1810) (20480, 1810) \n",
      "\n",
      "Score : 0.42919921875\n",
      "(2048, 1820) (20480, 1820) \n",
      "\n",
      "Score : 0.466796875\n",
      "(2048, 1830) (20480, 1830) \n",
      "\n",
      "Score : 0.484375\n",
      "(2048, 1840) (20480, 1840) \n",
      "\n",
      "Score : 0.4765625\n",
      "(2048, 1850) (20480, 1850) \n",
      "\n",
      "Score : 0.47412109375\n",
      "(2048, 1860) (20480, 1860) \n",
      "\n",
      "Score : 0.43994140625\n",
      "(2048, 1870) (20480, 1870) \n",
      "\n",
      "Score : 0.478515625\n",
      "(2048, 1880) (20480, 1880) \n",
      "\n",
      "Score : 0.45263671875\n",
      "(2048, 1890) (20480, 1890) \n",
      "\n",
      "Score : 0.47021484375\n",
      "(2048, 1900) (20480, 1900) \n",
      "\n",
      "Score : 0.455078125\n",
      "(2048, 1910) (20480, 1910) \n",
      "\n",
      "Score : 0.48681640625\n",
      "(2048, 1920) (20480, 1920) \n",
      "\n",
      "Score : 0.48388671875\n",
      "(2048, 1930) (20480, 1930) \n",
      "\n",
      "Score : 0.4453125\n",
      "(2048, 1940) (20480, 1940) \n",
      "\n",
      "Score : 0.408203125\n",
      "(2048, 1950) (20480, 1950) \n",
      "\n",
      "Score : 0.45556640625\n",
      "(2048, 1960) (20480, 1960) \n",
      "\n",
      "Score : 0.4853515625\n",
      "(2048, 1970) (20480, 1970) \n",
      "\n",
      "Score : 0.4892578125\n",
      "(2048, 1980) (20480, 1980) \n",
      "\n",
      "Score : 0.45556640625\n",
      "(2048, 1990) (20480, 1990) \n",
      "\n",
      "Score : 0.43798828125\n",
      "(2048, 2000) (20480, 2000) \n",
      "\n",
      "Score : 0.48828125\n",
      "(2048, 2010) (20480, 2010) \n",
      "\n",
      "Score : 0.44775390625\n",
      "(2048, 2020) (20480, 2020) \n",
      "\n",
      "Score : 0.46484375\n",
      "(2048, 2030) (20480, 2030) \n",
      "\n",
      "Score : 0.47265625\n",
      "(2048, 2040) (20480, 2040) \n",
      "\n",
      "Score : 0.4736328125\n",
      "(2048, 2050) (20480, 2050) \n",
      "\n",
      "Score : 0.447265625\n",
      "(2048, 2060) (20480, 2060) \n",
      "\n",
      "Score : 0.4580078125\n",
      "(2048, 2070) (20480, 2070) \n",
      "\n",
      "Score : 0.46875\n",
      "(2048, 2080) (20480, 2080) \n",
      "\n",
      "Score : 0.462890625\n",
      "(2048, 2090) (20480, 2090) \n",
      "\n",
      "Score : 0.4658203125\n",
      "(2048, 2100) (20480, 2100) \n",
      "\n",
      "Score : 0.4765625\n",
      "(2048, 2110) (20480, 2110) \n",
      "\n",
      "Score : 0.46728515625\n",
      "(2048, 2120) (20480, 2120) \n",
      "\n",
      "Score : 0.4580078125\n",
      "(2048, 2130) (20480, 2130) \n",
      "\n",
      "Score : 0.47998046875\n",
      "(2048, 2140) (20480, 2140) \n",
      "\n",
      "Score : 0.45849609375\n",
      "(2048, 2150) (20480, 2150) \n",
      "\n",
      "Score : 0.4580078125\n",
      "(2048, 2160) (20480, 2160) \n",
      "\n",
      "Score : 0.42919921875\n",
      "(2048, 2170) (20480, 2170) \n",
      "\n",
      "Score : 0.484375\n",
      "(2048, 2180) (20480, 2180) \n",
      "\n",
      "Score : 0.4658203125\n",
      "(2048, 2190) (20480, 2190) \n",
      "\n",
      "Score : 0.4736328125\n",
      "(2048, 2200) (20480, 2200) \n",
      "\n",
      "Score : 0.4638671875\n",
      "(2048, 2210) (20480, 2210) \n",
      "\n",
      "Score : 0.47412109375\n",
      "(2048, 2220) (20480, 2220) \n",
      "\n",
      "Score : 0.48828125\n",
      "(2048, 2230) (20480, 2230) \n",
      "\n",
      "Score : 0.46484375\n",
      "(2048, 2240) (20480, 2240) \n",
      "\n"
     ]
    },
    {
     "data": {
      "text/html": [
       "<div>\n",
       "<style scoped>\n",
       "    .dataframe tbody tr th:only-of-type {\n",
       "        vertical-align: middle;\n",
       "    }\n",
       "\n",
       "    .dataframe tbody tr th {\n",
       "        vertical-align: top;\n",
       "    }\n",
       "\n",
       "    .dataframe thead th {\n",
       "        text-align: right;\n",
       "    }\n",
       "</style>\n",
       "<table border=\"1\" class=\"dataframe\">\n",
       "  <thead>\n",
       "    <tr style=\"text-align: right;\">\n",
       "      <th></th>\n",
       "      <th>n_estimators</th>\n",
       "      <th>max_depth</th>\n",
       "      <th>criterion</th>\n",
       "    </tr>\n",
       "  </thead>\n",
       "  <tbody>\n",
       "    <tr>\n",
       "      <th>0</th>\n",
       "      <td>428</td>\n",
       "      <td>3</td>\n",
       "      <td>entropy</td>\n",
       "    </tr>\n",
       "    <tr>\n",
       "      <th>1</th>\n",
       "      <td>213</td>\n",
       "      <td>9</td>\n",
       "      <td>gini</td>\n",
       "    </tr>\n",
       "    <tr>\n",
       "      <th>2</th>\n",
       "      <td>443</td>\n",
       "      <td>16</td>\n",
       "      <td>gini</td>\n",
       "    </tr>\n",
       "    <tr>\n",
       "      <th>3</th>\n",
       "      <td>310</td>\n",
       "      <td>12</td>\n",
       "      <td>gini</td>\n",
       "    </tr>\n",
       "    <tr>\n",
       "      <th>4</th>\n",
       "      <td>154</td>\n",
       "      <td>9</td>\n",
       "      <td>entropy</td>\n",
       "    </tr>\n",
       "    <tr>\n",
       "      <th>5</th>\n",
       "      <td>477</td>\n",
       "      <td>4</td>\n",
       "      <td>gini</td>\n",
       "    </tr>\n",
       "    <tr>\n",
       "      <th>6</th>\n",
       "      <td>451</td>\n",
       "      <td>19</td>\n",
       "      <td>entropy</td>\n",
       "    </tr>\n",
       "    <tr>\n",
       "      <th>7</th>\n",
       "      <td>499</td>\n",
       "      <td>4</td>\n",
       "      <td>entropy</td>\n",
       "    </tr>\n",
       "    <tr>\n",
       "      <th>8</th>\n",
       "      <td>454</td>\n",
       "      <td>7</td>\n",
       "      <td>gini</td>\n",
       "    </tr>\n",
       "    <tr>\n",
       "      <th>9</th>\n",
       "      <td>284</td>\n",
       "      <td>11</td>\n",
       "      <td>gini</td>\n",
       "    </tr>\n",
       "  </tbody>\n",
       "</table>\n",
       "</div>"
      ],
      "text/plain": [
       "   n_estimators  max_depth criterion\n",
       "0           428          3   entropy\n",
       "1           213          9      gini\n",
       "2           443         16      gini\n",
       "3           310         12      gini\n",
       "4           154          9   entropy\n",
       "5           477          4      gini\n",
       "6           451         19   entropy\n",
       "7           499          4   entropy\n",
       "8           454          7      gini\n",
       "9           284         11      gini"
      ]
     },
     "execution_count": 11,
     "metadata": {},
     "output_type": "execute_result"
    }
   ],
   "source": [
    "num_models=50\n",
    "rf_params_list=[]\n",
    "\n",
    "for _ in range(num_models):\n",
    "    params = {'n_estimators' : np.random.randint(low=100, high=500), \n",
    "             'max_depth' : np.random.randint(low=3, high=20),\n",
    "              'criterion' : np.random.choice(['gini','entropy'])\n",
    "             }\n",
    "    \n",
    "    rf_params_list.append(params)\n",
    "    \n",
    "    model = RandomForestClassifier(n_jobs=-1, random_state=18, **params)\n",
    "    \n",
    "    train_preds = cross_val_predict(model, Xtrain, Ytrain, cv=5, method='predict_proba')\n",
    "    print(f\"Score : {accuracy_score(Ytrain, np.argmax(train_preds, axis=1))}\")\n",
    "    stack_train_1 = np.concatenate((stack_train_1, train_preds), axis=1)\n",
    "    model.fit(Xtrain, Ytrain)\n",
    "    stack_test_1 = np.concatenate((stack_test_1, model.predict_proba(Xtest)), axis=1)\n",
    "\n",
    "    pd.DataFrame(stack_train_1).to_csv('stack_train_1.csv', index=False)\n",
    "    pd.DataFrame(stack_test_1).to_csv('stack_test_1.csv', index=False)\n",
    "\n",
    "    print(stack_train_1.shape, stack_test_1.shape, '\\n')\n",
    "    \n",
    "rf_params_list = pd.DataFrame.from_dict(rf_params_list)\n",
    "rf_params_list.to_csv('rf_params_list.csv', index=False)\n",
    "rf_params_list.head(10)"
   ]
  },
  {
   "cell_type": "markdown",
   "metadata": {},
   "source": [
    "```python\n",
    "rf_params_list = pd.read_csv('rf_params_list.csv')\n",
    "\n",
    "for i in rf_params_list.index:\n",
    "    params = dict(rf_params_list.loc[i])\n",
    "\n",
    "\n",
    "    model = RandomForestClassifier(n_jobs=-1, random_state=18, **params)\n",
    "    \n",
    "    train_preds = cross_val_predict(model, Xtrain, Ytrain, cv=5, method='predict_proba')\n",
    "    print(f\"Score : {accuracy_score(Ytrain, np.argmax(train_preds, axis=1))}\")\n",
    "    stack_train_1 = np.concatenate((stack_train_1, train_preds), axis=1)\n",
    "    model.fit(Xtrain, Ytrain)\n",
    "    stack_test_1 = np.concatenate((stack_test_1, model.predict_proba(Xtest)), axis=1)\n",
    "\n",
    "    pd.DataFrame(stack_train_1).to_csv('stack_train_1.csv', index=False)\n",
    "    pd.DataFrame(stack_test_1).to_csv('stack_test_1.csv', index=False)\n",
    "\n",
    "    print(stack_train_1.shape, stack_test_1.shape, '\\n')\n",
    "```"
   ]
  },
  {
   "cell_type": "markdown",
   "metadata": {},
   "source": [
    "### ExtraTrees"
   ]
  },
  {
   "cell_type": "code",
   "execution_count": 12,
   "metadata": {
    "scrolled": true
   },
   "outputs": [
    {
     "name": "stdout",
     "output_type": "stream",
     "text": [
      "Score : 0.44970703125\n",
      "(2048, 2250) (20480, 2250) \n",
      "\n",
      "Score : 0.4443359375\n",
      "(2048, 2260) (20480, 2260) \n",
      "\n",
      "Score : 0.42724609375\n",
      "(2048, 2270) (20480, 2270) \n",
      "\n",
      "Score : 0.45751953125\n",
      "(2048, 2280) (20480, 2280) \n",
      "\n",
      "Score : 0.4404296875\n",
      "(2048, 2290) (20480, 2290) \n",
      "\n",
      "Score : 0.43310546875\n",
      "(2048, 2300) (20480, 2300) \n",
      "\n",
      "Score : 0.4423828125\n",
      "(2048, 2310) (20480, 2310) \n",
      "\n",
      "Score : 0.44580078125\n",
      "(2048, 2320) (20480, 2320) \n",
      "\n",
      "Score : 0.47314453125\n",
      "(2048, 2330) (20480, 2330) \n",
      "\n",
      "Score : 0.46435546875\n",
      "(2048, 2340) (20480, 2340) \n",
      "\n",
      "Score : 0.4638671875\n",
      "(2048, 2350) (20480, 2350) \n",
      "\n",
      "Score : 0.46337890625\n",
      "(2048, 2360) (20480, 2360) \n",
      "\n",
      "Score : 0.4521484375\n",
      "(2048, 2370) (20480, 2370) \n",
      "\n",
      "Score : 0.43701171875\n",
      "(2048, 2380) (20480, 2380) \n",
      "\n",
      "Score : 0.42333984375\n",
      "(2048, 2390) (20480, 2390) \n",
      "\n",
      "Score : 0.46337890625\n",
      "(2048, 2400) (20480, 2400) \n",
      "\n",
      "Score : 0.4365234375\n",
      "(2048, 2410) (20480, 2410) \n",
      "\n",
      "Score : 0.44580078125\n",
      "(2048, 2420) (20480, 2420) \n",
      "\n",
      "Score : 0.46044921875\n",
      "(2048, 2430) (20480, 2430) \n",
      "\n",
      "Score : 0.45751953125\n",
      "(2048, 2440) (20480, 2440) \n",
      "\n",
      "Score : 0.45654296875\n",
      "(2048, 2450) (20480, 2450) \n",
      "\n",
      "Score : 0.43603515625\n",
      "(2048, 2460) (20480, 2460) \n",
      "\n",
      "Score : 0.4287109375\n",
      "(2048, 2470) (20480, 2470) \n",
      "\n",
      "Score : 0.45703125\n",
      "(2048, 2480) (20480, 2480) \n",
      "\n",
      "Score : 0.47412109375\n",
      "(2048, 2490) (20480, 2490) \n",
      "\n",
      "Score : 0.4541015625\n",
      "(2048, 2500) (20480, 2500) \n",
      "\n",
      "Score : 0.46533203125\n",
      "(2048, 2510) (20480, 2510) \n",
      "\n",
      "Score : 0.44873046875\n",
      "(2048, 2520) (20480, 2520) \n",
      "\n",
      "Score : 0.46142578125\n",
      "(2048, 2530) (20480, 2530) \n",
      "\n",
      "Score : 0.45068359375\n",
      "(2048, 2540) (20480, 2540) \n",
      "\n",
      "Score : 0.40185546875\n",
      "(2048, 2550) (20480, 2550) \n",
      "\n",
      "Score : 0.46533203125\n",
      "(2048, 2560) (20480, 2560) \n",
      "\n",
      "Score : 0.451171875\n",
      "(2048, 2570) (20480, 2570) \n",
      "\n",
      "Score : 0.4541015625\n",
      "(2048, 2580) (20480, 2580) \n",
      "\n",
      "Score : 0.45654296875\n",
      "(2048, 2590) (20480, 2590) \n",
      "\n",
      "Score : 0.4501953125\n",
      "(2048, 2600) (20480, 2600) \n",
      "\n",
      "Score : 0.45751953125\n",
      "(2048, 2610) (20480, 2610) \n",
      "\n",
      "Score : 0.46337890625\n",
      "(2048, 2620) (20480, 2620) \n",
      "\n",
      "Score : 0.4267578125\n",
      "(2048, 2630) (20480, 2630) \n",
      "\n",
      "Score : 0.41552734375\n",
      "(2048, 2640) (20480, 2640) \n",
      "\n",
      "Score : 0.44677734375\n",
      "(2048, 2650) (20480, 2650) \n",
      "\n",
      "Score : 0.44140625\n",
      "(2048, 2660) (20480, 2660) \n",
      "\n",
      "Score : 0.455078125\n",
      "(2048, 2670) (20480, 2670) \n",
      "\n",
      "Score : 0.46044921875\n",
      "(2048, 2680) (20480, 2680) \n",
      "\n",
      "Score : 0.4609375\n",
      "(2048, 2690) (20480, 2690) \n",
      "\n",
      "Score : 0.4169921875\n",
      "(2048, 2700) (20480, 2700) \n",
      "\n",
      "Score : 0.4404296875\n",
      "(2048, 2710) (20480, 2710) \n",
      "\n",
      "Score : 0.4541015625\n",
      "(2048, 2720) (20480, 2720) \n",
      "\n",
      "Score : 0.44970703125\n",
      "(2048, 2730) (20480, 2730) \n",
      "\n",
      "Score : 0.43603515625\n",
      "(2048, 2740) (20480, 2740) \n",
      "\n"
     ]
    },
    {
     "data": {
      "text/html": [
       "<div>\n",
       "<style scoped>\n",
       "    .dataframe tbody tr th:only-of-type {\n",
       "        vertical-align: middle;\n",
       "    }\n",
       "\n",
       "    .dataframe tbody tr th {\n",
       "        vertical-align: top;\n",
       "    }\n",
       "\n",
       "    .dataframe thead th {\n",
       "        text-align: right;\n",
       "    }\n",
       "</style>\n",
       "<table border=\"1\" class=\"dataframe\">\n",
       "  <thead>\n",
       "    <tr style=\"text-align: right;\">\n",
       "      <th></th>\n",
       "      <th>n_estimators</th>\n",
       "      <th>max_depth</th>\n",
       "      <th>criterion</th>\n",
       "    </tr>\n",
       "  </thead>\n",
       "  <tbody>\n",
       "    <tr>\n",
       "      <th>0</th>\n",
       "      <td>367</td>\n",
       "      <td>7</td>\n",
       "      <td>gini</td>\n",
       "    </tr>\n",
       "    <tr>\n",
       "      <th>1</th>\n",
       "      <td>448</td>\n",
       "      <td>7</td>\n",
       "      <td>gini</td>\n",
       "    </tr>\n",
       "    <tr>\n",
       "      <th>2</th>\n",
       "      <td>125</td>\n",
       "      <td>7</td>\n",
       "      <td>entropy</td>\n",
       "    </tr>\n",
       "    <tr>\n",
       "      <th>3</th>\n",
       "      <td>213</td>\n",
       "      <td>15</td>\n",
       "      <td>gini</td>\n",
       "    </tr>\n",
       "    <tr>\n",
       "      <th>4</th>\n",
       "      <td>197</td>\n",
       "      <td>8</td>\n",
       "      <td>entropy</td>\n",
       "    </tr>\n",
       "    <tr>\n",
       "      <th>5</th>\n",
       "      <td>106</td>\n",
       "      <td>10</td>\n",
       "      <td>gini</td>\n",
       "    </tr>\n",
       "    <tr>\n",
       "      <th>6</th>\n",
       "      <td>316</td>\n",
       "      <td>6</td>\n",
       "      <td>gini</td>\n",
       "    </tr>\n",
       "    <tr>\n",
       "      <th>7</th>\n",
       "      <td>163</td>\n",
       "      <td>19</td>\n",
       "      <td>gini</td>\n",
       "    </tr>\n",
       "    <tr>\n",
       "      <th>8</th>\n",
       "      <td>489</td>\n",
       "      <td>18</td>\n",
       "      <td>gini</td>\n",
       "    </tr>\n",
       "    <tr>\n",
       "      <th>9</th>\n",
       "      <td>449</td>\n",
       "      <td>11</td>\n",
       "      <td>entropy</td>\n",
       "    </tr>\n",
       "  </tbody>\n",
       "</table>\n",
       "</div>"
      ],
      "text/plain": [
       "   n_estimators  max_depth criterion\n",
       "0           367          7      gini\n",
       "1           448          7      gini\n",
       "2           125          7   entropy\n",
       "3           213         15      gini\n",
       "4           197          8   entropy\n",
       "5           106         10      gini\n",
       "6           316          6      gini\n",
       "7           163         19      gini\n",
       "8           489         18      gini\n",
       "9           449         11   entropy"
      ]
     },
     "execution_count": 12,
     "metadata": {},
     "output_type": "execute_result"
    }
   ],
   "source": [
    "num_models=50\n",
    "et_params_list=[]\n",
    "\n",
    "for _ in range(num_models):\n",
    "    params = {'n_estimators' : np.random.randint(low=100, high=500), \n",
    "             'max_depth' : np.random.randint(low=3, high=20),\n",
    "              'criterion' : np.random.choice(['gini','entropy'])\n",
    "             }\n",
    "    \n",
    "    et_params_list.append(params)\n",
    "    \n",
    "    model = ExtraTreesClassifier(n_jobs=-1, random_state=18, **params)\n",
    "    \n",
    "    train_preds = cross_val_predict(model, Xtrain, Ytrain, cv=5, method='predict_proba')\n",
    "    print(f\"Score : {accuracy_score(Ytrain, np.argmax(train_preds, axis=1))}\")\n",
    "    stack_train_1 = np.concatenate((stack_train_1, train_preds), axis=1)\n",
    "    model.fit(Xtrain, Ytrain)\n",
    "    stack_test_1 = np.concatenate((stack_test_1, model.predict_proba(Xtest)), axis=1)\n",
    "\n",
    "    pd.DataFrame(stack_train_1).to_csv('stack_train_1.csv', index=False)\n",
    "    pd.DataFrame(stack_test_1).to_csv('stack_test_1.csv', index=False)\n",
    "\n",
    "    print(stack_train_1.shape, stack_test_1.shape, '\\n')\n",
    "        \n",
    "    \n",
    "et_params_list = pd.DataFrame.from_dict(et_params_list)\n",
    "et_params_list.to_csv('et_params_list.csv', index=False)\n",
    "et_params_list.head(10)"
   ]
  },
  {
   "cell_type": "markdown",
   "metadata": {},
   "source": [
    "```python\n",
    "et_params_list = pd.read_csv('et_params_list.csv')\n",
    "\n",
    "for i in et_params_list.index:\n",
    "    params = dict(et_params_list.loc[i])\n",
    "\n",
    "    model = ExtraTreesClassifier(n_jobs=-1, random_state=18, **params)\n",
    "    \n",
    "    train_preds = cross_val_predict(model, Xtrain, Ytrain, cv=5, method='predict_proba')\n",
    "    print(f\"Score : {accuracy_score(Ytrain, np.argmax(train_preds, axis=1))}\")\n",
    "    stack_train_1 = np.concatenate((stack_train_1, train_preds), axis=1)\n",
    "    model.fit(Xtrain, Ytrain)\n",
    "    stack_test_1 = np.concatenate((stack_test_1, model.predict_proba(Xtest)), axis=1)\n",
    "\n",
    "    pd.DataFrame(stack_train_1).to_csv('stack_train_1.csv', index=False)\n",
    "    pd.DataFrame(stack_test_1).to_csv('stack_test_1.csv', index=False)\n",
    "\n",
    "    print(stack_train_1.shape, stack_test_1.shape, '\\n')\n",
    "```"
   ]
  },
  {
   "cell_type": "markdown",
   "metadata": {},
   "source": [
    "### LogisticRegression"
   ]
  },
  {
   "cell_type": "code",
   "execution_count": 13,
   "metadata": {
    "scrolled": true
   },
   "outputs": [
    {
     "name": "stdout",
     "output_type": "stream",
     "text": [
      "Score : 0.28515625\n",
      "(2048, 2750) (20480, 2750) \n",
      "\n",
      "Score : 0.34765625\n",
      "(2048, 2760) (20480, 2760) \n",
      "\n",
      "Score : 0.11083984375\n",
      "(2048, 2770) (20480, 2770) \n",
      "\n",
      "Score : 0.2783203125\n",
      "(2048, 2780) (20480, 2780) \n",
      "\n",
      "Score : 0.2412109375\n",
      "(2048, 2790) (20480, 2790) \n",
      "\n",
      "Score : 0.28662109375\n",
      "(2048, 2800) (20480, 2800) \n",
      "\n",
      "Score : 0.29541015625\n",
      "(2048, 2810) (20480, 2810) \n",
      "\n",
      "Score : 0.11083984375\n",
      "(2048, 2820) (20480, 2820) \n",
      "\n",
      "Score : 0.302734375\n",
      "(2048, 2830) (20480, 2830) \n",
      "\n",
      "Score : 0.3427734375\n",
      "(2048, 2840) (20480, 2840) \n",
      "\n",
      "Score : 0.11083984375\n",
      "(2048, 2850) (20480, 2850) \n",
      "\n",
      "Score : 0.11181640625\n",
      "(2048, 2860) (20480, 2860) \n",
      "\n",
      "Score : 0.17236328125\n",
      "(2048, 2870) (20480, 2870) \n",
      "\n",
      "Score : 0.29052734375\n",
      "(2048, 2880) (20480, 2880) \n",
      "\n",
      "Score : 0.232421875\n",
      "(2048, 2890) (20480, 2890) \n",
      "\n",
      "Score : 0.11083984375\n",
      "(2048, 2900) (20480, 2900) \n",
      "\n",
      "Score : 0.11083984375\n",
      "(2048, 2910) (20480, 2910) \n",
      "\n",
      "Score : 0.33544921875\n",
      "(2048, 2920) (20480, 2920) \n",
      "\n",
      "Score : 0.11083984375\n",
      "(2048, 2930) (20480, 2930) \n",
      "\n",
      "Score : 0.32958984375\n",
      "(2048, 2940) (20480, 2940) \n",
      "\n",
      "Score : 0.28369140625\n",
      "(2048, 2950) (20480, 2950) \n",
      "\n",
      "Score : 0.3291015625\n",
      "(2048, 2960) (20480, 2960) \n",
      "\n",
      "Score : 0.29638671875\n",
      "(2048, 2970) (20480, 2970) \n",
      "\n",
      "Score : 0.29833984375\n",
      "(2048, 2980) (20480, 2980) \n",
      "\n",
      "Score : 0.11083984375\n",
      "(2048, 2990) (20480, 2990) \n",
      "\n",
      "Score : 0.29052734375\n",
      "(2048, 3000) (20480, 3000) \n",
      "\n",
      "Score : 0.11376953125\n",
      "(2048, 3010) (20480, 3010) \n",
      "\n",
      "Score : 0.11376953125\n",
      "(2048, 3020) (20480, 3020) \n",
      "\n",
      "Score : 0.11083984375\n",
      "(2048, 3030) (20480, 3030) \n",
      "\n",
      "Score : 0.33740234375\n",
      "(2048, 3040) (20480, 3040) \n",
      "\n",
      "Score : 0.3427734375\n",
      "(2048, 3050) (20480, 3050) \n",
      "\n",
      "Score : 0.24755859375\n",
      "(2048, 3060) (20480, 3060) \n",
      "\n",
      "Score : 0.30712890625\n",
      "(2048, 3070) (20480, 3070) \n",
      "\n",
      "Score : 0.3037109375\n",
      "(2048, 3080) (20480, 3080) \n",
      "\n",
      "Score : 0.11376953125\n",
      "(2048, 3090) (20480, 3090) \n",
      "\n",
      "Score : 0.310546875\n",
      "(2048, 3100) (20480, 3100) \n",
      "\n",
      "Score : 0.3466796875\n",
      "(2048, 3110) (20480, 3110) \n",
      "\n",
      "Score : 0.11376953125\n",
      "(2048, 3120) (20480, 3120) \n",
      "\n",
      "Score : 0.330078125\n",
      "(2048, 3130) (20480, 3130) \n",
      "\n",
      "Score : 0.11376953125\n",
      "(2048, 3140) (20480, 3140) \n",
      "\n",
      "Score : 0.32568359375\n",
      "(2048, 3150) (20480, 3150) \n",
      "\n",
      "Score : 0.302734375\n",
      "(2048, 3160) (20480, 3160) \n",
      "\n",
      "Score : 0.11376953125\n",
      "(2048, 3170) (20480, 3170) \n",
      "\n",
      "Score : 0.32177734375\n",
      "(2048, 3180) (20480, 3180) \n",
      "\n",
      "Score : 0.11376953125\n",
      "(2048, 3190) (20480, 3190) \n",
      "\n",
      "Score : 0.11181640625\n",
      "(2048, 3200) (20480, 3200) \n",
      "\n",
      "Score : 0.11083984375\n",
      "(2048, 3210) (20480, 3210) \n",
      "\n",
      "Score : 0.29443359375\n",
      "(2048, 3220) (20480, 3220) \n",
      "\n",
      "Score : 0.3466796875\n",
      "(2048, 3230) (20480, 3230) \n",
      "\n",
      "Score : 0.11376953125\n",
      "(2048, 3240) (20480, 3240) \n",
      "\n"
     ]
    },
    {
     "data": {
      "text/html": [
       "<div>\n",
       "<style scoped>\n",
       "    .dataframe tbody tr th:only-of-type {\n",
       "        vertical-align: middle;\n",
       "    }\n",
       "\n",
       "    .dataframe tbody tr th {\n",
       "        vertical-align: top;\n",
       "    }\n",
       "\n",
       "    .dataframe thead th {\n",
       "        text-align: right;\n",
       "    }\n",
       "</style>\n",
       "<table border=\"1\" class=\"dataframe\">\n",
       "  <thead>\n",
       "    <tr style=\"text-align: right;\">\n",
       "      <th></th>\n",
       "      <th>l1_ratio</th>\n",
       "      <th>C</th>\n",
       "    </tr>\n",
       "  </thead>\n",
       "  <tbody>\n",
       "    <tr>\n",
       "      <th>0</th>\n",
       "      <td>0.107496</td>\n",
       "      <td>9.288898</td>\n",
       "    </tr>\n",
       "    <tr>\n",
       "      <th>1</th>\n",
       "      <td>0.896127</td>\n",
       "      <td>0.571785</td>\n",
       "    </tr>\n",
       "    <tr>\n",
       "      <th>2</th>\n",
       "      <td>0.921306</td>\n",
       "      <td>0.000177</td>\n",
       "    </tr>\n",
       "    <tr>\n",
       "      <th>3</th>\n",
       "      <td>0.641018</td>\n",
       "      <td>9.709969</td>\n",
       "    </tr>\n",
       "    <tr>\n",
       "      <th>4</th>\n",
       "      <td>0.042959</td>\n",
       "      <td>0.003900</td>\n",
       "    </tr>\n",
       "    <tr>\n",
       "      <th>5</th>\n",
       "      <td>0.347702</td>\n",
       "      <td>6.418053</td>\n",
       "    </tr>\n",
       "    <tr>\n",
       "      <th>6</th>\n",
       "      <td>0.667746</td>\n",
       "      <td>0.099545</td>\n",
       "    </tr>\n",
       "    <tr>\n",
       "      <th>7</th>\n",
       "      <td>0.922505</td>\n",
       "      <td>0.000531</td>\n",
       "    </tr>\n",
       "    <tr>\n",
       "      <th>8</th>\n",
       "      <td>0.408538</td>\n",
       "      <td>0.079419</td>\n",
       "    </tr>\n",
       "    <tr>\n",
       "      <th>9</th>\n",
       "      <td>0.609769</td>\n",
       "      <td>0.658013</td>\n",
       "    </tr>\n",
       "  </tbody>\n",
       "</table>\n",
       "</div>"
      ],
      "text/plain": [
       "   l1_ratio         C\n",
       "0  0.107496  9.288898\n",
       "1  0.896127  0.571785\n",
       "2  0.921306  0.000177\n",
       "3  0.641018  9.709969\n",
       "4  0.042959  0.003900\n",
       "5  0.347702  6.418053\n",
       "6  0.667746  0.099545\n",
       "7  0.922505  0.000531\n",
       "8  0.408538  0.079419\n",
       "9  0.609769  0.658013"
      ]
     },
     "execution_count": 13,
     "metadata": {},
     "output_type": "execute_result"
    }
   ],
   "source": [
    "num_models=50\n",
    "logistic_params_list=[]\n",
    "\n",
    "for _ in range(num_models):\n",
    "    params = {\n",
    "             'l1_ratio' : np.random.uniform(low=0, high=1),\n",
    "              'C' : loguniform.rvs(1e-4, 10)\n",
    "             }\n",
    "    \n",
    "    logistic_params_list.append(params)\n",
    "    \n",
    "    model = LogisticRegression(solver='saga', penalty='elasticnet', random_state=18, max_iter=10000, multi_class='multinomial', \n",
    "                               n_jobs=-1, **params\n",
    "                              )\n",
    "    \n",
    "    train_preds = cross_val_predict(model, Xtrain, Ytrain, cv=5, method='predict_proba', n_jobs=5)\n",
    "    print(f\"Score : {accuracy_score(Ytrain, np.argmax(train_preds, axis=1))}\")\n",
    "    stack_train_1 = np.concatenate((stack_train_1, train_preds), axis=1)\n",
    "    model.fit(Xtrain, Ytrain)\n",
    "    stack_test_1 = np.concatenate((stack_test_1, model.predict_proba(Xtest)), axis=1)\n",
    "\n",
    "    pd.DataFrame(stack_train_1).to_csv('stack_train_1.csv', index=False)\n",
    "    pd.DataFrame(stack_test_1).to_csv('stack_test_1.csv', index=False)\n",
    "\n",
    "    print(stack_train_1.shape, stack_test_1.shape, '\\n')\n",
    "        \n",
    "    \n",
    "logistic_params_list = pd.DataFrame.from_dict(logistic_params_list)\n",
    "logistic_params_list.to_csv('logistic_params_list.csv', index=False)\n",
    "logistic_params_list.head(10)"
   ]
  },
  {
   "cell_type": "markdown",
   "metadata": {},
   "source": [
    "```python\n",
    "logistic_params_list = pd.read_csv('logistic_params_list.csv')\n",
    "\n",
    "for i in logistic_params_list.index:\n",
    "    params = dict(logistic_params_list.loc[i])\n",
    "\n",
    "    model = LogisticRegression(solver='saga', penalty='elasticnet', random_state=18, max_iter=10000, multi_class='multinomial', \n",
    "                               n_jobs=-1, **params\n",
    "                              )\n",
    "    \n",
    "    train_preds = cross_val_predict(model, Xtrain, Ytrain, cv=5, method='predict_proba')\n",
    "    print(f\"Score : {accuracy_score(Ytrain, np.argmax(train_preds, axis=1))}\")\n",
    "    stack_train_1 = np.concatenate((stack_train_1, train_preds), axis=1)\n",
    "    model.fit(Xtrain, Ytrain)\n",
    "    stack_test_1 = np.concatenate((stack_test_1, model.predict_proba(Xtest)), axis=1)\n",
    "\n",
    "    pd.DataFrame(stack_train_1).to_csv('stack_train_1.csv', index=False)\n",
    "    pd.DataFrame(stack_test_1).to_csv('stack_test_1.csv', index=False)\n",
    "\n",
    "    print(stack_train_1.shape, stack_test_1.shape, '\\n')\n",
    "```"
   ]
  },
  {
   "cell_type": "markdown",
   "metadata": {},
   "source": [
    "### SVM"
   ]
  },
  {
   "cell_type": "code",
   "execution_count": 14,
   "metadata": {
    "scrolled": true
   },
   "outputs": [
    {
     "name": "stdout",
     "output_type": "stream",
     "text": [
      "Score : 0.2294921875\n",
      "(2048, 3250) (20480, 3250) \n",
      "\n",
      "Score : 0.203125\n",
      "(2048, 3260) (20480, 3260) \n",
      "\n",
      "Score : 0.17236328125\n",
      "(2048, 3270) (20480, 3270) \n",
      "\n",
      "Score : 0.17529296875\n",
      "(2048, 3280) (20480, 3280) \n",
      "\n",
      "Score : 0.2958984375\n",
      "(2048, 3290) (20480, 3290) \n",
      "\n",
      "Score : 0.26806640625\n",
      "(2048, 3300) (20480, 3300) \n",
      "\n",
      "Score : 0.2998046875\n",
      "(2048, 3310) (20480, 3310) \n",
      "\n",
      "Score : 0.35888671875\n",
      "(2048, 3320) (20480, 3320) \n",
      "\n",
      "Score : 0.28173828125\n",
      "(2048, 3330) (20480, 3330) \n",
      "\n",
      "Score : 0.23583984375\n",
      "(2048, 3340) (20480, 3340) \n",
      "\n",
      "Score : 0.3564453125\n",
      "(2048, 3350) (20480, 3350) \n",
      "\n",
      "Score : 0.1953125\n",
      "(2048, 3360) (20480, 3360) \n",
      "\n",
      "Score : 0.29638671875\n",
      "(2048, 3370) (20480, 3370) \n",
      "\n",
      "Score : 0.11181640625\n",
      "(2048, 3380) (20480, 3380) \n",
      "\n",
      "Score : 0.2568359375\n",
      "(2048, 3390) (20480, 3390) \n",
      "\n",
      "Score : 0.22265625\n",
      "(2048, 3400) (20480, 3400) \n",
      "\n",
      "Score : 0.17431640625\n",
      "(2048, 3410) (20480, 3410) \n",
      "\n",
      "Score : 0.3330078125\n",
      "(2048, 3420) (20480, 3420) \n",
      "\n",
      "Score : 0.353515625\n",
      "(2048, 3430) (20480, 3430) \n",
      "\n",
      "Score : 0.29638671875\n",
      "(2048, 3440) (20480, 3440) \n",
      "\n",
      "Score : 0.23193359375\n",
      "(2048, 3450) (20480, 3450) \n",
      "\n",
      "Score : 0.2353515625\n",
      "(2048, 3460) (20480, 3460) \n",
      "\n",
      "Score : 0.17822265625\n",
      "(2048, 3470) (20480, 3470) \n",
      "\n",
      "Score : 0.349609375\n",
      "(2048, 3480) (20480, 3480) \n",
      "\n",
      "Score : 0.27294921875\n",
      "(2048, 3490) (20480, 3490) \n",
      "\n",
      "Score : 0.23583984375\n",
      "(2048, 3500) (20480, 3500) \n",
      "\n",
      "Score : 0.20703125\n",
      "(2048, 3510) (20480, 3510) \n",
      "\n",
      "Score : 0.34912109375\n",
      "(2048, 3520) (20480, 3520) \n",
      "\n",
      "Score : 0.25048828125\n",
      "(2048, 3530) (20480, 3530) \n",
      "\n",
      "Score : 0.35693359375\n",
      "(2048, 3540) (20480, 3540) \n",
      "\n",
      "Score : 0.17626953125\n",
      "(2048, 3550) (20480, 3550) \n",
      "\n",
      "Score : 0.17138671875\n",
      "(2048, 3560) (20480, 3560) \n",
      "\n",
      "Score : 0.3046875\n",
      "(2048, 3570) (20480, 3570) \n",
      "\n",
      "Score : 0.22314453125\n",
      "(2048, 3580) (20480, 3580) \n",
      "\n",
      "Score : 0.291015625\n",
      "(2048, 3590) (20480, 3590) \n",
      "\n",
      "Score : 0.236328125\n",
      "(2048, 3600) (20480, 3600) \n",
      "\n",
      "Score : 0.11181640625\n",
      "(2048, 3610) (20480, 3610) \n",
      "\n",
      "Score : 0.21923828125\n",
      "(2048, 3620) (20480, 3620) \n",
      "\n",
      "Score : 0.3486328125\n",
      "(2048, 3630) (20480, 3630) \n",
      "\n",
      "Score : 0.3515625\n",
      "(2048, 3640) (20480, 3640) \n",
      "\n",
      "Score : 0.23486328125\n",
      "(2048, 3650) (20480, 3650) \n",
      "\n",
      "Score : 0.294921875\n",
      "(2048, 3660) (20480, 3660) \n",
      "\n",
      "Score : 0.2353515625\n",
      "(2048, 3670) (20480, 3670) \n",
      "\n",
      "Score : 0.302734375\n",
      "(2048, 3680) (20480, 3680) \n",
      "\n",
      "Score : 0.318359375\n",
      "(2048, 3690) (20480, 3690) \n",
      "\n",
      "Score : 0.36279296875\n",
      "(2048, 3700) (20480, 3700) \n",
      "\n",
      "Score : 0.11181640625\n",
      "(2048, 3710) (20480, 3710) \n",
      "\n",
      "Score : 0.265625\n",
      "(2048, 3720) (20480, 3720) \n",
      "\n",
      "Score : 0.23486328125\n",
      "(2048, 3730) (20480, 3730) \n",
      "\n",
      "Score : 0.2080078125\n",
      "(2048, 3740) (20480, 3740) \n",
      "\n"
     ]
    },
    {
     "data": {
      "text/html": [
       "<div>\n",
       "<style scoped>\n",
       "    .dataframe tbody tr th:only-of-type {\n",
       "        vertical-align: middle;\n",
       "    }\n",
       "\n",
       "    .dataframe tbody tr th {\n",
       "        vertical-align: top;\n",
       "    }\n",
       "\n",
       "    .dataframe thead th {\n",
       "        text-align: right;\n",
       "    }\n",
       "</style>\n",
       "<table border=\"1\" class=\"dataframe\">\n",
       "  <thead>\n",
       "    <tr style=\"text-align: right;\">\n",
       "      <th></th>\n",
       "      <th>C</th>\n",
       "      <th>kernel</th>\n",
       "      <th>degree</th>\n",
       "      <th>coef0</th>\n",
       "    </tr>\n",
       "  </thead>\n",
       "  <tbody>\n",
       "    <tr>\n",
       "      <th>0</th>\n",
       "      <td>0.000462</td>\n",
       "      <td>rbf</td>\n",
       "      <td>6.500212</td>\n",
       "      <td>5.234756</td>\n",
       "    </tr>\n",
       "    <tr>\n",
       "      <th>1</th>\n",
       "      <td>7.750169</td>\n",
       "      <td>sigmoid</td>\n",
       "      <td>8.375497</td>\n",
       "      <td>5.171611</td>\n",
       "    </tr>\n",
       "    <tr>\n",
       "      <th>2</th>\n",
       "      <td>0.962193</td>\n",
       "      <td>sigmoid</td>\n",
       "      <td>5.184296</td>\n",
       "      <td>6.581142</td>\n",
       "    </tr>\n",
       "    <tr>\n",
       "      <th>3</th>\n",
       "      <td>0.000213</td>\n",
       "      <td>sigmoid</td>\n",
       "      <td>7.990680</td>\n",
       "      <td>2.791058</td>\n",
       "    </tr>\n",
       "    <tr>\n",
       "      <th>4</th>\n",
       "      <td>0.007019</td>\n",
       "      <td>linear</td>\n",
       "      <td>6.571852</td>\n",
       "      <td>6.132748</td>\n",
       "    </tr>\n",
       "    <tr>\n",
       "      <th>5</th>\n",
       "      <td>0.114085</td>\n",
       "      <td>rbf</td>\n",
       "      <td>3.017537</td>\n",
       "      <td>6.285275</td>\n",
       "    </tr>\n",
       "    <tr>\n",
       "      <th>6</th>\n",
       "      <td>1.115022</td>\n",
       "      <td>linear</td>\n",
       "      <td>3.137375</td>\n",
       "      <td>7.236330</td>\n",
       "    </tr>\n",
       "    <tr>\n",
       "      <th>7</th>\n",
       "      <td>1.127971</td>\n",
       "      <td>rbf</td>\n",
       "      <td>7.680175</td>\n",
       "      <td>9.140542</td>\n",
       "    </tr>\n",
       "    <tr>\n",
       "      <th>8</th>\n",
       "      <td>0.004068</td>\n",
       "      <td>linear</td>\n",
       "      <td>7.188356</td>\n",
       "      <td>0.427105</td>\n",
       "    </tr>\n",
       "    <tr>\n",
       "      <th>9</th>\n",
       "      <td>0.036825</td>\n",
       "      <td>rbf</td>\n",
       "      <td>4.795133</td>\n",
       "      <td>5.982180</td>\n",
       "    </tr>\n",
       "  </tbody>\n",
       "</table>\n",
       "</div>"
      ],
      "text/plain": [
       "          C   kernel    degree     coef0\n",
       "0  0.000462      rbf  6.500212  5.234756\n",
       "1  7.750169  sigmoid  8.375497  5.171611\n",
       "2  0.962193  sigmoid  5.184296  6.581142\n",
       "3  0.000213  sigmoid  7.990680  2.791058\n",
       "4  0.007019   linear  6.571852  6.132748\n",
       "5  0.114085      rbf  3.017537  6.285275\n",
       "6  1.115022   linear  3.137375  7.236330\n",
       "7  1.127971      rbf  7.680175  9.140542\n",
       "8  0.004068   linear  7.188356  0.427105\n",
       "9  0.036825      rbf  4.795133  5.982180"
      ]
     },
     "execution_count": 14,
     "metadata": {},
     "output_type": "execute_result"
    }
   ],
   "source": [
    "num_models=50\n",
    "svm_params_list=[]\n",
    "\n",
    "for _ in range(num_models):\n",
    "    params = {'C' : loguniform.rvs(1e-4, 10),\n",
    "              'kernel' : np.random.choice(['rbf','linear','poly','sigmoid']),\n",
    "              'degree' : np.random.uniform(low=0, high=10),\n",
    "              'coef0' : np.random.uniform(low=0, high=10)\n",
    "             }\n",
    "    \n",
    "    svm_params_list.append(params)\n",
    "    \n",
    "    model = SVC(random_state=18, **params, probability=True)\n",
    "\n",
    "    train_preds = cross_val_predict(model, Xtrain, Ytrain, cv=5, method='predict_proba', n_jobs=-1)\n",
    "    print(f\"Score : {accuracy_score(Ytrain, np.argmax(train_preds, axis=1))}\")\n",
    "    stack_train_1 = np.concatenate((stack_train_1, train_preds), axis=1)\n",
    "    model.fit(Xtrain, Ytrain)\n",
    "    stack_test_1 = np.concatenate((stack_test_1, model.predict_proba(Xtest)), axis=1)\n",
    "\n",
    "    pd.DataFrame(stack_train_1).to_csv('stack_train_1.csv', index=False)\n",
    "    pd.DataFrame(stack_test_1).to_csv('stack_test_1.csv', index=False)\n",
    "\n",
    "    print(stack_train_1.shape, stack_test_1.shape, '\\n')\n",
    "        \n",
    "    \n",
    "svm_params_list = pd.DataFrame.from_dict(svm_params_list)\n",
    "svm_params_list.to_csv('svm_params_list.csv', index=False)\n",
    "svm_params_list.head(10)"
   ]
  },
  {
   "cell_type": "markdown",
   "metadata": {},
   "source": [
    "```python\n",
    "svm_params_list = pd.read_csv('svm_params_list.csv')\n",
    "\n",
    "for i in svm_params_list.index:\n",
    "    params = dict(svm_params_list.loc[i])\n",
    "\n",
    "    model = SVC(random_state=18, **params, probability=True)\n",
    "\n",
    "    train_preds = cross_val_predict(model, Xtrain, Ytrain, cv=5, method='predict_proba', n_jobs=-1)\n",
    "    print(f\"Score : {accuracy_score(Ytrain, np.argmax(train_preds, axis=1))}\")\n",
    "    stack_train_1 = np.concatenate((stack_train_1, train_preds), axis=1)\n",
    "    model.fit(Xtrain, Ytrain)\n",
    "    stack_test_1 = np.concatenate((stack_test_1, model.predict_proba(Xtest)), axis=1)\n",
    "\n",
    "    pd.DataFrame(stack_train_1).to_csv('stack_train_1.csv', index=False)\n",
    "    pd.DataFrame(stack_test_1).to_csv('stack_test_1.csv', index=False)\n",
    "\n",
    "    print(stack_train_1.shape, stack_test_1.shape, '\\n')\n",
    "```"
   ]
  },
  {
   "cell_type": "markdown",
   "metadata": {},
   "source": [
    "### GaussianProcess"
   ]
  },
  {
   "cell_type": "code",
   "execution_count": 15,
   "metadata": {},
   "outputs": [
    {
     "name": "stdout",
     "output_type": "stream",
     "text": [
      "Score : 0.20849609375\n",
      "(2048, 3750) (20480, 3750) \n",
      "\n"
     ]
    }
   ],
   "source": [
    "model = GaussianProcessClassifier(random_state=18, n_jobs=-1, max_iter_predict=1000)\n",
    "train_preds = cross_val_predict(model, Xtrain, Ytrain, cv=5, method='predict_proba')\n",
    "print(f\"Score : {accuracy_score(Ytrain, np.argmax(train_preds, axis=1))}\")\n",
    "stack_train_1 = np.concatenate((stack_train_1, train_preds), axis=1)\n",
    "model.fit(Xtrain, Ytrain)\n",
    "stack_test_1 = np.concatenate((stack_test_1, model.predict_proba(Xtest)), axis=1)\n",
    "\n",
    "pd.DataFrame(stack_train_1).to_csv('stack_train_1.csv', index=False)\n",
    "pd.DataFrame(stack_test_1).to_csv('stack_test_1.csv', index=False)\n",
    "\n",
    "print(stack_train_1.shape, stack_test_1.shape, '\\n')"
   ]
  },
  {
   "cell_type": "markdown",
   "metadata": {},
   "source": [
    "### NaiveBayes"
   ]
  },
  {
   "cell_type": "code",
   "execution_count": 16,
   "metadata": {},
   "outputs": [
    {
     "name": "stdout",
     "output_type": "stream",
     "text": [
      "Score : 0.27587890625\n",
      "(2048, 3760) (20480, 3760) \n",
      "\n",
      "Score : 0.24853515625\n",
      "(2048, 3770) (20480, 3770) \n",
      "\n",
      "Score : 0.25244140625\n",
      "(2048, 3780) (20480, 3780) \n",
      "\n"
     ]
    }
   ],
   "source": [
    "for model in [GaussianNB(), MultinomialNB(), ComplementNB()]:\n",
    "    \n",
    "    train_preds = cross_val_predict(model, Xtrain, Ytrain, cv=5, method='predict_proba', n_jobs=-1)\n",
    "    print(f\"Score : {accuracy_score(Ytrain, np.argmax(train_preds, axis=1))}\")\n",
    "    stack_train_1 = np.concatenate((stack_train_1, train_preds), axis=1)\n",
    "    model.fit(Xtrain, Ytrain)\n",
    "    stack_test_1 = np.concatenate((stack_test_1, model.predict_proba(Xtest)), axis=1)\n",
    "\n",
    "    pd.DataFrame(stack_train_1).to_csv('stack_train_1.csv', index=False)\n",
    "    pd.DataFrame(stack_test_1).to_csv('stack_test_1.csv', index=False)\n",
    "\n",
    "    print(stack_train_1.shape, stack_test_1.shape, '\\n')"
   ]
  },
  {
   "cell_type": "markdown",
   "metadata": {},
   "source": [
    "### NearestNeighbors"
   ]
  },
  {
   "cell_type": "code",
   "execution_count": 17,
   "metadata": {
    "scrolled": true
   },
   "outputs": [
    {
     "name": "stdout",
     "output_type": "stream",
     "text": [
      "Score : 0.16552734375\n",
      "(2048, 3790) (20480, 3790) \n",
      "\n",
      "Score : 0.16455078125\n",
      "(2048, 3800) (20480, 3800) \n",
      "\n",
      "Score : 0.205078125\n",
      "(2048, 3810) (20480, 3810) \n",
      "\n",
      "Score : 0.2255859375\n",
      "(2048, 3820) (20480, 3820) \n",
      "\n",
      "Score : 0.1875\n",
      "(2048, 3830) (20480, 3830) \n",
      "\n",
      "Score : 0.18212890625\n",
      "(2048, 3840) (20480, 3840) \n",
      "\n",
      "Score : 0.19287109375\n",
      "(2048, 3850) (20480, 3850) \n",
      "\n",
      "Score : 0.173828125\n",
      "(2048, 3860) (20480, 3860) \n",
      "\n",
      "Score : 0.21044921875\n",
      "(2048, 3870) (20480, 3870) \n",
      "\n",
      "Score : 0.18017578125\n",
      "(2048, 3880) (20480, 3880) \n",
      "\n",
      "Score : 0.2001953125\n",
      "(2048, 3890) (20480, 3890) \n",
      "\n",
      "Score : 0.19873046875\n",
      "(2048, 3900) (20480, 3900) \n",
      "\n",
      "Score : 0.23046875\n",
      "(2048, 3910) (20480, 3910) \n",
      "\n",
      "Score : 0.1875\n",
      "(2048, 3920) (20480, 3920) \n",
      "\n",
      "Score : 0.177734375\n",
      "(2048, 3930) (20480, 3930) \n",
      "\n",
      "Score : 0.19287109375\n",
      "(2048, 3940) (20480, 3940) \n",
      "\n",
      "Score : 0.16455078125\n",
      "(2048, 3950) (20480, 3950) \n",
      "\n",
      "Score : 0.18896484375\n",
      "(2048, 3960) (20480, 3960) \n",
      "\n",
      "Score : 0.16748046875\n",
      "(2048, 3970) (20480, 3970) \n",
      "\n",
      "Score : 0.22607421875\n",
      "(2048, 3980) (20480, 3980) \n",
      "\n",
      "Score : 0.21630859375\n",
      "(2048, 3990) (20480, 3990) \n",
      "\n",
      "Score : 0.23291015625\n",
      "(2048, 4000) (20480, 4000) \n",
      "\n",
      "Score : 0.17822265625\n",
      "(2048, 4010) (20480, 4010) \n",
      "\n",
      "Score : 0.17919921875\n",
      "(2048, 4020) (20480, 4020) \n",
      "\n",
      "Score : 0.1708984375\n",
      "(2048, 4030) (20480, 4030) \n",
      "\n",
      "Score : 0.18505859375\n",
      "(2048, 4040) (20480, 4040) \n",
      "\n",
      "Score : 0.1630859375\n",
      "(2048, 4050) (20480, 4050) \n",
      "\n",
      "Score : 0.2412109375\n",
      "(2048, 4060) (20480, 4060) \n",
      "\n",
      "Score : 0.1689453125\n",
      "(2048, 4070) (20480, 4070) \n",
      "\n",
      "Score : 0.22900390625\n",
      "(2048, 4080) (20480, 4080) \n",
      "\n",
      "Score : 0.19677734375\n",
      "(2048, 4090) (20480, 4090) \n",
      "\n",
      "Score : 0.1962890625\n",
      "(2048, 4100) (20480, 4100) \n",
      "\n",
      "Score : 0.23486328125\n",
      "(2048, 4110) (20480, 4110) \n",
      "\n",
      "Score : 0.18115234375\n",
      "(2048, 4120) (20480, 4120) \n",
      "\n",
      "Score : 0.166015625\n",
      "(2048, 4130) (20480, 4130) \n",
      "\n",
      "Score : 0.1640625\n",
      "(2048, 4140) (20480, 4140) \n",
      "\n",
      "Score : 0.16845703125\n",
      "(2048, 4150) (20480, 4150) \n",
      "\n",
      "Score : 0.19775390625\n",
      "(2048, 4160) (20480, 4160) \n",
      "\n",
      "Score : 0.1728515625\n",
      "(2048, 4170) (20480, 4170) \n",
      "\n",
      "Score : 0.1796875\n",
      "(2048, 4180) (20480, 4180) \n",
      "\n",
      "Score : 0.1796875\n",
      "(2048, 4190) (20480, 4190) \n",
      "\n",
      "Score : 0.17041015625\n",
      "(2048, 4200) (20480, 4200) \n",
      "\n",
      "Score : 0.19921875\n",
      "(2048, 4210) (20480, 4210) \n",
      "\n",
      "Score : 0.2001953125\n",
      "(2048, 4220) (20480, 4220) \n",
      "\n",
      "Score : 0.16943359375\n",
      "(2048, 4230) (20480, 4230) \n",
      "\n",
      "Score : 0.20947265625\n",
      "(2048, 4240) (20480, 4240) \n",
      "\n",
      "Score : 0.18701171875\n",
      "(2048, 4250) (20480, 4250) \n",
      "\n",
      "Score : 0.18359375\n",
      "(2048, 4260) (20480, 4260) \n",
      "\n",
      "Score : 0.22119140625\n",
      "(2048, 4270) (20480, 4270) \n",
      "\n",
      "Score : 0.22607421875\n",
      "(2048, 4280) (20480, 4280) \n",
      "\n"
     ]
    },
    {
     "data": {
      "text/html": [
       "<div>\n",
       "<style scoped>\n",
       "    .dataframe tbody tr th:only-of-type {\n",
       "        vertical-align: middle;\n",
       "    }\n",
       "\n",
       "    .dataframe tbody tr th {\n",
       "        vertical-align: top;\n",
       "    }\n",
       "\n",
       "    .dataframe thead th {\n",
       "        text-align: right;\n",
       "    }\n",
       "</style>\n",
       "<table border=\"1\" class=\"dataframe\">\n",
       "  <thead>\n",
       "    <tr style=\"text-align: right;\">\n",
       "      <th></th>\n",
       "      <th>n_neighbors</th>\n",
       "      <th>p</th>\n",
       "    </tr>\n",
       "  </thead>\n",
       "  <tbody>\n",
       "    <tr>\n",
       "      <th>0</th>\n",
       "      <td>201</td>\n",
       "      <td>7.993459</td>\n",
       "    </tr>\n",
       "    <tr>\n",
       "      <th>1</th>\n",
       "      <td>268</td>\n",
       "      <td>8.809664</td>\n",
       "    </tr>\n",
       "    <tr>\n",
       "      <th>2</th>\n",
       "      <td>448</td>\n",
       "      <td>2.947875</td>\n",
       "    </tr>\n",
       "    <tr>\n",
       "      <th>3</th>\n",
       "      <td>33</td>\n",
       "      <td>2.144354</td>\n",
       "    </tr>\n",
       "    <tr>\n",
       "      <th>4</th>\n",
       "      <td>428</td>\n",
       "      <td>5.300591</td>\n",
       "    </tr>\n",
       "    <tr>\n",
       "      <th>5</th>\n",
       "      <td>68</td>\n",
       "      <td>6.467453</td>\n",
       "    </tr>\n",
       "    <tr>\n",
       "      <th>6</th>\n",
       "      <td>344</td>\n",
       "      <td>3.777199</td>\n",
       "    </tr>\n",
       "    <tr>\n",
       "      <th>7</th>\n",
       "      <td>61</td>\n",
       "      <td>7.752550</td>\n",
       "    </tr>\n",
       "    <tr>\n",
       "      <th>8</th>\n",
       "      <td>446</td>\n",
       "      <td>2.502033</td>\n",
       "    </tr>\n",
       "    <tr>\n",
       "      <th>9</th>\n",
       "      <td>299</td>\n",
       "      <td>4.863291</td>\n",
       "    </tr>\n",
       "  </tbody>\n",
       "</table>\n",
       "</div>"
      ],
      "text/plain": [
       "   n_neighbors         p\n",
       "0          201  7.993459\n",
       "1          268  8.809664\n",
       "2          448  2.947875\n",
       "3           33  2.144354\n",
       "4          428  5.300591\n",
       "5           68  6.467453\n",
       "6          344  3.777199\n",
       "7           61  7.752550\n",
       "8          446  2.502033\n",
       "9          299  4.863291"
      ]
     },
     "execution_count": 17,
     "metadata": {},
     "output_type": "execute_result"
    }
   ],
   "source": [
    "num_models=50\n",
    "knn_params_list=[]\n",
    "\n",
    "for _ in range(num_models):\n",
    "    params = {'n_neighbors' : np.random.randint(low=2, high=512),\n",
    "              'p' : np.random.uniform(low=1, high=10)\n",
    "              \n",
    "             }\n",
    "    \n",
    "    knn_params_list.append(params)\n",
    "    \n",
    "    model = KNeighborsClassifier(weights='distance', n_jobs=-1, **params)\n",
    "    \n",
    "    train_preds = cross_val_predict(model, Xtrain, Ytrain, cv=5, method='predict_proba')\n",
    "    print(f\"Score : {accuracy_score(Ytrain, np.argmax(train_preds, axis=1))}\")\n",
    "    stack_train_1 = np.concatenate((stack_train_1, train_preds), axis=1)\n",
    "    model.fit(Xtrain, Ytrain)\n",
    "    stack_test_1 = np.concatenate((stack_test_1, model.predict_proba(Xtest)), axis=1)\n",
    "\n",
    "    pd.DataFrame(stack_train_1).to_csv('stack_train_1.csv', index=False)\n",
    "    pd.DataFrame(stack_test_1).to_csv('stack_test_1.csv', index=False)\n",
    "\n",
    "    print(stack_train_1.shape, stack_test_1.shape, '\\n')\n",
    "        \n",
    "    \n",
    "knn_params_list = pd.DataFrame.from_dict(knn_params_list)\n",
    "knn_params_list.to_csv('knn_params_list.csv', index=False)\n",
    "knn_params_list.head(10)"
   ]
  },
  {
   "cell_type": "markdown",
   "metadata": {},
   "source": [
    "```python\n",
    "knn_params_list = pd.read_csv('knn_params_list.csv')\n",
    "\n",
    "for i in knn_params_list.index:\n",
    "    params = dict(knn_params_list.loc[i])\n",
    "\n",
    "    model = KNeighborsClassifier(weights='distance', n_jobs=-1, **params)\n",
    "    \n",
    "    train_preds = cross_val_predict(model, Xtrain, Ytrain, cv=5, method='predict_proba')\n",
    "    print(f\"Score : {accuracy_score(Ytrain, np.argmax(train_preds, axis=1))}\")\n",
    "    stack_train_1 = np.concatenate((stack_train_1, train_preds), axis=1)\n",
    "    model.fit(Xtrain, Ytrain)\n",
    "    stack_test_1 = np.concatenate((stack_test_1, model.predict_proba(Xtest)), axis=1)\n",
    "\n",
    "    pd.DataFrame(stack_train_1).to_csv('stack_train_1.csv', index=False)\n",
    "    pd.DataFrame(stack_test_1).to_csv('stack_test_1.csv', index=False)\n",
    "\n",
    "    print(stack_train_1.shape, stack_test_1.shape, '\\n')\n",
    "```"
   ]
  },
  {
   "cell_type": "markdown",
   "metadata": {},
   "source": [
    "## Ensemble Lv. 1"
   ]
  },
  {
   "cell_type": "markdown",
   "metadata": {},
   "source": [
    "Lv. 1 에서는 Lv. 0 모델들의 예측값(확률)들을 통합하는 모델을 만듭니다.  \n",
    "각 모델들은 통상적으로 괜찮다고 여겨질 수 있는 파라미터를 이용해 종류별로 1개씩 만듭니다. "
   ]
  },
  {
   "cell_type": "markdown",
   "metadata": {},
   "source": [
    "```python\n",
    "stack_train_1 = np.array(pd.read_csv('stack_train_1.csv'))\n",
    "stack_test_1 = np.array(pd.read_csv('stack_test_1.csv'))\n",
    "```"
   ]
  },
  {
   "cell_type": "code",
   "execution_count": 18,
   "metadata": {},
   "outputs": [
    {
     "data": {
      "text/plain": [
       "((2048, 0), (20480, 0))"
      ]
     },
     "execution_count": 18,
     "metadata": {},
     "output_type": "execute_result"
    }
   ],
   "source": [
    "stack_train_2 = np.array(pd.DataFrame(data=None, index=train.index))\n",
    "stack_test_2 = np.array(pd.DataFrame(data=None, index=submission.index))\n",
    "\n",
    "stack_train_2.shape, stack_test_2.shape"
   ]
  },
  {
   "cell_type": "markdown",
   "metadata": {},
   "source": [
    "### XGBoost"
   ]
  },
  {
   "cell_type": "code",
   "execution_count": 19,
   "metadata": {},
   "outputs": [
    {
     "name": "stdout",
     "output_type": "stream",
     "text": [
      "Score : 0.9150390625\n",
      "(2048, 10) (20480, 10) \n",
      "\n"
     ]
    }
   ],
   "source": [
    "params = {'n_estimators': 284, 'max_depth': 5, 'reg_lambda': 23.07067677225717, 'reg_alpha': 0.01019264032218297, \n",
    "          'subsample': 0.5023461874889559, 'colsample_bytree': 0.8286922539714039}\n",
    "\n",
    "xgb_model = XGBClassifier(n_jobs=-1, tree_method='gpu_hist', objective='multi:softmax', num_class=10, \n",
    "                      random_state=18, learning_rate=0.03, **params)\n",
    "\n",
    "train_preds = cross_val_predict(xgb_model, stack_train_1, Ytrain, cv=5, method='predict_proba')\n",
    "print(f\"Score : {accuracy_score(Ytrain, np.argmax(train_preds, axis=1))}\")\n",
    "stack_train_2 = np.concatenate((stack_train_2, train_preds), axis=1)\n",
    "\n",
    "xgb_model.fit(stack_train_1, Ytrain)\n",
    "stack_test_2 = np.concatenate((stack_test_2, xgb_model.predict_proba(stack_test_1)), axis=1)\n",
    "\n",
    "\n",
    "pd.DataFrame(stack_train_2).to_csv('stack_train_2.csv', index=False)\n",
    "pd.DataFrame(stack_test_2).to_csv('stack_test_2.csv', index=False)\n",
    "\n",
    "print(stack_train_2.shape, stack_test_2.shape, '\\n')"
   ]
  },
  {
   "cell_type": "markdown",
   "metadata": {},
   "source": [
    "### Keras (MLP)"
   ]
  },
  {
   "cell_type": "code",
   "execution_count": 20,
   "metadata": {},
   "outputs": [],
   "source": [
    "def build_fn2(init='he_uniform', learning_rate=0.0001, final_dense_size=64):\n",
    "    dropout_rate=0.5\n",
    "\n",
    "    model_in = Input(shape = (stack_train_1.shape[1], ))\n",
    "    \n",
    "    x = Dense(units=final_dense_size*8, kernel_initializer=init)(model_in)\n",
    "    x = BatchNormalization()(x)\n",
    "    x = Activation(mish)(x)\n",
    "    x = Dropout(dropout_rate)(x)\n",
    "    \n",
    "    x = Dense(units=final_dense_size*4, kernel_initializer=init)(x)\n",
    "    x = BatchNormalization()(x)\n",
    "    x = Activation(mish)(x)\n",
    "    x = Dropout(dropout_rate)(x)\n",
    "    \n",
    "    x = Dense(units=final_dense_size*2, kernel_initializer=init)(x)\n",
    "    x = BatchNormalization()(x)\n",
    "    x = Activation(mish)(x)\n",
    "    x = Dropout(dropout_rate)(x)\n",
    "    \n",
    "    x = Dense(units=final_dense_size, kernel_initializer=init)(x)\n",
    "    x = BatchNormalization()(x)\n",
    "    x = Activation(mish)(x)\n",
    "    x = Dropout(dropout_rate)(x)\n",
    "    \n",
    "\n",
    "    model_out = Dense(units=10, activation='softmax')(x)\n",
    "    model = Model(model_in, model_out)\n",
    "    model.compile(loss='sparse_categorical_crossentropy', optimizer=Nadam(learning_rate=learning_rate), metrics=['accuracy'])\n",
    "\n",
    "    return model"
   ]
  },
  {
   "cell_type": "code",
   "execution_count": 21,
   "metadata": {
    "scrolled": true
   },
   "outputs": [
    {
     "name": "stdout",
     "output_type": "stream",
     "text": [
      "Score : 0.9140625\n",
      "(2048, 20) (20480, 20) \n",
      "\n"
     ]
    }
   ],
   "source": [
    "params = {'epochs': 8, 'final_dense_size': 105}\n",
    "keras_model = KerasRegressor(build_fn2, **params, batch_size=32, shuffle=True, verbose=0, learning_rate=0.0001)\n",
    "\n",
    "train_preds = cross_val_predict(keras_model, stack_train_1, Ytrain, cv=5)\n",
    "print(f\"Score : {accuracy_score(Ytrain, np.argmax(train_preds, axis=1))}\")\n",
    "stack_train_2 = np.concatenate((stack_train_2, train_preds), axis=1)\n",
    "\n",
    "keras_model.fit(stack_train_1, Ytrain)\n",
    "stack_test_2 = np.concatenate((stack_test_2, keras_model.predict(stack_test_1)), axis=1)\n",
    "\n",
    "\n",
    "pd.DataFrame(stack_train_2).to_csv('stack_train_2.csv', index=False)\n",
    "pd.DataFrame(stack_test_2).to_csv('stack_test_2.csv', index=False)\n",
    "\n",
    "print(stack_train_2.shape, stack_test_2.shape, '\\n')\n",
    "K.clear_session()"
   ]
  },
  {
   "cell_type": "markdown",
   "metadata": {},
   "source": [
    "### LightGBM"
   ]
  },
  {
   "cell_type": "code",
   "execution_count": 22,
   "metadata": {},
   "outputs": [
    {
     "name": "stdout",
     "output_type": "stream",
     "text": [
      "Score : 0.91162109375\n",
      "(2048, 30) (20480, 30) \n",
      "\n"
     ]
    }
   ],
   "source": [
    "params = {'n_estimators': 211, 'num_leaves': 181, 'reg_lambda': 10.072965139609353, 'reg_alpha': 0.8557393193365549, \n",
    "          'subsample': 0.7309764427665186, 'colsample_bytree': 0.9816611006194951}\n",
    "\n",
    "lgb_model = LGBMClassifier(boosting_type='dart', objective='softmax', tree_learner='feature', num_class=10, \n",
    "                       subsample_freq=1, random_state=18, drop_rate=0.5, max_drop=-1, **params)\n",
    "\n",
    "train_preds = cross_val_predict(lgb_model, stack_train_1, Ytrain, cv=5, method='predict_proba')\n",
    "print(f\"Score : {accuracy_score(Ytrain, np.argmax(train_preds, axis=1))}\")\n",
    "stack_train_2 = np.concatenate((stack_train_2, train_preds), axis=1)\n",
    "\n",
    "lgb_model.fit(stack_train_1, Ytrain)\n",
    "stack_test_2 = np.concatenate((stack_test_2, lgb_model.predict_proba(stack_test_1)), axis=1)\n",
    "\n",
    "\n",
    "pd.DataFrame(stack_train_2).to_csv('stack_train_2.csv', index=False)\n",
    "pd.DataFrame(stack_test_2).to_csv('stack_test_2.csv', index=False)\n",
    "\n",
    "print(stack_train_2.shape, stack_test_2.shape, '\\n')"
   ]
  },
  {
   "cell_type": "markdown",
   "metadata": {},
   "source": [
    "### RF"
   ]
  },
  {
   "cell_type": "code",
   "execution_count": 23,
   "metadata": {
    "scrolled": true
   },
   "outputs": [
    {
     "name": "stdout",
     "output_type": "stream",
     "text": [
      "Score : 0.91357421875\n",
      "(2048, 40) (20480, 40) \n",
      "\n"
     ]
    }
   ],
   "source": [
    "params = {'n_estimators': 114, 'max_features': 0.02328004365242331, 'max_samples': 0.2691106016152467, \n",
    "          'criterion': 'entropy', 'max_depth': 14}\n",
    "rf_model = RandomForestClassifier(n_jobs=-1, random_state=18, **params)\n",
    "\n",
    "train_preds = cross_val_predict(rf_model, stack_train_1, Ytrain, cv=5, method='predict_proba')\n",
    "print(f\"Score : {accuracy_score(Ytrain, np.argmax(train_preds, axis=1))}\")\n",
    "stack_train_2 = np.concatenate((stack_train_2, train_preds), axis=1)\n",
    "\n",
    "rf_model.fit(stack_train_1, Ytrain)\n",
    "stack_test_2 = np.concatenate((stack_test_2, rf_model.predict_proba(stack_test_1)), axis=1)\n",
    "\n",
    "\n",
    "pd.DataFrame(stack_train_2).to_csv('stack_train_2.csv', index=False)\n",
    "pd.DataFrame(stack_test_2).to_csv('stack_test_2.csv', index=False)\n",
    "\n",
    "print(stack_train_2.shape, stack_test_2.shape, '\\n')"
   ]
  },
  {
   "cell_type": "markdown",
   "metadata": {},
   "source": [
    "### ET"
   ]
  },
  {
   "cell_type": "code",
   "execution_count": 24,
   "metadata": {},
   "outputs": [
    {
     "name": "stdout",
     "output_type": "stream",
     "text": [
      "Score : 0.9140625\n",
      "(2048, 50) (20480, 50) \n",
      "\n"
     ]
    }
   ],
   "source": [
    "params = {'n_estimators': 58, 'max_features': 0.017429888281159878, 'criterion': 'entropy', 'max_depth': 5}\n",
    "et_model = ExtraTreesClassifier(n_jobs=-1, random_state=18, **params)\n",
    "\n",
    "train_preds = cross_val_predict(et_model, stack_train_1, Ytrain, cv=5, method='predict_proba')\n",
    "print(f\"Score : {accuracy_score(Ytrain, np.argmax(train_preds, axis=1))}\")\n",
    "stack_train_2 = np.concatenate((stack_train_2, train_preds), axis=1)\n",
    "\n",
    "et_model.fit(stack_train_1, Ytrain)\n",
    "stack_test_2 = np.concatenate((stack_test_2, et_model.predict_proba(stack_test_1)), axis=1)\n",
    "\n",
    "\n",
    "pd.DataFrame(stack_train_2).to_csv('stack_train_2.csv', index=False)\n",
    "pd.DataFrame(stack_test_2).to_csv('stack_test_2.csv', index=False)\n",
    "\n",
    "print(stack_train_2.shape, stack_test_2.shape, '\\n')"
   ]
  },
  {
   "cell_type": "markdown",
   "metadata": {},
   "source": [
    "### LogisticRegression"
   ]
  },
  {
   "cell_type": "code",
   "execution_count": 25,
   "metadata": {},
   "outputs": [
    {
     "name": "stdout",
     "output_type": "stream",
     "text": [
      "Score : 0.916015625\n"
     ]
    },
    {
     "name": "stderr",
     "output_type": "stream",
     "text": [
      "[Parallel(n_jobs=-1)]: Using backend ThreadingBackend with 6 concurrent workers.\n"
     ]
    },
    {
     "name": "stdout",
     "output_type": "stream",
     "text": [
      "convergence after 49 epochs took 23 seconds\n"
     ]
    },
    {
     "name": "stderr",
     "output_type": "stream",
     "text": [
      "[Parallel(n_jobs=-1)]: Done   1 out of   1 | elapsed:   23.6s finished\n"
     ]
    },
    {
     "name": "stdout",
     "output_type": "stream",
     "text": [
      "(2048, 60) (20480, 60) \n",
      "\n"
     ]
    }
   ],
   "source": [
    "params = {'C': 0.014164150051132234, 'l1_ratio': 0.7717991634542027}\n",
    "logistic_model = LogisticRegression(n_jobs=-1, solver='saga', penalty='elasticnet', random_state=18, max_iter=10000, verbose=True,\n",
    "                                    multi_class='multinomial', **params)\n",
    "\n",
    "\n",
    "train_preds = cross_val_predict(logistic_model, stack_train_1, Ytrain, cv=5, method='predict_proba', n_jobs=5)\n",
    "print(f\"Score : {accuracy_score(Ytrain, np.argmax(train_preds, axis=1))}\")\n",
    "stack_train_2 = np.concatenate((stack_train_2, train_preds), axis=1)\n",
    "\n",
    "logistic_model.fit(stack_train_1, Ytrain)\n",
    "stack_test_2 = np.concatenate((stack_test_2, logistic_model.predict_proba(stack_test_1)), axis=1)\n",
    "\n",
    "\n",
    "pd.DataFrame(stack_train_2).to_csv('stack_train_2.csv', index=False)\n",
    "pd.DataFrame(stack_test_2).to_csv('stack_test_2.csv', index=False)\n",
    "\n",
    "print(stack_train_2.shape, stack_test_2.shape, '\\n')"
   ]
  },
  {
   "cell_type": "markdown",
   "metadata": {},
   "source": [
    "### Support Vector Machine"
   ]
  },
  {
   "cell_type": "code",
   "execution_count": 31,
   "metadata": {},
   "outputs": [
    {
     "name": "stdout",
     "output_type": "stream",
     "text": [
      "Score : 0.9130859375\n",
      "[LibSVM](2048, 70) (20480, 70) \n",
      "\n"
     ]
    }
   ],
   "source": [
    "params = {'kernel': 'linear', 'C': 0.04117756794800978, 'gamma': 'scale', 'coef0': 3.015125901030289}\n",
    "svc_model = SVC(random_state=18, probability=True, break_ties=True, verbose=True, **params)\n",
    "\n",
    "train_preds = cross_val_predict(svc_model, stack_train_1, Ytrain, cv=5, method='predict_proba', n_jobs=-1)\n",
    "print(f\"Score : {accuracy_score(Ytrain, np.argmax(train_preds, axis=1))}\")\n",
    "stack_train_2 = np.concatenate((stack_train_2, train_preds), axis=1)\n",
    "\n",
    "svc_model.fit(stack_train_1, Ytrain)\n",
    "stack_test_2 = np.concatenate((stack_test_2, svc_model.predict_proba(stack_test_1)), axis=1)\n",
    "\n",
    "\n",
    "pd.DataFrame(stack_train_2).to_csv('stack_train_2.csv', index=False)\n",
    "pd.DataFrame(stack_test_2).to_csv('stack_test_2.csv', index=False)\n",
    "\n",
    "print(stack_train_2.shape, stack_test_2.shape, '\\n')"
   ]
  },
  {
   "cell_type": "markdown",
   "metadata": {},
   "source": [
    "## Ensemble Lv. 2"
   ]
  },
  {
   "cell_type": "markdown",
   "metadata": {},
   "source": [
    "Lv. 2 에서는 Lv. 1 의 결과를 통합하는 모델을 만듭니다.  \n",
    "Fold 수를 20으로 늘려서 더 정밀한 교차검증을 진행했습니다. \n",
    "시간이 없어서 단순평균이나 가중평균을 구하지는 못했고, LogisticRegression 단일 모델을 만들기로 했습니다. \n",
    "똑바로 생각한건지 모르겠지만, 모델을 고른 기준은 \n",
    "- 못봤던 데이터를 맞추는 능력(교차검증예측)\n",
    "- 봤던 데이터를 맞추는 능력(학습후 학습한 것을 다시 예측)  \n",
    "- 위 두개의 점수가 비슷하면서 최대한 점수가 좋은것\n",
    "\n",
    "이었습니다.\n",
    "\n",
    "봤던 데이터는 잘 맞추는데, 못봤던 데이터를 못맞춘다면 과적합이 일어날 가능성이 높다고 생각했습니다.  \n",
    "이 노트북 파일 말고 이전 실험에서 Final Model 로 KNN 을 튜닝할때는 CV 는 0.916 이었지만, 재예측 점수는 1.0 이었습니다.  \n",
    "XGBoost 는 CV가 0.915 정도에, 재예측 점수가 0.93 정도였습니다.  \n",
    "  \n",
    "  재예측 점수가 과연 의미가 있었는지는 잘 모르겠습니다. 다른 파일들의 Private Score 들도 공개가 되면 피드백을 해볼 수 있을 것 같은데... 알 수가 없네요...  \n",
    "  \n",
    "Public 이 1%여서 조금이라도 Public 에 대해서 오버피팅이 나면 최종 랭킹에서 장난없을 것 같아서 표시되는 점수가 정확도가 적더라도 교차검증 점수만 생각했습니다."
   ]
  },
  {
   "cell_type": "markdown",
   "metadata": {},
   "source": [
    "```python\n",
    "stack_train_2 = pd.read_csv('stack_train_2.csv')\n",
    "stack_test_2 = pd.read_csv('stack_test_2.csv')\n",
    "```"
   ]
  },
  {
   "cell_type": "markdown",
   "metadata": {},
   "source": [
    "## LogisticRegression"
   ]
  },
  {
   "cell_type": "code",
   "execution_count": 32,
   "metadata": {},
   "outputs": [
    {
     "name": "stdout",
     "output_type": "stream",
     "text": [
      "CV Score : 0.9180135160860459\n",
      "Re-Fit Score : 0.91796875\n"
     ]
    }
   ],
   "source": [
    "params = {'C': 0.003072518594816285, 'l1_ratio': 0.015667092361463714}\n",
    "model = LogisticRegression(n_jobs=-1, solver='saga', penalty='elasticnet', random_state=18, max_iter=10000, verbose=False,\n",
    "                                multi_class='multinomial',**params)\n",
    "\n",
    "print(f\"CV Score : {cross_val_score(model, stack_train_2, Ytrain, cv=20, scoring='accuracy').mean()}\")\n",
    "model.fit(stack_train_2, Ytrain)\n",
    "print(f\"Re-Fit Score : {accuracy_score(Ytrain, model.predict(stack_train_2))}\")"
   ]
  },
  {
   "cell_type": "code",
   "execution_count": 33,
   "metadata": {
    "scrolled": true
   },
   "outputs": [
    {
     "data": {
      "text/html": [
       "<div>\n",
       "<style scoped>\n",
       "    .dataframe tbody tr th:only-of-type {\n",
       "        vertical-align: middle;\n",
       "    }\n",
       "\n",
       "    .dataframe tbody tr th {\n",
       "        vertical-align: top;\n",
       "    }\n",
       "\n",
       "    .dataframe thead th {\n",
       "        text-align: right;\n",
       "    }\n",
       "</style>\n",
       "<table border=\"1\" class=\"dataframe\">\n",
       "  <thead>\n",
       "    <tr style=\"text-align: right;\">\n",
       "      <th></th>\n",
       "      <th>digit</th>\n",
       "    </tr>\n",
       "    <tr>\n",
       "      <th>id</th>\n",
       "      <th></th>\n",
       "    </tr>\n",
       "  </thead>\n",
       "  <tbody>\n",
       "    <tr>\n",
       "      <th>2049</th>\n",
       "      <td>6</td>\n",
       "    </tr>\n",
       "    <tr>\n",
       "      <th>2050</th>\n",
       "      <td>9</td>\n",
       "    </tr>\n",
       "    <tr>\n",
       "      <th>2051</th>\n",
       "      <td>8</td>\n",
       "    </tr>\n",
       "    <tr>\n",
       "      <th>2052</th>\n",
       "      <td>0</td>\n",
       "    </tr>\n",
       "    <tr>\n",
       "      <th>2053</th>\n",
       "      <td>3</td>\n",
       "    </tr>\n",
       "  </tbody>\n",
       "</table>\n",
       "</div>"
      ],
      "text/plain": [
       "      digit\n",
       "id         \n",
       "2049      6\n",
       "2050      9\n",
       "2051      8\n",
       "2052      0\n",
       "2053      3"
      ]
     },
     "execution_count": 33,
     "metadata": {},
     "output_type": "execute_result"
    }
   ],
   "source": [
    "model.fit(stack_train_2, Ytrain)\n",
    "\n",
    "submission['digit'] = model.predict(stack_test_2)\n",
    "submission.to_csv('Final_LogisticRegression_20CV_0.91801_Single.csv')\n",
    "submission.head()"
   ]
  }
 ],
 "metadata": {
  "kernelspec": {
   "display_name": "Python 3",
   "language": "python",
   "name": "python3"
  },
  "language_info": {
   "codemirror_mode": {
    "name": "ipython",
    "version": 3
   },
   "file_extension": ".py",
   "mimetype": "text/x-python",
   "name": "python",
   "nbconvert_exporter": "python",
   "pygments_lexer": "ipython3",
   "version": "3.7.7"
  }
 },
 "nbformat": 4,
 "nbformat_minor": 4
}
