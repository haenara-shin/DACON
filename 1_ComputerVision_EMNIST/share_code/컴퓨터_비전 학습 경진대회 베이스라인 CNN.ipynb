{
 "cells": [
  {
   "cell_type": "markdown",
   "metadata": {},
   "source": [
    "### Python import"
   ]
  },
  {
   "cell_type": "code",
   "execution_count": 1,
   "metadata": {
    "colab": {},
    "colab_type": "code",
    "executionInfo": {
     "elapsed": 643,
     "status": "ok",
     "timestamp": 1596077216502,
     "user": {
      "displayName": "정은일",
      "photoUrl": "",
      "userId": "02252830369813169346"
     },
     "user_tz": -540
    },
    "id": "tIjgrUuWfG9P"
   },
   "outputs": [],
   "source": [
    "import pandas as pd\n",
    "import numpy as np\n",
    "import matplotlib.pyplot as plt\n",
    "import warnings\n",
    "warnings.filterwarnings(\"ignore\")\n",
    "import tensorflow as tf"
   ]
  },
  {
   "cell_type": "markdown",
   "metadata": {},
   "source": [
    "### Load Data"
   ]
  },
  {
   "cell_type": "code",
   "execution_count": 2,
   "metadata": {
    "colab": {},
    "colab_type": "code",
    "executionInfo": {
     "elapsed": 6919,
     "status": "ok",
     "timestamp": 1596077222783,
     "user": {
      "displayName": "정은일",
      "photoUrl": "",
      "userId": "02252830369813169346"
     },
     "user_tz": -540
    },
    "id": "MLmopl4TfJP2"
   },
   "outputs": [],
   "source": [
    "train = pd.read_csv('data/train.csv')\n",
    "test = pd.read_csv('data/test.csv')"
   ]
  },
  {
   "cell_type": "markdown",
   "metadata": {},
   "source": [
    "### EDA"
   ]
  },
  {
   "cell_type": "code",
   "execution_count": 3,
   "metadata": {},
   "outputs": [
    {
     "data": {
      "image/png": "[encoded data removed]",
      "text/plain": [
       "<Figure size 432x288 with 1 Axes>"
      ]
     },
     "metadata": {
      "needs_background": "light"
     },
     "output_type": "display_data"
    }
   ],
   "source": [
    "idx = 318\n",
    "img = train.loc[idx, '0':].values.reshape(28, 28).astype(int)\n",
    "digit = train.loc[idx, 'digit']\n",
    "letter = train.loc[idx, 'letter']\n",
    "\n",
    "plt.title('Index: %i, Digit: %s, Letter: %s'%(idx, digit, letter))\n",
    "plt.imshow(img)\n",
    "plt.show()"
   ]
  },
  {
   "cell_type": "markdown",
   "metadata": {},
   "source": [
    "글자 'B' 안에 숫자 '4'가 보인다."
   ]
  },
  {
   "cell_type": "markdown",
   "metadata": {},
   "source": [
    "### Train model"
   ]
  },
  {
   "cell_type": "code",
   "execution_count": 4,
   "metadata": {},
   "outputs": [],
   "source": [
    "x_train = train.drop(['id', 'digit', 'letter'], axis=1).values\n",
    "x_train = x_train.reshape(-1, 28, 28, 1)\n",
    "x_train = x_train/255\n",
    "\n",
    "y = train['digit']\n",
    "y_train = np.zeros((len(y), len(y.unique())))\n",
    "for i, digit in enumerate(y):\n",
    "    y_train[i, digit] = 1"
   ]
  },
  {
   "cell_type": "code",
   "execution_count": 5,
   "metadata": {},
   "outputs": [],
   "source": [
    "def create_cnn_model(x_train):\n",
    "    inputs = tf.keras.layers.Input(x_train.shape[1:])\n",
    "\n",
    "    bn = tf.keras.layers.BatchNormalization()(inputs)\n",
    "    conv = tf.keras.layers.Conv2D(128, kernel_size=5, strides=1, padding='same', activation='relu')(bn)\n",
    "    bn = tf.keras.layers.BatchNormalization()(conv)\n",
    "    conv = tf.keras.layers.Conv2D(128, kernel_size=2, strides=1, padding='same', activation='relu')(bn)\n",
    "    pool = tf.keras.layers.MaxPooling2D((2, 2))(conv)\n",
    "\n",
    "    bn = tf.keras.layers.BatchNormalization()(pool)\n",
    "    conv = tf.keras.layers.Conv2D(256, kernel_size=2, strides=1, padding='same', activation='relu')(bn)\n",
    "    bn = tf.keras.layers.BatchNormalization()(conv)\n",
    "    conv = tf.keras.layers.Conv2D(256, kernel_size=2, strides=1, padding='same', activation='relu')(bn)\n",
    "    pool = tf.keras.layers.MaxPooling2D((2, 2))(conv)\n",
    "\n",
    "    flatten = tf.keras.layers.Flatten()(pool)\n",
    "\n",
    "    bn = tf.keras.layers.BatchNormalization()(flatten)\n",
    "    dense = tf.keras.layers.Dense(1000, activation='relu')(bn)\n",
    "\n",
    "    bn = tf.keras.layers.BatchNormalization()(dense)\n",
    "    outputs = tf.keras.layers.Dense(10, activation='softmax')(bn)\n",
    "\n",
    "    model = tf.keras.models.Model(inputs=inputs, outputs=outputs)\n",
    "\n",
    "    return model"
   ]
  },
  {
   "cell_type": "code",
   "execution_count": 6,
   "metadata": {
    "colab": {
     "base_uri": "https://localhost:8080/",
     "height": 35
    },
    "colab_type": "code",
    "executionInfo": {
     "elapsed": 27823,
     "status": "ok",
     "timestamp": 1596077243725,
     "user": {
      "displayName": "정은일",
      "photoUrl": "",
      "userId": "02252830369813169346"
     },
     "user_tz": -540
    },
    "id": "0sZLhgQZgiHU",
    "outputId": "bcf9dce6-469a-400a-bccb-8a5a2e1d6be1"
   },
   "outputs": [
    {
     "name": "stdout",
     "output_type": "stream",
     "text": [
      "Epoch 1/20\n",
      "64/64 [==============================] - 12s 185ms/step - loss: 2.6060 - accuracy: 0.4644\n",
      "Epoch 2/20\n",
      "64/64 [==============================] - 12s 188ms/step - loss: 0.8443 - accuracy: 0.7129\n",
      "Epoch 3/20\n",
      "64/64 [==============================] - 12s 189ms/step - loss: 0.5099 - accuracy: 0.8159\n",
      "Epoch 4/20\n",
      "64/64 [==============================] - 13s 197ms/step - loss: 0.3347 - accuracy: 0.8857\n",
      "Epoch 5/20\n",
      "64/64 [==============================] - 13s 200ms/step - loss: 0.2004 - accuracy: 0.9341\n",
      "Epoch 6/20\n",
      "64/64 [==============================] - 13s 202ms/step - loss: 0.1383 - accuracy: 0.9556\n",
      "Epoch 7/20\n",
      "64/64 [==============================] - 12s 192ms/step - loss: 0.0915 - accuracy: 0.9712\n",
      "Epoch 8/20\n",
      "64/64 [==============================] - 12s 194ms/step - loss: 0.0769 - accuracy: 0.9741\n",
      "Epoch 9/20\n",
      "64/64 [==============================] - 13s 202ms/step - loss: 0.0682 - accuracy: 0.9780\n",
      "Epoch 10/20\n",
      "64/64 [==============================] - 14s 213ms/step - loss: 0.0836 - accuracy: 0.9692\n",
      "Epoch 11/20\n",
      "64/64 [==============================] - 13s 209ms/step - loss: 0.1022 - accuracy: 0.9653\n",
      "Epoch 12/20\n",
      "64/64 [==============================] - 13s 202ms/step - loss: 0.1117 - accuracy: 0.9600\n",
      "Epoch 13/20\n",
      "64/64 [==============================] - 12s 194ms/step - loss: 0.1100 - accuracy: 0.9653\n",
      "Epoch 14/20\n",
      "64/64 [==============================] - 12s 194ms/step - loss: 0.0676 - accuracy: 0.9761\n",
      "Epoch 15/20\n",
      "64/64 [==============================] - 12s 192ms/step - loss: 0.0587 - accuracy: 0.9805\n",
      "Epoch 16/20\n",
      "64/64 [==============================] - 12s 191ms/step - loss: 0.0271 - accuracy: 0.9917\n",
      "Epoch 17/20\n",
      "64/64 [==============================] - 12s 192ms/step - loss: 0.0281 - accuracy: 0.9912\n",
      "Epoch 18/20\n",
      "64/64 [==============================] - 12s 194ms/step - loss: 0.0163 - accuracy: 0.9966\n",
      "Epoch 19/20\n",
      "64/64 [==============================] - 12s 190ms/step - loss: 0.0218 - accuracy: 0.9932\n",
      "Epoch 20/20\n",
      "64/64 [==============================] - 12s 190ms/step - loss: 0.0108 - accuracy: 0.9980\n"
     ]
    },
    {
     "data": {
      "text/plain": [
       "<tensorflow.python.keras.callbacks.History at 0x2b0b8c17e08>"
      ]
     },
     "execution_count": 6,
     "metadata": {},
     "output_type": "execute_result"
    }
   ],
   "source": [
    "model = create_cnn_model(x_train)\n",
    "model.compile(loss='categorical_crossentropy', optimizer='adam', metrics=['accuracy'])\n",
    "model.fit(x_train, y_train, epochs=20)"
   ]
  },
  {
   "cell_type": "markdown",
   "metadata": {},
   "source": [
    "### Predict"
   ]
  },
  {
   "cell_type": "code",
   "execution_count": 7,
   "metadata": {
    "colab": {},
    "colab_type": "code",
    "executionInfo": {
     "elapsed": 66976,
     "status": "ok",
     "timestamp": 1596077282898,
     "user": {
      "displayName": "정은일",
      "photoUrl": "",
      "userId": "02252830369813169346"
     },
     "user_tz": -540
    },
    "id": "APVOW3JAjB-0"
   },
   "outputs": [
    {
     "data": {
      "text/html": [
       "<div>\n",
       "<style scoped>\n",
       "    .dataframe tbody tr th:only-of-type {\n",
       "        vertical-align: middle;\n",
       "    }\n",
       "\n",
       "    .dataframe tbody tr th {\n",
       "        vertical-align: top;\n",
       "    }\n",
       "\n",
       "    .dataframe thead th {\n",
       "        text-align: right;\n",
       "    }\n",
       "</style>\n",
       "<table border=\"1\" class=\"dataframe\">\n",
       "  <thead>\n",
       "    <tr style=\"text-align: right;\">\n",
       "      <th></th>\n",
       "      <th>id</th>\n",
       "      <th>digit</th>\n",
       "    </tr>\n",
       "  </thead>\n",
       "  <tbody>\n",
       "    <tr>\n",
       "      <td>0</td>\n",
       "      <td>2049</td>\n",
       "      <td>6</td>\n",
       "    </tr>\n",
       "    <tr>\n",
       "      <td>1</td>\n",
       "      <td>2050</td>\n",
       "      <td>9</td>\n",
       "    </tr>\n",
       "    <tr>\n",
       "      <td>2</td>\n",
       "      <td>2051</td>\n",
       "      <td>6</td>\n",
       "    </tr>\n",
       "    <tr>\n",
       "      <td>3</td>\n",
       "      <td>2052</td>\n",
       "      <td>0</td>\n",
       "    </tr>\n",
       "    <tr>\n",
       "      <td>4</td>\n",
       "      <td>2053</td>\n",
       "      <td>3</td>\n",
       "    </tr>\n",
       "  </tbody>\n",
       "</table>\n",
       "</div>"
      ],
      "text/plain": [
       "     id  digit\n",
       "0  2049      6\n",
       "1  2050      9\n",
       "2  2051      6\n",
       "3  2052      0\n",
       "4  2053      3"
      ]
     },
     "execution_count": 7,
     "metadata": {},
     "output_type": "execute_result"
    }
   ],
   "source": [
    "x_test = test.drop(['id', 'letter'], axis=1).values\n",
    "x_test = x_test.reshape(-1, 28, 28, 1)\n",
    "x_test = x_test/255\n",
    "\n",
    "submission = pd.read_csv('data/submission.csv')\n",
    "submission['digit'] = np.argmax(model.predict(x_test), axis=1)\n",
    "submission.head()"
   ]
  },
  {
   "cell_type": "code",
   "execution_count": 8,
   "metadata": {},
   "outputs": [],
   "source": [
    "submission.to_csv('baseline.csv', index=False)"
   ]
  }
 ],
 "metadata": {
  "accelerator": "GPU",
  "colab": {
   "authorship_tag": "ABX9TyOZTGbPe0KUQ0t2Ix4xqg2B",
   "collapsed_sections": [],
   "mount_file_id": "1S8FDTlYroTwnELhXiqf1Fex2MHYRVQTO",
   "name": "baseline.ipynb",
   "provenance": []
  },
  "kernelspec": {
   "display_name": "Python 3",
   "language": "python",
   "name": "python3"
  },
  "language_info": {
   "codemirror_mode": {
    "name": "ipython",
    "version": 3
   },
   "file_extension": ".py",
   "mimetype": "text/x-python",
   "name": "python",
   "nbconvert_exporter": "python",
   "pygments_lexer": "ipython3",
   "version": "3.7.4"
  }
 },
 "nbformat": 4,
 "nbformat_minor": 4
}
